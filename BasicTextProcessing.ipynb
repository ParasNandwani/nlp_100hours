{
  "nbformat": 4,
  "nbformat_minor": 0,
  "metadata": {
    "colab": {
      "name": "BasicTextProcessing.ipynb",
      "provenance": [],
      "toc_visible": true,
      "include_colab_link": true
    },
    "kernelspec": {
      "name": "python3",
      "display_name": "Python 3"
    }
  },
  "cells": [
    {
      "cell_type": "markdown",
      "metadata": {
        "id": "view-in-github",
        "colab_type": "text"
      },
      "source": [
        "<a href=\"https://colab.research.google.com/github/ParasNandwani/nlp_100hours/blob/master/BasicTextProcessing.ipynb\" target=\"_parent\"><img src=\"https://colab.research.google.com/assets/colab-badge.svg\" alt=\"Open In Colab\"/></a>"
      ]
    },
    {
      "cell_type": "markdown",
      "metadata": {
        "id": "hCbS8YfiZ8fi",
        "colab_type": "text"
      },
      "source": [
        "## Basic Text  Processing.    \n",
        "**Creating String In Python**"
      ]
    },
    {
      "cell_type": "code",
      "metadata": {
        "id": "DggTRLbSZJm9",
        "colab_type": "code",
        "colab": {
          "base_uri": "https://localhost:8080/",
          "height": 34
        },
        "outputId": "6f402f6c-6316-4d80-bdf6-afa20ee52246"
      },
      "source": [
        "my_string='hello learners'\n",
        "# my_string=\"hello learners\"\n",
        "# my_string='''hello learners'''\n",
        "print(my_string)"
      ],
      "execution_count": 1,
      "outputs": [
        {
          "output_type": "stream",
          "text": [
            "hello learners\n"
          ],
          "name": "stdout"
        }
      ]
    },
    {
      "cell_type": "code",
      "metadata": {
        "id": "BEw8JfTyaXXK",
        "colab_type": "code",
        "colab": {
          "base_uri": "https://localhost:8080/",
          "height": 51
        },
        "outputId": "175badae-9837-4a0b-e8d1-a8309c1d70fb"
      },
      "source": [
        "# Creating string with triple quotes\n",
        "\n",
        "my_string=\"\"\"Hello learners welcome\n",
        "github \"\"\"\n",
        "\n",
        "print(my_string)"
      ],
      "execution_count": 3,
      "outputs": [
        {
          "output_type": "stream",
          "text": [
            "Hello learners welcome\n",
            "github \n"
          ],
          "name": "stdout"
        }
      ]
    },
    {
      "cell_type": "code",
      "metadata": {
        "id": "Bd_ZsWSKa0EH",
        "colab_type": "code",
        "colab": {
          "base_uri": "https://localhost:8080/",
          "height": 34
        },
        "outputId": "afaf45e4-a440-4d88-8b37-88c61e3c78ad"
      },
      "source": [
        "# r:-raw string........ to ignore escape sequence\n",
        "print(r'hello\\nworld')"
      ],
      "execution_count": 4,
      "outputs": [
        {
          "output_type": "stream",
          "text": [
            "hello\\nworld\n"
          ],
          "name": "stdout"
        }
      ]
    },
    {
      "cell_type": "markdown",
      "metadata": {
        "id": "Si7OKmHPbNU6",
        "colab_type": "text"
      },
      "source": [
        "## Accessing Characters in string and slicing it.\n"
      ]
    },
    {
      "cell_type": "code",
      "metadata": {
        "id": "_j7s9MnVbJKH",
        "colab_type": "code",
        "colab": {
          "base_uri": "https://localhost:8080/",
          "height": 136
        },
        "outputId": "e7baedc4-c96a-4fac-b90b-ff8b5ff4c184"
      },
      "source": [
        "string=\"SupervisedLearing\"\n",
        "print(\"string=\",string)\n",
        "print(\"string[0]=\",string[0]) #first character\n",
        "print(\"string[-1]=\",string[-1]) # Last Character\n",
        "print(\"string[-2]=\",string[-2])# second last character\n",
        "print(\"string[2:5]=\",string[2:5])#slicing 2nd to 5th character\n",
        "print(\"string[5:-2]=\",string[5:-2])#slicing 5th to 2nd Last character\n",
        "print(\"string[0:len(string):2]\",string[0:len(string):2])# printing all the string characters and skipping the ecery 2nd chaaracter"
      ],
      "execution_count": 10,
      "outputs": [
        {
          "output_type": "stream",
          "text": [
            "string= SupervisedLearing\n",
            "string[0]= S\n",
            "string[-1]= g\n",
            "string[-2]= n\n",
            "string[2:5]= per\n",
            "string[5:-2]= visedLeari\n",
            "string[0:len(string):2] SprieLaig\n"
          ],
          "name": "stdout"
        }
      ]
    },
    {
      "cell_type": "markdown",
      "metadata": {
        "id": "RjstVxLfdCR6",
        "colab_type": "text"
      },
      "source": [
        "## Deleting a string.     \n",
        "\n"
      ]
    },
    {
      "cell_type": "code",
      "metadata": {
        "id": "R3G8kHZfdHdQ",
        "colab_type": "code",
        "colab": {
          "base_uri": "https://localhost:8080/",
          "height": 164
        },
        "outputId": "09343b5f-70cd-41ec-eacc-cbdded27baf5"
      },
      "source": [
        "del string"
      ],
      "execution_count": 12,
      "outputs": [
        {
          "output_type": "error",
          "ename": "NameError",
          "evalue": "ignored",
          "traceback": [
            "\u001b[0;31m---------------------------------------------------------------------------\u001b[0m",
            "\u001b[0;31mNameError\u001b[0m                                 Traceback (most recent call last)",
            "\u001b[0;32m<ipython-input-12-f9d2357bf987>\u001b[0m in \u001b[0;36m<module>\u001b[0;34m()\u001b[0m\n\u001b[0;32m----> 1\u001b[0;31m \u001b[0;32mdel\u001b[0m \u001b[0mstring\u001b[0m\u001b[0;34m\u001b[0m\u001b[0;34m\u001b[0m\u001b[0m\n\u001b[0m",
            "\u001b[0;31mNameError\u001b[0m: name 'string' is not defined"
          ]
        }
      ]
    },
    {
      "cell_type": "markdown",
      "metadata": {
        "id": "8SVzBny9dMZP",
        "colab_type": "text"
      },
      "source": [
        "## Concatination of two or more strings"
      ]
    },
    {
      "cell_type": "code",
      "metadata": {
        "id": "4lBHY8v4dJ0J",
        "colab_type": "code",
        "colab": {
          "base_uri": "https://localhost:8080/",
          "height": 34
        },
        "outputId": "9fd6b3ed-24d9-4a36-c6b1-8a565d287ba7"
      },
      "source": [
        "str1='hello'\n",
        "str2='Learners!'\n",
        "\n",
        "print(\"str1+str2 = \",str1+str2)#using + operator"
      ],
      "execution_count": 13,
      "outputs": [
        {
          "output_type": "stream",
          "text": [
            "str1+str2 helloLearners!\n"
          ],
          "name": "stdout"
        }
      ]
    },
    {
      "cell_type": "code",
      "metadata": {
        "id": "rjCNmvDTeNXG",
        "colab_type": "code",
        "colab": {
          "base_uri": "https://localhost:8080/",
          "height": 34
        },
        "outputId": "b293105f-4767-4509-f8d1-4adb5543e94a"
      },
      "source": [
        "print(\"str1 *3 = \",(str1+\" \")*3)# using *"
      ],
      "execution_count": 14,
      "outputs": [
        {
          "output_type": "stream",
          "text": [
            "str1 *3  hello hello hello \n"
          ],
          "name": "stdout"
        }
      ]
    },
    {
      "cell_type": "code",
      "metadata": {
        "id": "9ykuu0szer4m",
        "colab_type": "code",
        "colab": {
          "base_uri": "https://localhost:8080/",
          "height": 34
        },
        "outputId": "6b4c42e7-5678-4fb5-d0b6-42fce5ed0264"
      },
      "source": [
        "# using .join\n",
        "\" \".join([str1,str2])"
      ],
      "execution_count": 16,
      "outputs": [
        {
          "output_type": "execute_result",
          "data": {
            "text/plain": [
              "'hello Learners!'"
            ]
          },
          "metadata": {
            "tags": []
          },
          "execution_count": 16
        }
      ]
    },
    {
      "cell_type": "markdown",
      "metadata": {
        "id": "x4-cFm61fNk1",
        "colab_type": "text"
      },
      "source": [
        "## String Membership Test\n"
      ]
    },
    {
      "cell_type": "code",
      "metadata": {
        "id": "0dSlI-tYfFn4",
        "colab_type": "code",
        "colab": {
          "base_uri": "https://localhost:8080/",
          "height": 34
        },
        "outputId": "69fb1db4-4a41-43cd-8d7e-4b869228c391"
      },
      "source": [
        "'N' in 'NLP'"
      ],
      "execution_count": 17,
      "outputs": [
        {
          "output_type": "execute_result",
          "data": {
            "text/plain": [
              "True"
            ]
          },
          "metadata": {
            "tags": []
          },
          "execution_count": 17
        }
      ]
    },
    {
      "cell_type": "code",
      "metadata": {
        "id": "kqG0n70CfTSh",
        "colab_type": "code",
        "colab": {
          "base_uri": "https://localhost:8080/",
          "height": 34
        },
        "outputId": "25db4f01-31b1-498a-972c-e40055a00cc6"
      },
      "source": [
        "'Y' in 'NLP'"
      ],
      "execution_count": 18,
      "outputs": [
        {
          "output_type": "execute_result",
          "data": {
            "text/plain": [
              "False"
            ]
          },
          "metadata": {
            "tags": []
          },
          "execution_count": 18
        }
      ]
    },
    {
      "cell_type": "code",
      "metadata": {
        "id": "bv1eyAAefXFu",
        "colab_type": "code",
        "colab": {
          "base_uri": "https://localhost:8080/",
          "height": 34
        },
        "outputId": "20facfd9-0475-47a3-85c1-096f48ab4eb0"
      },
      "source": [
        "'NL' in 'NLP'"
      ],
      "execution_count": 19,
      "outputs": [
        {
          "output_type": "execute_result",
          "data": {
            "text/plain": [
              "True"
            ]
          },
          "metadata": {
            "tags": []
          },
          "execution_count": 19
        }
      ]
    },
    {
      "cell_type": "markdown",
      "metadata": {
        "id": "JPXOwVWqfb_t",
        "colab_type": "text"
      },
      "source": [
        "## Formatting of String"
      ]
    },
    {
      "cell_type": "code",
      "metadata": {
        "id": "APxf8KI7fgj0",
        "colab_type": "code",
        "colab": {
          "base_uri": "https://localhost:8080/",
          "height": 34
        },
        "outputId": "83be490b-699e-4121-adf3-f3b7a7b8dffe"
      },
      "source": [
        "String=\"{} {} {}\".format('natural','language','processing')\n",
        "print(String)"
      ],
      "execution_count": 21,
      "outputs": [
        {
          "output_type": "stream",
          "text": [
            "natural language processing\n"
          ],
          "name": "stdout"
        }
      ]
    },
    {
      "cell_type": "code",
      "metadata": {
        "id": "IH9Qj6J3fztT",
        "colab_type": "code",
        "colab": {
          "base_uri": "https://localhost:8080/",
          "height": 34
        },
        "outputId": "318f3cea-9b5e-4c5c-f5e3-2d53123f594f"
      },
      "source": [
        "String1=\"{1} {0} {2}\".format('Language','Natural','Processing')\n",
        "print(String1)"
      ],
      "execution_count": 22,
      "outputs": [
        {
          "output_type": "stream",
          "text": [
            "Natural Language Processing\n"
          ],
          "name": "stdout"
        }
      ]
    },
    {
      "cell_type": "code",
      "metadata": {
        "id": "kTpdoBAxgK1O",
        "colab_type": "code",
        "colab": {
          "base_uri": "https://localhost:8080/",
          "height": 34
        },
        "outputId": "a50cdb8c-abb5-49f5-fa46-9b5c55e7672a"
      },
      "source": [
        "# keyword formatting\n",
        "String2=\"{n} {l} {p}\".format(l='language',n='natural',p='processing')\n",
        "print(String2)"
      ],
      "execution_count": 23,
      "outputs": [
        {
          "output_type": "stream",
          "text": [
            "natural language processing\n"
          ],
          "name": "stdout"
        }
      ]
    },
    {
      "cell_type": "markdown",
      "metadata": {
        "id": "eHVXepcFmYGx",
        "colab_type": "text"
      },
      "source": [
        "**f-Strings:A new and improved way to format strings python**"
      ]
    },
    {
      "cell_type": "code",
      "metadata": {
        "id": "7RqGH2gEmVQb",
        "colab_type": "code",
        "colab": {
          "base_uri": "https://localhost:8080/",
          "height": 34
        },
        "outputId": "b43f20e6-2ac3-48ed-b628-cc9d1d7f8672"
      },
      "source": [
        "name='Tushar'\n",
        "age=28\n",
        "print(f'Hello,{name} you are {age} years old')"
      ],
      "execution_count": 24,
      "outputs": [
        {
          "output_type": "stream",
          "text": [
            "Hello,Tushar you are 28 years old\n"
          ],
          "name": "stdout"
        }
      ]
    },
    {
      "cell_type": "code",
      "metadata": {
        "id": "jvz-3XE7m2IC",
        "colab_type": "code",
        "colab": {
          "base_uri": "https://localhost:8080/",
          "height": 34
        },
        "outputId": "b2433629-0330-43d0-9ea8-c6767d2541e4"
      },
      "source": [
        "print(f'{2*37}')"
      ],
      "execution_count": 25,
      "outputs": [
        {
          "output_type": "stream",
          "text": [
            "74\n"
          ],
          "name": "stdout"
        }
      ]
    },
    {
      "cell_type": "markdown",
      "metadata": {
        "id": "l44dv75OnWQE",
        "colab_type": "text"
      },
      "source": [
        "**The f in f-strings may as well as stand for -fast**"
      ]
    },
    {
      "cell_type": "code",
      "metadata": {
        "id": "ckIMTbBNnQzX",
        "colab_type": "code",
        "colab": {
          "base_uri": "https://localhost:8080/",
          "height": 34
        },
        "outputId": "940514cb-3f36-4a77-fa6d-5b48d21381f7"
      },
      "source": [
        "import timeit\n",
        "string4=\"\"\"\n",
        "name=\"Tushar\"\n",
        "age=23\n",
        "'{} is {}'.format(name,age)\n",
        "\"\"\"\n",
        "timeit.timeit(string4,number=1000)"
      ],
      "execution_count": 26,
      "outputs": [
        {
          "output_type": "execute_result",
          "data": {
            "text/plain": [
              "0.0004100199998902099"
            ]
          },
          "metadata": {
            "tags": []
          },
          "execution_count": 26
        }
      ]
    },
    {
      "cell_type": "code",
      "metadata": {
        "id": "pYMVV0pNoWpG",
        "colab_type": "code",
        "colab": {
          "base_uri": "https://localhost:8080/",
          "height": 34
        },
        "outputId": "0026b7e9-d766-44dc-ebd1-914d8724b3d5"
      },
      "source": [
        "import timeit\n",
        "string4=\"\"\"\n",
        "name=\"Tushar\"\n",
        "age=23\n",
        "f'{name} is {age}'\n",
        "\"\"\"\n",
        "timeit.timeit(string4,number=1000)"
      ],
      "execution_count": 27,
      "outputs": [
        {
          "output_type": "execute_result",
          "data": {
            "text/plain": [
              "0.0002825339997798437"
            ]
          },
          "metadata": {
            "tags": []
          },
          "execution_count": 27
        }
      ]
    },
    {
      "cell_type": "code",
      "metadata": {
        "id": "CdiOa9RpohIK",
        "colab_type": "code",
        "colab": {
          "base_uri": "https://localhost:8080/",
          "height": 85
        },
        "outputId": "1878a565-2948-45b3-bd3d-610f904fab83"
      },
      "source": [
        "# Spacing and padding in f strings\n",
        "library = [('Author', 'Topic', 'Pages'), ('Twain', 'Rafting', 601), ('Feynman', 'Physics', 95), ('Hamilton', 'Mythology', 144)]\n",
        "for book in library:\n",
        "  print(f'{book[0]:{10}}{book[1]:{10}} {book[2]:{5}}')"
      ],
      "execution_count": 34,
      "outputs": [
        {
          "output_type": "stream",
          "text": [
            "Author    Topic      Pages\n",
            "Twain     Rafting      601\n",
            "Feynman   Physics       95\n",
            "Hamilton  Mythology    144\n"
          ],
          "name": "stdout"
        }
      ]
    },
    {
      "cell_type": "markdown",
      "metadata": {
        "id": "7jYsPo59pNEv",
        "colab_type": "text"
      },
      "source": [
        "**String Function**\n"
      ]
    },
    {
      "cell_type": "code",
      "metadata": {
        "id": "LtlL9WgWpK_M",
        "colab_type": "code",
        "colab": {}
      },
      "source": [
        "import pandas as pd\n"
      ],
      "execution_count": 0,
      "outputs": []
    },
    {
      "cell_type": "code",
      "metadata": {
        "id": "kWbL_oqDpWqV",
        "colab_type": "code",
        "colab": {}
      },
      "source": [
        "string_functions= pd.read_html('https://www.programiz.com/python-programming/methods/string')"
      ],
      "execution_count": 0,
      "outputs": []
    },
    {
      "cell_type": "code",
      "metadata": {
        "id": "wLofMdwGpXvK",
        "colab_type": "code",
        "colab": {}
      },
      "source": [
        "string_functions=string_functions[0]"
      ],
      "execution_count": 0,
      "outputs": []
    },
    {
      "cell_type": "code",
      "metadata": {
        "id": "_NvHbRHApboP",
        "colab_type": "code",
        "colab": {}
      },
      "source": [
        "pd.set_option('display.max_rows',100)"
      ],
      "execution_count": 0,
      "outputs": []
    },
    {
      "cell_type": "code",
      "metadata": {
        "id": "2PX87nrfplrh",
        "colab_type": "code",
        "colab": {
          "base_uri": "https://localhost:8080/",
          "height": 1000
        },
        "outputId": "7c3819f6-0eab-4b38-be80-d3ff2c17f382"
      },
      "source": [
        "string_functions\n"
      ],
      "execution_count": 39,
      "outputs": [
        {
          "output_type": "execute_result",
          "data": {
            "text/html": [
              "<div>\n",
              "<style scoped>\n",
              "    .dataframe tbody tr th:only-of-type {\n",
              "        vertical-align: middle;\n",
              "    }\n",
              "\n",
              "    .dataframe tbody tr th {\n",
              "        vertical-align: top;\n",
              "    }\n",
              "\n",
              "    .dataframe thead th {\n",
              "        text-align: right;\n",
              "    }\n",
              "</style>\n",
              "<table border=\"1\" class=\"dataframe\">\n",
              "  <thead>\n",
              "    <tr style=\"text-align: right;\">\n",
              "      <th></th>\n",
              "      <th>Method</th>\n",
              "      <th>Description</th>\n",
              "    </tr>\n",
              "  </thead>\n",
              "  <tbody>\n",
              "    <tr>\n",
              "      <th>0</th>\n",
              "      <td>Python String capitalize()</td>\n",
              "      <td>Converts first character to Capital Letter</td>\n",
              "    </tr>\n",
              "    <tr>\n",
              "      <th>1</th>\n",
              "      <td>Python String center()</td>\n",
              "      <td>Pads string with specified character</td>\n",
              "    </tr>\n",
              "    <tr>\n",
              "      <th>2</th>\n",
              "      <td>Python String casefold()</td>\n",
              "      <td>converts to casefolded strings</td>\n",
              "    </tr>\n",
              "    <tr>\n",
              "      <th>3</th>\n",
              "      <td>Python String count()</td>\n",
              "      <td>returns occurrences of substring in string</td>\n",
              "    </tr>\n",
              "    <tr>\n",
              "      <th>4</th>\n",
              "      <td>Python String endswith()</td>\n",
              "      <td>Checks if String Ends with the Specified Suffix</td>\n",
              "    </tr>\n",
              "    <tr>\n",
              "      <th>5</th>\n",
              "      <td>Python String expandtabs()</td>\n",
              "      <td>Replaces Tab character With Spaces</td>\n",
              "    </tr>\n",
              "    <tr>\n",
              "      <th>6</th>\n",
              "      <td>Python String encode()</td>\n",
              "      <td>returns encoded string of given string</td>\n",
              "    </tr>\n",
              "    <tr>\n",
              "      <th>7</th>\n",
              "      <td>Python String find()</td>\n",
              "      <td>Returns the index of first occurrence of subst...</td>\n",
              "    </tr>\n",
              "    <tr>\n",
              "      <th>8</th>\n",
              "      <td>Python String format()</td>\n",
              "      <td>formats string into nicer output</td>\n",
              "    </tr>\n",
              "    <tr>\n",
              "      <th>9</th>\n",
              "      <td>Python String index()</td>\n",
              "      <td>Returns Index of Substring</td>\n",
              "    </tr>\n",
              "    <tr>\n",
              "      <th>10</th>\n",
              "      <td>Python String isalnum()</td>\n",
              "      <td>Checks Alphanumeric Character</td>\n",
              "    </tr>\n",
              "    <tr>\n",
              "      <th>11</th>\n",
              "      <td>Python String isalpha()</td>\n",
              "      <td>Checks if All Characters are Alphabets</td>\n",
              "    </tr>\n",
              "    <tr>\n",
              "      <th>12</th>\n",
              "      <td>Python String isdecimal()</td>\n",
              "      <td>Checks Decimal Characters</td>\n",
              "    </tr>\n",
              "    <tr>\n",
              "      <th>13</th>\n",
              "      <td>Python String isdigit()</td>\n",
              "      <td>Checks Digit Characters</td>\n",
              "    </tr>\n",
              "    <tr>\n",
              "      <th>14</th>\n",
              "      <td>Python String isidentifier()</td>\n",
              "      <td>Checks for Valid Identifier</td>\n",
              "    </tr>\n",
              "    <tr>\n",
              "      <th>15</th>\n",
              "      <td>Python String islower()</td>\n",
              "      <td>Checks if all Alphabets in a String are Lowercase</td>\n",
              "    </tr>\n",
              "    <tr>\n",
              "      <th>16</th>\n",
              "      <td>Python String isnumeric()</td>\n",
              "      <td>Checks Numeric Characters</td>\n",
              "    </tr>\n",
              "    <tr>\n",
              "      <th>17</th>\n",
              "      <td>Python String isprintable()</td>\n",
              "      <td>Checks Printable Character</td>\n",
              "    </tr>\n",
              "    <tr>\n",
              "      <th>18</th>\n",
              "      <td>Python String isspace()</td>\n",
              "      <td>Checks Whitespace Characters</td>\n",
              "    </tr>\n",
              "    <tr>\n",
              "      <th>19</th>\n",
              "      <td>Python String istitle()</td>\n",
              "      <td>Checks for Titlecased String</td>\n",
              "    </tr>\n",
              "    <tr>\n",
              "      <th>20</th>\n",
              "      <td>Python String isupper()</td>\n",
              "      <td>returns if all characters are uppercase charac...</td>\n",
              "    </tr>\n",
              "    <tr>\n",
              "      <th>21</th>\n",
              "      <td>Python String join()</td>\n",
              "      <td>Returns a Concatenated String</td>\n",
              "    </tr>\n",
              "    <tr>\n",
              "      <th>22</th>\n",
              "      <td>Python String ljust()</td>\n",
              "      <td>returns left-justified string of given width</td>\n",
              "    </tr>\n",
              "    <tr>\n",
              "      <th>23</th>\n",
              "      <td>Python String rjust()</td>\n",
              "      <td>returns right-justified string of given width</td>\n",
              "    </tr>\n",
              "    <tr>\n",
              "      <th>24</th>\n",
              "      <td>Python String lower()</td>\n",
              "      <td>returns lowercased string</td>\n",
              "    </tr>\n",
              "    <tr>\n",
              "      <th>25</th>\n",
              "      <td>Python String upper()</td>\n",
              "      <td>returns uppercased string</td>\n",
              "    </tr>\n",
              "    <tr>\n",
              "      <th>26</th>\n",
              "      <td>Python String swapcase()</td>\n",
              "      <td>swap uppercase characters to lowercase; vice v...</td>\n",
              "    </tr>\n",
              "    <tr>\n",
              "      <th>27</th>\n",
              "      <td>Python String lstrip()</td>\n",
              "      <td>Removes Leading Characters</td>\n",
              "    </tr>\n",
              "    <tr>\n",
              "      <th>28</th>\n",
              "      <td>Python String rstrip()</td>\n",
              "      <td>Removes Trailing Characters</td>\n",
              "    </tr>\n",
              "    <tr>\n",
              "      <th>29</th>\n",
              "      <td>Python String strip()</td>\n",
              "      <td>Removes Both Leading and Trailing Characters</td>\n",
              "    </tr>\n",
              "    <tr>\n",
              "      <th>30</th>\n",
              "      <td>Python String partition()</td>\n",
              "      <td>Returns a Tuple</td>\n",
              "    </tr>\n",
              "    <tr>\n",
              "      <th>31</th>\n",
              "      <td>Python String maketrans()</td>\n",
              "      <td>returns a translation table</td>\n",
              "    </tr>\n",
              "    <tr>\n",
              "      <th>32</th>\n",
              "      <td>Python String rpartition()</td>\n",
              "      <td>Returns a Tuple</td>\n",
              "    </tr>\n",
              "    <tr>\n",
              "      <th>33</th>\n",
              "      <td>Python String translate()</td>\n",
              "      <td>returns mapped charactered string</td>\n",
              "    </tr>\n",
              "    <tr>\n",
              "      <th>34</th>\n",
              "      <td>Python String replace()</td>\n",
              "      <td>Replaces Substring Inside</td>\n",
              "    </tr>\n",
              "    <tr>\n",
              "      <th>35</th>\n",
              "      <td>Python String rfind()</td>\n",
              "      <td>Returns the Highest Index of Substring</td>\n",
              "    </tr>\n",
              "    <tr>\n",
              "      <th>36</th>\n",
              "      <td>Python String rindex()</td>\n",
              "      <td>Returns Highest Index of Substring</td>\n",
              "    </tr>\n",
              "    <tr>\n",
              "      <th>37</th>\n",
              "      <td>Python String split()</td>\n",
              "      <td>Splits String from Left</td>\n",
              "    </tr>\n",
              "    <tr>\n",
              "      <th>38</th>\n",
              "      <td>Python String rsplit()</td>\n",
              "      <td>Splits String From Right</td>\n",
              "    </tr>\n",
              "    <tr>\n",
              "      <th>39</th>\n",
              "      <td>Python String splitlines()</td>\n",
              "      <td>Splits String at Line Boundaries</td>\n",
              "    </tr>\n",
              "    <tr>\n",
              "      <th>40</th>\n",
              "      <td>Python String startswith()</td>\n",
              "      <td>Checks if String Starts with the Specified String</td>\n",
              "    </tr>\n",
              "    <tr>\n",
              "      <th>41</th>\n",
              "      <td>Python String title()</td>\n",
              "      <td>Returns a Title Cased String</td>\n",
              "    </tr>\n",
              "    <tr>\n",
              "      <th>42</th>\n",
              "      <td>Python String zfill()</td>\n",
              "      <td>Returns a Copy of The String Padded With Zeros</td>\n",
              "    </tr>\n",
              "    <tr>\n",
              "      <th>43</th>\n",
              "      <td>Python String format_map()</td>\n",
              "      <td>Formats the String Using Dictionary</td>\n",
              "    </tr>\n",
              "    <tr>\n",
              "      <th>44</th>\n",
              "      <td>Python any()</td>\n",
              "      <td>Checks if any Element of an Iterable is True</td>\n",
              "    </tr>\n",
              "    <tr>\n",
              "      <th>45</th>\n",
              "      <td>Python all()</td>\n",
              "      <td>returns true when all elements in iterable is ...</td>\n",
              "    </tr>\n",
              "    <tr>\n",
              "      <th>46</th>\n",
              "      <td>Python ascii()</td>\n",
              "      <td>Returns String Containing Printable Representa...</td>\n",
              "    </tr>\n",
              "    <tr>\n",
              "      <th>47</th>\n",
              "      <td>Python bool()</td>\n",
              "      <td>Converts a Value to Boolean</td>\n",
              "    </tr>\n",
              "    <tr>\n",
              "      <th>48</th>\n",
              "      <td>Python bytearray()</td>\n",
              "      <td>returns array of given byte size</td>\n",
              "    </tr>\n",
              "    <tr>\n",
              "      <th>49</th>\n",
              "      <td>Python bytes()</td>\n",
              "      <td>returns immutable bytes object</td>\n",
              "    </tr>\n",
              "    <tr>\n",
              "      <th>50</th>\n",
              "      <td>Python compile()</td>\n",
              "      <td>Returns a Python code object</td>\n",
              "    </tr>\n",
              "    <tr>\n",
              "      <th>51</th>\n",
              "      <td>Python complex()</td>\n",
              "      <td>Creates a Complex Number</td>\n",
              "    </tr>\n",
              "    <tr>\n",
              "      <th>52</th>\n",
              "      <td>Python enumerate()</td>\n",
              "      <td>Returns an Enumerate Object</td>\n",
              "    </tr>\n",
              "    <tr>\n",
              "      <th>53</th>\n",
              "      <td>Python filter()</td>\n",
              "      <td>constructs iterator from elements which are true</td>\n",
              "    </tr>\n",
              "    <tr>\n",
              "      <th>54</th>\n",
              "      <td>Python float()</td>\n",
              "      <td>returns floating point number from number, string</td>\n",
              "    </tr>\n",
              "    <tr>\n",
              "      <th>55</th>\n",
              "      <td>Python input()</td>\n",
              "      <td>reads and returns a line of string</td>\n",
              "    </tr>\n",
              "    <tr>\n",
              "      <th>56</th>\n",
              "      <td>Python int()</td>\n",
              "      <td>returns integer from a number or string</td>\n",
              "    </tr>\n",
              "    <tr>\n",
              "      <th>57</th>\n",
              "      <td>Python iter()</td>\n",
              "      <td>returns iterator for an object</td>\n",
              "    </tr>\n",
              "    <tr>\n",
              "      <th>58</th>\n",
              "      <td>Python len()</td>\n",
              "      <td>Returns Length of an Object</td>\n",
              "    </tr>\n",
              "    <tr>\n",
              "      <th>59</th>\n",
              "      <td>Python max()</td>\n",
              "      <td>returns largest element</td>\n",
              "    </tr>\n",
              "    <tr>\n",
              "      <th>60</th>\n",
              "      <td>Python min()</td>\n",
              "      <td>returns smallest element</td>\n",
              "    </tr>\n",
              "    <tr>\n",
              "      <th>61</th>\n",
              "      <td>Python map()</td>\n",
              "      <td>Applies Function and Returns a List</td>\n",
              "    </tr>\n",
              "    <tr>\n",
              "      <th>62</th>\n",
              "      <td>Python ord()</td>\n",
              "      <td>returns Unicode code point for Unicode character</td>\n",
              "    </tr>\n",
              "    <tr>\n",
              "      <th>63</th>\n",
              "      <td>Python reversed()</td>\n",
              "      <td>returns reversed iterator of a sequence</td>\n",
              "    </tr>\n",
              "    <tr>\n",
              "      <th>64</th>\n",
              "      <td>Python slice()</td>\n",
              "      <td>creates a slice object specified by range()</td>\n",
              "    </tr>\n",
              "    <tr>\n",
              "      <th>65</th>\n",
              "      <td>Python sorted()</td>\n",
              "      <td>returns sorted list from a given iterable</td>\n",
              "    </tr>\n",
              "    <tr>\n",
              "      <th>66</th>\n",
              "      <td>Python sum()</td>\n",
              "      <td>Add items of an Iterable</td>\n",
              "    </tr>\n",
              "    <tr>\n",
              "      <th>67</th>\n",
              "      <td>Python zip()</td>\n",
              "      <td>Returns an Iterator of Tuples</td>\n",
              "    </tr>\n",
              "  </tbody>\n",
              "</table>\n",
              "</div>"
            ],
            "text/plain": [
              "                          Method                                        Description\n",
              "0     Python String capitalize()         Converts first character to Capital Letter\n",
              "1         Python String center()               Pads string with specified character\n",
              "2       Python String casefold()                     converts to casefolded strings\n",
              "3          Python String count()         returns occurrences of substring in string\n",
              "4       Python String endswith()    Checks if String Ends with the Specified Suffix\n",
              "5     Python String expandtabs()                 Replaces Tab character With Spaces\n",
              "6         Python String encode()             returns encoded string of given string\n",
              "7           Python String find()  Returns the index of first occurrence of subst...\n",
              "8         Python String format()                   formats string into nicer output\n",
              "9          Python String index()                         Returns Index of Substring\n",
              "10       Python String isalnum()                      Checks Alphanumeric Character\n",
              "11       Python String isalpha()             Checks if All Characters are Alphabets\n",
              "12     Python String isdecimal()                          Checks Decimal Characters\n",
              "13       Python String isdigit()                            Checks Digit Characters\n",
              "14  Python String isidentifier()                        Checks for Valid Identifier\n",
              "15       Python String islower()  Checks if all Alphabets in a String are Lowercase\n",
              "16     Python String isnumeric()                          Checks Numeric Characters\n",
              "17   Python String isprintable()                         Checks Printable Character\n",
              "18       Python String isspace()                       Checks Whitespace Characters\n",
              "19       Python String istitle()                       Checks for Titlecased String\n",
              "20       Python String isupper()  returns if all characters are uppercase charac...\n",
              "21          Python String join()                      Returns a Concatenated String\n",
              "22         Python String ljust()       returns left-justified string of given width\n",
              "23         Python String rjust()      returns right-justified string of given width\n",
              "24         Python String lower()                          returns lowercased string\n",
              "25         Python String upper()                          returns uppercased string\n",
              "26      Python String swapcase()  swap uppercase characters to lowercase; vice v...\n",
              "27        Python String lstrip()                         Removes Leading Characters\n",
              "28        Python String rstrip()                        Removes Trailing Characters\n",
              "29         Python String strip()       Removes Both Leading and Trailing Characters\n",
              "30     Python String partition()                                    Returns a Tuple\n",
              "31     Python String maketrans()                        returns a translation table\n",
              "32    Python String rpartition()                                    Returns a Tuple\n",
              "33     Python String translate()                  returns mapped charactered string\n",
              "34       Python String replace()                          Replaces Substring Inside\n",
              "35         Python String rfind()             Returns the Highest Index of Substring\n",
              "36        Python String rindex()                 Returns Highest Index of Substring\n",
              "37         Python String split()                            Splits String from Left\n",
              "38        Python String rsplit()                           Splits String From Right\n",
              "39    Python String splitlines()                   Splits String at Line Boundaries\n",
              "40    Python String startswith()  Checks if String Starts with the Specified String\n",
              "41         Python String title()                       Returns a Title Cased String\n",
              "42         Python String zfill()     Returns a Copy of The String Padded With Zeros\n",
              "43    Python String format_map()                Formats the String Using Dictionary\n",
              "44                  Python any()       Checks if any Element of an Iterable is True\n",
              "45                  Python all()  returns true when all elements in iterable is ...\n",
              "46                Python ascii()  Returns String Containing Printable Representa...\n",
              "47                 Python bool()                        Converts a Value to Boolean\n",
              "48            Python bytearray()                   returns array of given byte size\n",
              "49                Python bytes()                     returns immutable bytes object\n",
              "50              Python compile()                       Returns a Python code object\n",
              "51              Python complex()                           Creates a Complex Number\n",
              "52            Python enumerate()                        Returns an Enumerate Object\n",
              "53               Python filter()   constructs iterator from elements which are true\n",
              "54                Python float()  returns floating point number from number, string\n",
              "55                Python input()                 reads and returns a line of string\n",
              "56                  Python int()            returns integer from a number or string\n",
              "57                 Python iter()                     returns iterator for an object\n",
              "58                  Python len()                        Returns Length of an Object\n",
              "59                  Python max()                            returns largest element\n",
              "60                  Python min()                           returns smallest element\n",
              "61                  Python map()                Applies Function and Returns a List\n",
              "62                  Python ord()   returns Unicode code point for Unicode character\n",
              "63             Python reversed()            returns reversed iterator of a sequence\n",
              "64                Python slice()        creates a slice object specified by range()\n",
              "65               Python sorted()          returns sorted list from a given iterable\n",
              "66                  Python sum()                           Add items of an Iterable\n",
              "67                  Python zip()                      Returns an Iterator of Tuples"
            ]
          },
          "metadata": {
            "tags": []
          },
          "execution_count": 39
        }
      ]
    },
    {
      "cell_type": "markdown",
      "metadata": {
        "id": "EGQOKNQYpt6e",
        "colab_type": "text"
      },
      "source": [
        "**Some most commonly used functions**"
      ]
    },
    {
      "cell_type": "code",
      "metadata": {
        "id": "utm55oflpoa1",
        "colab_type": "code",
        "colab": {
          "base_uri": "https://localhost:8080/",
          "height": 34
        },
        "outputId": "b01b408c-9c47-4e89-a1c1-941a646517a9"
      },
      "source": [
        "string=\"supervisedlearning\"\n",
        "print(string.capitalize())#Capitalizes the target string first character\n"
      ],
      "execution_count": 40,
      "outputs": [
        {
          "output_type": "stream",
          "text": [
            "Superviedlearning\n"
          ],
          "name": "stdout"
        }
      ]
    },
    {
      "cell_type": "code",
      "metadata": {
        "id": "XmNMGGm6qOR-",
        "colab_type": "code",
        "colab": {
          "base_uri": "https://localhost:8080/",
          "height": 34
        },
        "outputId": "d74b77bd-be41-4e01-db5f-46c5d65bcc9b"
      },
      "source": [
        "string1=\"SupervisedLearning\"\n",
        "print(string1.lower())#returns string characters converted to lower case"
      ],
      "execution_count": 41,
      "outputs": [
        {
          "output_type": "stream",
          "text": [
            "supervusedlearning\n"
          ],
          "name": "stdout"
        }
      ]
    },
    {
      "cell_type": "code",
      "metadata": {
        "id": "9VEI8QzEqgeL",
        "colab_type": "code",
        "colab": {
          "base_uri": "https://localhost:8080/",
          "height": 34
        },
        "outputId": "e7deaaea-3d3e-42f9-8aab-18d80bb87247"
      },
      "source": [
        "string=\"natural language processing\"\n",
        "print(string.title())"
      ],
      "execution_count": 42,
      "outputs": [
        {
          "output_type": "stream",
          "text": [
            "Natural Language Processing\n"
          ],
          "name": "stdout"
        }
      ]
    },
    {
      "cell_type": "code",
      "metadata": {
        "id": "wGBplH4QrHZt",
        "colab_type": "code",
        "colab": {
          "base_uri": "https://localhost:8080/",
          "height": 34
        },
        "outputId": "ea77521f-5778-470e-afba-81ff347db01b"
      },
      "source": [
        "string4=\"supervisedlearning\"\n",
        "print(string4.upper())"
      ],
      "execution_count": 43,
      "outputs": [
        {
          "output_type": "stream",
          "text": [
            "SUPERVISEDLEARNING\n"
          ],
          "name": "stdout"
        }
      ]
    },
    {
      "cell_type": "code",
      "metadata": {
        "id": "vdnlalrXrRTs",
        "colab_type": "code",
        "colab": {
          "base_uri": "https://localhost:8080/",
          "height": 34
        },
        "outputId": "55d0cb50-e4e6-4157-b35d-06e9a0ad6aef"
      },
      "source": [
        "string= \"Supervised,Learning\"\n",
        "string.split(',')"
      ],
      "execution_count": 44,
      "outputs": [
        {
          "output_type": "execute_result",
          "data": {
            "text/plain": [
              "['Supervised', 'Learning']"
            ]
          },
          "metadata": {
            "tags": []
          },
          "execution_count": 44
        }
      ]
    },
    {
      "cell_type": "markdown",
      "metadata": {
        "id": "7DLanUGOre4S",
        "colab_type": "text"
      },
      "source": [
        "### Working with text files"
      ]
    },
    {
      "cell_type": "code",
      "metadata": {
        "id": "QhwzPsGdrZbi",
        "colab_type": "code",
        "colab": {}
      },
      "source": [
        "import os"
      ],
      "execution_count": 0,
      "outputs": []
    },
    {
      "cell_type": "code",
      "metadata": {
        "id": "wMqE-Wudrjwd",
        "colab_type": "code",
        "colab": {
          "base_uri": "https://localhost:8080/",
          "height": 34
        },
        "outputId": "45fa978a-04ac-4064-a17f-bdd95e7c85de"
      },
      "source": [
        "os.getcwd()"
      ],
      "execution_count": 47,
      "outputs": [
        {
          "output_type": "execute_result",
          "data": {
            "text/plain": [
              "'/content'"
            ]
          },
          "metadata": {
            "tags": []
          },
          "execution_count": 47
        }
      ]
    },
    {
      "cell_type": "code",
      "metadata": {
        "id": "L92t5zNsroiI",
        "colab_type": "code",
        "colab": {
          "base_uri": "https://localhost:8080/",
          "height": 34
        },
        "outputId": "3d85e670-a8dc-4682-dfac-147d7b96f600"
      },
      "source": [
        "# Downloading using urlretrieve from http request\n",
        "import urllib\n",
        "urllib.request.urlretrieve(\"https://ocw.mit.edu/ans7870/6/6.006/s08/lecturenotes/files/t8.shakespeare.txt\", \"shakespeare.txt\")"
      ],
      "execution_count": 48,
      "outputs": [
        {
          "output_type": "execute_result",
          "data": {
            "text/plain": [
              "('shakespeare.txt', <http.client.HTTPMessage at 0x7f4a50512ef0>)"
            ]
          },
          "metadata": {
            "tags": []
          },
          "execution_count": 48
        }
      ]
    },
    {
      "cell_type": "code",
      "metadata": {
        "id": "s0VwdU0gs5_9",
        "colab_type": "code",
        "colab": {}
      },
      "source": [
        "my_file=open('shakespeare.txt')"
      ],
      "execution_count": 0,
      "outputs": []
    },
    {
      "cell_type": "code",
      "metadata": {
        "id": "hAnp8GZDtByN",
        "colab_type": "code",
        "colab": {
          "base_uri": "https://localhost:8080/",
          "height": 54
        },
        "outputId": "23db8d82-ac98-442d-9fb9-945cc9e2b66c"
      },
      "source": [
        "contents=my_file.read()\n",
        "contents[:500]"
      ],
      "execution_count": 50,
      "outputs": [
        {
          "output_type": "execute_result",
          "data": {
            "text/plain": [
              "'This is the 100th Etext file presented by Project Gutenberg, and\\nis presented in cooperation with World Library, Inc., from their\\nLibrary of the Future and Shakespeare CDROMS.  Project Gutenberg\\noften releases Etexts that are NOT placed in the Public Domain!!\\n\\nShakespeare\\n\\n*This Etext has certain copyright implications you should read!*\\n\\n<<THIS ELECTRONIC VERSION OF THE COMPLETE WORKS OF WILLIAM\\nSHAKESPEARE IS COPYRIGHT 1990-1993 BY WORLD LIBRARY, INC., AND IS\\nPROVIDED BY PROJECT GUTENBERG ETEXT'"
            ]
          },
          "metadata": {
            "tags": []
          },
          "execution_count": 50
        }
      ]
    },
    {
      "cell_type": "code",
      "metadata": {
        "id": "k2jLQqQMtHwk",
        "colab_type": "code",
        "colab": {
          "base_uri": "https://localhost:8080/",
          "height": 34
        },
        "outputId": "061c4e97-3ed6-4699-8826-0c8b19fc6e78"
      },
      "source": [
        "my_file.read()"
      ],
      "execution_count": 51,
      "outputs": [
        {
          "output_type": "execute_result",
          "data": {
            "text/plain": [
              "''"
            ]
          },
          "metadata": {
            "tags": []
          },
          "execution_count": 51
        }
      ]
    },
    {
      "cell_type": "code",
      "metadata": {
        "id": "5BFo4pNJtN27",
        "colab_type": "code",
        "colab": {
          "base_uri": "https://localhost:8080/",
          "height": 34
        },
        "outputId": "c817f36f-ad1e-425a-bb61-720492842811"
      },
      "source": [
        "my_file.seek(0)"
      ],
      "execution_count": 52,
      "outputs": [
        {
          "output_type": "execute_result",
          "data": {
            "text/plain": [
              "0"
            ]
          },
          "metadata": {
            "tags": []
          },
          "execution_count": 52
        }
      ]
    },
    {
      "cell_type": "code",
      "metadata": {
        "id": "mkrEYT71tRMH",
        "colab_type": "code",
        "colab": {
          "base_uri": "https://localhost:8080/",
          "height": 54
        },
        "outputId": "055b1017-77b9-4010-c722-b2039939ff87"
      },
      "source": [
        "contents=my_file.read()\n",
        "contents[:100]"
      ],
      "execution_count": 53,
      "outputs": [
        {
          "output_type": "execute_result",
          "data": {
            "text/plain": [
              "'This is the 100th Etext file presented by Project Gutenberg, and\\nis presented in cooperation with Wo'"
            ]
          },
          "metadata": {
            "tags": []
          },
          "execution_count": 53
        }
      ]
    },
    {
      "cell_type": "code",
      "metadata": {
        "id": "ZKfcJ4Y-tXnA",
        "colab_type": "code",
        "colab": {
          "base_uri": "https://localhost:8080/",
          "height": 102
        },
        "outputId": "7cdeb958-ce97-4257-d54f-4175a3b4f952"
      },
      "source": [
        "# Readlines returns a list of the lines in the file\n",
        "my_file.seek(0)\n",
        "my_file.readlines()[:5]"
      ],
      "execution_count": 54,
      "outputs": [
        {
          "output_type": "execute_result",
          "data": {
            "text/plain": [
              "['This is the 100th Etext file presented by Project Gutenberg, and\\n',\n",
              " 'is presented in cooperation with World Library, Inc., from their\\n',\n",
              " 'Library of the Future and Shakespeare CDROMS.  Project Gutenberg\\n',\n",
              " 'often releases Etexts that are NOT placed in the Public Domain!!\\n',\n",
              " '\\n']"
            ]
          },
          "metadata": {
            "tags": []
          },
          "execution_count": 54
        }
      ]
    },
    {
      "cell_type": "code",
      "metadata": {
        "id": "WCOMMSGjteCB",
        "colab_type": "code",
        "colab": {}
      },
      "source": [
        "my_file.close()"
      ],
      "execution_count": 0,
      "outputs": []
    },
    {
      "cell_type": "markdown",
      "metadata": {
        "id": "Anio4qCCtmVz",
        "colab_type": "text"
      },
      "source": [
        "**Writting to a file**"
      ]
    },
    {
      "cell_type": "code",
      "metadata": {
        "id": "qLa3x0hdtlAu",
        "colab_type": "code",
        "colab": {
          "base_uri": "https://localhost:8080/",
          "height": 34
        },
        "outputId": "c83c5fcd-fda5-47b1-b685-93c51bff5ee2"
      },
      "source": [
        "# adding a second argument  w+ opens file in read and write mode\n",
        "my_file=open('test.txt','w+')\n",
        "my_file.write('This is a new line')"
      ],
      "execution_count": 56,
      "outputs": [
        {
          "output_type": "execute_result",
          "data": {
            "text/plain": [
              "18"
            ]
          },
          "metadata": {
            "tags": []
          },
          "execution_count": 56
        }
      ]
    },
    {
      "cell_type": "code",
      "metadata": {
        "id": "9dMExl7mvK8P",
        "colab_type": "code",
        "colab": {
          "base_uri": "https://localhost:8080/",
          "height": 34
        },
        "outputId": "71047a45-bf06-4d50-9c8f-b428aa438bcd"
      },
      "source": [
        "my_file.seek(0)\n",
        "my_file.read()"
      ],
      "execution_count": 57,
      "outputs": [
        {
          "output_type": "execute_result",
          "data": {
            "text/plain": [
              "'This is a new line'"
            ]
          },
          "metadata": {
            "tags": []
          },
          "execution_count": 57
        }
      ]
    },
    {
      "cell_type": "markdown",
      "metadata": {
        "id": "RCDe7qI9vStY",
        "colab_type": "text"
      },
      "source": [
        "### Appending to a text"
      ]
    },
    {
      "cell_type": "code",
      "metadata": {
        "id": "Vp0C99ATvPio",
        "colab_type": "code",
        "colab": {
          "base_uri": "https://localhost:8080/",
          "height": 34
        },
        "outputId": "a3a0e562-70cf-4027-ce51-d42028358972"
      },
      "source": [
        "my_file=open('test.txt','a+')\n",
        "my_file.write('\\nThis line is being appended to test.txt')\n",
        "my_file.write('\\nAnd another line here.')"
      ],
      "execution_count": 61,
      "outputs": [
        {
          "output_type": "execute_result",
          "data": {
            "text/plain": [
              "23"
            ]
          },
          "metadata": {
            "tags": []
          },
          "execution_count": 61
        }
      ]
    },
    {
      "cell_type": "code",
      "metadata": {
        "id": "ZD5ehCnfwFmL",
        "colab_type": "code",
        "colab": {
          "base_uri": "https://localhost:8080/",
          "height": 68
        },
        "outputId": "460c1adc-3a28-40bb-fb98-816c37877dba"
      },
      "source": [
        "my_file.seek(0)\n",
        "my_file.readlines()"
      ],
      "execution_count": 62,
      "outputs": [
        {
          "output_type": "execute_result",
          "data": {
            "text/plain": [
              "['This is a new line\\n',\n",
              " 'This line is being appended to test.txt\\n',\n",
              " 'And another line here.']"
            ]
          },
          "metadata": {
            "tags": []
          },
          "execution_count": 62
        }
      ]
    },
    {
      "cell_type": "code",
      "metadata": {
        "id": "2OklikBAwrYh",
        "colab_type": "code",
        "colab": {
          "base_uri": "https://localhost:8080/",
          "height": 34
        },
        "outputId": "5f9e43ec-43af-4306-e520-6a8c8b79b9e6"
      },
      "source": [
        "%%writefile -a test.txt\n",
        "This is more text being appended to test.txt\n",
        "And another line here."
      ],
      "execution_count": 63,
      "outputs": [
        {
          "output_type": "stream",
          "text": [
            "Appending to test.txt\n"
          ],
          "name": "stdout"
        }
      ]
    },
    {
      "cell_type": "code",
      "metadata": {
        "id": "8HQQsJ8_w7NW",
        "colab_type": "code",
        "colab": {
          "base_uri": "https://localhost:8080/",
          "height": 85
        },
        "outputId": "b066e8e7-4cf6-43fd-b739-32310289aa2e"
      },
      "source": [
        "my_file.seek(0)\n",
        "my_file.readlines()"
      ],
      "execution_count": 65,
      "outputs": [
        {
          "output_type": "execute_result",
          "data": {
            "text/plain": [
              "['This is a new line\\n',\n",
              " 'This line is being appended to test.txt\\n',\n",
              " 'And another line here.This is more text being appended to test.txt\\n',\n",
              " 'And another line here.']"
            ]
          },
          "metadata": {
            "tags": []
          },
          "execution_count": 65
        }
      ]
    },
    {
      "cell_type": "markdown",
      "metadata": {
        "id": "EQVBCkA3xtrg",
        "colab_type": "text"
      },
      "source": [
        "### Working with PDFs"
      ]
    },
    {
      "cell_type": "markdown",
      "metadata": {
        "id": "ND1t_pStxzrF",
        "colab_type": "text"
      },
      "source": [
        "# Downloading PDf\n"
      ]
    },
    {
      "cell_type": "code",
      "metadata": {
        "id": "DmYndoh2x7Wv",
        "colab_type": "code",
        "colab": {
          "base_uri": "https://localhost:8080/",
          "height": 34
        },
        "outputId": "cb16d33e-563c-4590-f9b3-783c0fa88a51"
      },
      "source": [
        "import urllib\n",
        "urllib.request.urlretrieve(\"https://web.stanford.edu/~jurafsky/slp3/2.pdf\", 'SLP.pdf')"
      ],
      "execution_count": 66,
      "outputs": [
        {
          "output_type": "execute_result",
          "data": {
            "text/plain": [
              "('SLP.pdf', <http.client.HTTPMessage at 0x7f4a504b3da0>)"
            ]
          },
          "metadata": {
            "tags": []
          },
          "execution_count": 66
        }
      ]
    }
  ]
}