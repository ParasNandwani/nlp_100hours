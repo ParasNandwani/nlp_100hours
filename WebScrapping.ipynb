{
  "nbformat": 4,
  "nbformat_minor": 0,
  "metadata": {
    "colab": {
      "name": "WebScrapping.ipynb",
      "provenance": [],
      "collapsed_sections": [],
      "authorship_tag": "ABX9TyNIWDUUCPiAN+b5Pm6p12nc",
      "include_colab_link": true
    },
    "kernelspec": {
      "name": "python3",
      "display_name": "Python 3"
    }
  },
  "cells": [
    {
      "cell_type": "markdown",
      "metadata": {
        "id": "view-in-github",
        "colab_type": "text"
      },
      "source": [
        "<a href=\"https://colab.research.google.com/github/ParasNandwani/nlp_100hours/blob/master/WebScrapping.ipynb\" target=\"_parent\"><img src=\"https://colab.research.google.com/assets/colab-badge.svg\" alt=\"Open In Colab\"/></a>"
      ]
    },
    {
      "cell_type": "code",
      "metadata": {
        "id": "aSgE3DxiEshd",
        "colab_type": "code",
        "outputId": "7c1d9ac8-0e76-49c6-ee69-67e559fe5fc9",
        "colab": {
          "base_uri": "https://localhost:8080/",
          "height": 190
        }
      },
      "source": [
        "!pip install fake_useragent"
      ],
      "execution_count": 1,
      "outputs": [
        {
          "output_type": "stream",
          "text": [
            "Collecting fake_useragent\n",
            "  Downloading https://files.pythonhosted.org/packages/d1/79/af647635d6968e2deb57a208d309f6069d31cb138066d7e821e575112a80/fake-useragent-0.1.11.tar.gz\n",
            "Building wheels for collected packages: fake-useragent\n",
            "  Building wheel for fake-useragent (setup.py) ... \u001b[?25l\u001b[?25hdone\n",
            "  Created wheel for fake-useragent: filename=fake_useragent-0.1.11-cp36-none-any.whl size=13484 sha256=180422010a4b1ef2437f1eed14a876d37594a1daa667507a75ae929beeb10ecc\n",
            "  Stored in directory: /root/.cache/pip/wheels/5e/63/09/d1dc15179f175357d3f5c00cbffbac37f9e8690d80545143ff\n",
            "Successfully built fake-useragent\n",
            "Installing collected packages: fake-useragent\n",
            "Successfully installed fake-useragent-0.1.11\n"
          ],
          "name": "stdout"
        }
      ]
    },
    {
      "cell_type": "code",
      "metadata": {
        "id": "FMsfLKHAF1st",
        "colab_type": "code",
        "outputId": "b21fbf61-16d2-40a0-d78d-b30a0d349599",
        "colab": {
          "base_uri": "https://localhost:8080/",
          "height": 629
        }
      },
      "source": [
        "from fake_useragent import UserAgent\n",
        "user_agent=UserAgent()\n"
      ],
      "execution_count": 2,
      "outputs": [
        {
          "output_type": "stream",
          "text": [
            "Error occurred during loading data. Trying to use cache server https://fake-useragent.herokuapp.com/browsers/0.1.11\n",
            "Traceback (most recent call last):\n",
            "  File \"/usr/local/lib/python3.6/dist-packages/fake_useragent/utils.py\", line 67, in get\n",
            "    context=context,\n",
            "  File \"/usr/lib/python3.6/urllib/request.py\", line 223, in urlopen\n",
            "    return opener.open(url, data, timeout)\n",
            "  File \"/usr/lib/python3.6/urllib/request.py\", line 526, in open\n",
            "    response = self._open(req, data)\n",
            "  File \"/usr/lib/python3.6/urllib/request.py\", line 544, in _open\n",
            "    '_open', req)\n",
            "  File \"/usr/lib/python3.6/urllib/request.py\", line 504, in _call_chain\n",
            "    result = func(*args)\n",
            "  File \"/usr/lib/python3.6/urllib/request.py\", line 1346, in http_open\n",
            "    return self.do_open(http.client.HTTPConnection, req)\n",
            "  File \"/usr/lib/python3.6/urllib/request.py\", line 1321, in do_open\n",
            "    r = h.getresponse()\n",
            "  File \"/usr/lib/python3.6/http/client.py\", line 1346, in getresponse\n",
            "    response.begin()\n",
            "  File \"/usr/lib/python3.6/http/client.py\", line 307, in begin\n",
            "    version, status, reason = self._read_status()\n",
            "  File \"/usr/lib/python3.6/http/client.py\", line 268, in _read_status\n",
            "    line = str(self.fp.readline(_MAXLINE + 1), \"iso-8859-1\")\n",
            "  File \"/usr/lib/python3.6/socket.py\", line 586, in readinto\n",
            "    return self._sock.recv_into(b)\n",
            "socket.timeout: timed out\n",
            "\n",
            "During handling of the above exception, another exception occurred:\n",
            "\n",
            "Traceback (most recent call last):\n",
            "  File \"/usr/local/lib/python3.6/dist-packages/fake_useragent/utils.py\", line 166, in load\n",
            "    verify_ssl=verify_ssl,\n",
            "  File \"/usr/local/lib/python3.6/dist-packages/fake_useragent/utils.py\", line 122, in get_browser_versions\n",
            "    verify_ssl=verify_ssl,\n",
            "  File \"/usr/local/lib/python3.6/dist-packages/fake_useragent/utils.py\", line 84, in get\n",
            "    raise FakeUserAgentError('Maximum amount of retries reached')\n",
            "fake_useragent.errors.FakeUserAgentError: Maximum amount of retries reached\n"
          ],
          "name": "stderr"
        }
      ]
    },
    {
      "cell_type": "code",
      "metadata": {
        "id": "DOqg3Q8PE7ar",
        "colab_type": "code",
        "colab": {}
      },
      "source": [
        "import requests\n",
        "page = requests.get('https://www.google.com/' ,headers={'user-agent':user_agent.chrome})\n"
      ],
      "execution_count": 0,
      "outputs": []
    },
    {
      "cell_type": "code",
      "metadata": {
        "id": "0L5tpUhMGIv5",
        "colab_type": "code",
        "outputId": "e44be723-32e8-4bb6-e55c-a6b9932e228f",
        "colab": {
          "base_uri": "https://localhost:8080/",
          "height": 34
        }
      },
      "source": [
        "page.status_code"
      ],
      "execution_count": 4,
      "outputs": [
        {
          "output_type": "execute_result",
          "data": {
            "text/plain": [
              "200"
            ]
          },
          "metadata": {
            "tags": []
          },
          "execution_count": 4
        }
      ]
    },
    {
      "cell_type": "code",
      "metadata": {
        "id": "Ga8K5vFlGNln",
        "colab_type": "code",
        "colab": {}
      },
      "source": [
        "page.close()"
      ],
      "execution_count": 0,
      "outputs": []
    },
    {
      "cell_type": "markdown",
      "metadata": {
        "id": "fF7vJ0ZaG08W",
        "colab_type": "text"
      },
      "source": [
        "# Intro to Beautiful Soup\n"
      ]
    },
    {
      "cell_type": "code",
      "metadata": {
        "id": "Ks2BZFp4G5ii",
        "colab_type": "code",
        "outputId": "05e95b45-915d-4b0e-a2b9-8a11849871fc",
        "colab": {
          "base_uri": "https://localhost:8080/",
          "height": 34
        }
      },
      "source": [
        "%%writefile example.html\n",
        "<!DOCTYPE html>\n",
        "<html>\n",
        "  <head>\n",
        "      <meta charset='UTF-8'>\n",
        "      <title>NLP 100 Hours Batch</title>\n",
        "  </head>\n",
        "  <body>\n",
        "      <div>\n",
        "        <p>In the first division tag</p>\n",
        "      </div> \n",
        "       <div>\n",
        "        <p>In the second division tag</p>\n",
        "      </div> \n",
        "  </body>\n",
        "</html>\n"
      ],
      "execution_count": 9,
      "outputs": [
        {
          "output_type": "stream",
          "text": [
            "Writing example.html\n"
          ],
          "name": "stdout"
        }
      ]
    },
    {
      "cell_type": "code",
      "metadata": {
        "id": "BK0kb8QlF47k",
        "colab_type": "code",
        "outputId": "31b6aceb-27d0-4a57-ab23-f16775505eed",
        "colab": {
          "base_uri": "https://localhost:8080/",
          "height": 272
        }
      },
      "source": [
        "with open('example.html','r') as f:\n",
        "  text=f.read()\n",
        "  print(text)"
      ],
      "execution_count": 10,
      "outputs": [
        {
          "output_type": "stream",
          "text": [
            "<!DOCTYPE html>\n",
            "<html>\n",
            "  <head>\n",
            "      <meta charset='UTF-8'>\n",
            "      <title>NLP 100 Hours Batch</title>\n",
            "  </head>\n",
            "  <body>\n",
            "      <div>\n",
            "        <p>In the first division tag</p>\n",
            "      </div> \n",
            "       <div>\n",
            "        <p>In the second division tag</p>\n",
            "      </div> \n",
            "  </body>\n",
            "</html>\n"
          ],
          "name": "stdout"
        }
      ]
    },
    {
      "cell_type": "code",
      "metadata": {
        "id": "Q7m2LtnMGSVZ",
        "colab_type": "code",
        "outputId": "fea94a50-0a78-4279-d464-8c4059f73998",
        "colab": {
          "base_uri": "https://localhost:8080/",
          "height": 34
        }
      },
      "source": [
        "!pip install beautifulsoup4"
      ],
      "execution_count": 11,
      "outputs": [
        {
          "output_type": "stream",
          "text": [
            "Requirement already satisfied: beautifulsoup4 in /usr/local/lib/python3.6/dist-packages (4.6.3)\n"
          ],
          "name": "stdout"
        }
      ]
    },
    {
      "cell_type": "code",
      "metadata": {
        "id": "w4Lz16WvIMjZ",
        "colab_type": "code",
        "colab": {}
      },
      "source": [
        "from bs4 import BeautifulSoup\n",
        "soup= BeautifulSoup(text)\n"
      ],
      "execution_count": 0,
      "outputs": []
    },
    {
      "cell_type": "code",
      "metadata": {
        "id": "r-9a9CtTIYyA",
        "colab_type": "code",
        "outputId": "60d4e4be-973c-431f-fdbf-6d5fbbaf6fb5",
        "colab": {
          "base_uri": "https://localhost:8080/",
          "height": 374
        }
      },
      "source": [
        "print(soup.prettify())"
      ],
      "execution_count": 13,
      "outputs": [
        {
          "output_type": "stream",
          "text": [
            "<!DOCTYPE html>\n",
            "<html>\n",
            " <head>\n",
            "  <meta charset=\"utf-8\"/>\n",
            "  <title>\n",
            "   NLP 100 Hours Batch\n",
            "  </title>\n",
            " </head>\n",
            " <body>\n",
            "  <div>\n",
            "   <p>\n",
            "    In the first division tag\n",
            "   </p>\n",
            "  </div>\n",
            "  <div>\n",
            "   <p>\n",
            "    In the second division tag\n",
            "   </p>\n",
            "  </div>\n",
            " </body>\n",
            "</html>\n"
          ],
          "name": "stdout"
        }
      ]
    },
    {
      "cell_type": "code",
      "metadata": {
        "id": "HMo91HeEIhy_",
        "colab_type": "code",
        "outputId": "c1697476-1dec-49bc-dff9-fb62878e770f",
        "colab": {
          "base_uri": "https://localhost:8080/",
          "height": 34
        }
      },
      "source": [
        "soup.title"
      ],
      "execution_count": 14,
      "outputs": [
        {
          "output_type": "execute_result",
          "data": {
            "text/plain": [
              "<title>NLP 100 Hours Batch</title>"
            ]
          },
          "metadata": {
            "tags": []
          },
          "execution_count": 14
        }
      ]
    },
    {
      "cell_type": "code",
      "metadata": {
        "id": "mDuZECULIoGR",
        "colab_type": "code",
        "outputId": "b7661ff3-25d5-4f74-fe3d-5a649d5193dd",
        "colab": {
          "base_uri": "https://localhost:8080/",
          "height": 34
        }
      },
      "source": [
        "soup.title.text"
      ],
      "execution_count": 15,
      "outputs": [
        {
          "output_type": "execute_result",
          "data": {
            "text/plain": [
              "'NLP 100 Hours Batch'"
            ]
          },
          "metadata": {
            "tags": []
          },
          "execution_count": 15
        }
      ]
    },
    {
      "cell_type": "code",
      "metadata": {
        "id": "GVe6Sb9WIy0b",
        "colab_type": "code",
        "outputId": "84f83bd1-223c-4edf-a50d-2bc47bcba02b",
        "colab": {
          "base_uri": "https://localhost:8080/",
          "height": 34
        }
      },
      "source": [
        "soup.body.text"
      ],
      "execution_count": 16,
      "outputs": [
        {
          "output_type": "execute_result",
          "data": {
            "text/plain": [
              "'\\n\\nIn the first division tag\\n\\n\\nIn the second division tag\\n\\n'"
            ]
          },
          "metadata": {
            "tags": []
          },
          "execution_count": 16
        }
      ]
    },
    {
      "cell_type": "code",
      "metadata": {
        "id": "hdMmCielI7Ps",
        "colab_type": "code",
        "outputId": "72aae9f7-ca58-420c-d4f2-157124b0e268",
        "colab": {
          "base_uri": "https://localhost:8080/",
          "height": 34
        }
      },
      "source": [
        "soup.find('p').text"
      ],
      "execution_count": 17,
      "outputs": [
        {
          "output_type": "execute_result",
          "data": {
            "text/plain": [
              "'In the first division tag'"
            ]
          },
          "metadata": {
            "tags": []
          },
          "execution_count": 17
        }
      ]
    },
    {
      "cell_type": "code",
      "metadata": {
        "id": "8ZULy22LJBjb",
        "colab_type": "code",
        "outputId": "5a8a3c18-9298-4445-b6e4-055f005bbd30",
        "colab": {
          "base_uri": "https://localhost:8080/",
          "height": 51
        }
      },
      "source": [
        "for p in soup.find_all('p'):\n",
        "  print(p.text)"
      ],
      "execution_count": 18,
      "outputs": [
        {
          "output_type": "stream",
          "text": [
            "In the first division tag\n",
            "In the second division tag\n"
          ],
          "name": "stdout"
        }
      ]
    },
    {
      "cell_type": "code",
      "metadata": {
        "id": "A4zeHkuOJ-XC",
        "colab_type": "code",
        "outputId": "d2a40c4f-c111-458f-e156-5741effba688",
        "colab": {
          "base_uri": "https://localhost:8080/",
          "height": 221
        }
      },
      "source": [
        "for child in soup.body.children:\n",
        "  print(child)"
      ],
      "execution_count": 19,
      "outputs": [
        {
          "output_type": "stream",
          "text": [
            "\n",
            "\n",
            "<div>\n",
            "<p>In the first division tag</p>\n",
            "</div>\n",
            "\n",
            "\n",
            "<div>\n",
            "<p>In the second division tag</p>\n",
            "</div>\n",
            "\n",
            "\n"
          ],
          "name": "stdout"
        }
      ]
    },
    {
      "cell_type": "code",
      "metadata": {
        "id": "ln87hGAoMylA",
        "colab_type": "code",
        "outputId": "f4b8554e-081a-4609-e55d-223cf6371d12",
        "colab": {
          "base_uri": "https://localhost:8080/",
          "height": 170
        }
      },
      "source": [
        "for child in soup.head.descendants:\n",
        "  print(child)"
      ],
      "execution_count": 20,
      "outputs": [
        {
          "output_type": "stream",
          "text": [
            "\n",
            "\n",
            "<meta charset=\"utf-8\"/>\n",
            "\n",
            "\n",
            "<title>NLP 100 Hours Batch</title>\n",
            "NLP 100 Hours Batch\n",
            "\n",
            "\n"
          ],
          "name": "stdout"
        }
      ]
    },
    {
      "cell_type": "code",
      "metadata": {
        "id": "isFP7wBWMyB6",
        "colab_type": "code",
        "outputId": "b98bd1bc-17c7-45b5-b904-77dd0605753e",
        "colab": {
          "base_uri": "https://localhost:8080/",
          "height": 34
        }
      },
      "source": [
        "soup.div.parent.name"
      ],
      "execution_count": 21,
      "outputs": [
        {
          "output_type": "execute_result",
          "data": {
            "text/plain": [
              "'body'"
            ]
          },
          "metadata": {
            "tags": []
          },
          "execution_count": 21
        }
      ]
    },
    {
      "cell_type": "code",
      "metadata": {
        "id": "7lmi3AYPN0sw",
        "colab_type": "code",
        "colab": {}
      },
      "source": [
        "soup.div.next_sibling.next_sibling.next_sibling.next_sibling"
      ],
      "execution_count": 0,
      "outputs": []
    },
    {
      "cell_type": "markdown",
      "metadata": {
        "id": "-tvYLQjZOE8t",
        "colab_type": "text"
      },
      "source": [
        "# Scrapping Amazon Reviews"
      ]
    },
    {
      "cell_type": "code",
      "metadata": {
        "id": "RqHzjAfqOLXX",
        "colab_type": "code",
        "colab": {}
      },
      "source": [
        "from fake_useragent import UserAgent\n",
        "user_agent= UserAgent()"
      ],
      "execution_count": 0,
      "outputs": []
    },
    {
      "cell_type": "code",
      "metadata": {
        "id": "p3TisYnsOU_u",
        "colab_type": "code",
        "colab": {}
      },
      "source": [
        "link= 'https://www.amazon.in/Apple-iPhone-Pro-Max-256GB/product-reviews/B07XVMDRZW/ref=cm_cr_dp_d_show_all_btm?ie=UTF8&reviewerType=all_reviews'"
      ],
      "execution_count": 0,
      "outputs": []
    },
    {
      "cell_type": "code",
      "metadata": {
        "id": "tuGkibW2P7xL",
        "colab_type": "code",
        "colab": {}
      },
      "source": [
        "page = requests.get(link,headers={'user-agent':user_agent.chrome})"
      ],
      "execution_count": 0,
      "outputs": []
    },
    {
      "cell_type": "code",
      "metadata": {
        "id": "-ZXyOQlsQddg",
        "colab_type": "code",
        "outputId": "e4856d15-f95b-4229-b90c-2378ed2267f2",
        "colab": {
          "base_uri": "https://localhost:8080/",
          "height": 34
        }
      },
      "source": [
        "page.status_code"
      ],
      "execution_count": 40,
      "outputs": [
        {
          "output_type": "execute_result",
          "data": {
            "text/plain": [
              "200"
            ]
          },
          "metadata": {
            "tags": []
          },
          "execution_count": 40
        }
      ]
    },
    {
      "cell_type": "code",
      "metadata": {
        "id": "IzDCTRu6QhJh",
        "colab_type": "code",
        "colab": {}
      },
      "source": [
        "soup = BeautifulSoup(page.content)"
      ],
      "execution_count": 0,
      "outputs": []
    },
    {
      "cell_type": "code",
      "metadata": {
        "id": "7-KLufN0Qvq0",
        "colab_type": "code",
        "colab": {
          "base_uri": "https://localhost:8080/",
          "height": 34
        },
        "outputId": "605897e8-73f2-45b0-d05f-4836b0d3a26e"
      },
      "source": [
        "print(soup.title.text)"
      ],
      "execution_count": 42,
      "outputs": [
        {
          "output_type": "stream",
          "text": [
            "Amazon.in:Customer reviews: Apple iPhone 11 Pro Max (256GB) - Midnight Green\n"
          ],
          "name": "stdout"
        }
      ]
    },
    {
      "cell_type": "code",
      "metadata": {
        "id": "8bKJMP3qmqdp",
        "colab_type": "code",
        "outputId": "49152ff7-2a25-4dfc-b0af-b37dc7a08f3c",
        "colab": {
          "base_uri": "https://localhost:8080/",
          "height": 547
        }
      },
      "source": [
        "soup.find_all('span',{'data-hook':'review-body'})# dom-element-property :'value'"
      ],
      "execution_count": 43,
      "outputs": [
        {
          "output_type": "execute_result",
          "data": {
            "text/plain": [
              "[<span class=\"a-size-base review-text review-text-content\" data-hook=\"review-body\">\n",
              " <span>The triple cameras on the iPhone 11 Pro Max now give Apple the best camera phone, thanks to its great Night mode and improved Smart HDR,a huge improvement in battery life Up to 20 hours video playback; up to 12 hours video streaming ... Apple's slow-motion selfies are fun at 120 fps.<br/><br/>Apple has given the Pro moniker to the iPhones for the first time. Everything is improved and everything feels better.<br/>It comes with a new Lightning to USB Cable with 5W USB Power Adapter.<br/><br/>With Display of 6.5-inch Super Retina XDR display with HDR,True Tone, Splash, Water, and Dust Resistant, Water-resistant to a depth of 4 meters for up to 30 minutes (IP68)), Triple 12MP cameras (Ultra Wide, Wide, Telephoto) with Portrait mode, Night mode, Auto Adjustments, next-generation Smart HDR and 4K video up to 60 fps with extended dynamic range.</span>\n",
              " </span>,\n",
              " <span class=\"a-size-base review-text review-text-content\" data-hook=\"review-body\">\n",
              " <span>I pre ordered the item on sept 21 and received ok 2 Oct . It was in iOS 13 . It is buttery smooth and nice and there was an update of ios13.1.2 available. But after updating I stuck in Apple logo. I could not create a return in Amazon as it's asked me to contact Apple. I wonder why is that.</span>\n",
              " </span>,\n",
              " <span class=\"a-size-base review-text review-text-content\" data-hook=\"review-body\">\n",
              " <span>Decent packaging and shipping 👍 Upgraded from an iPhone X and I reckon its definitely worth it 😊 Size matters, no pun intended, and you can instantly feel the difference b/w a 5.7 inch screen and a 6.5 inch 🤓 If you have an iPhone X or earlier model, you should definitely consider upgrading. For iPhone XS Max, you are better off waiting for next year model as its touted to undergo some radical changes (5G, USB-C, Touch ID comeback and notch less design perhaps). No 5G in this model but doesn't make a difference, at least in India, as even the 5G spectrum has not been auctioned yet 😝  WiFi performance is better than iPhone X as this model supports 11ax protocol 🤗 And by the way, if you are stuck for choice b/w Gold and Midnight Green, go for Gold and thank me later ✨</span>\n",
              " </span>,\n",
              " <span class=\"a-size-base review-text review-text-content\" data-hook=\"review-body\">\n",
              " <span><div class=\"a-section a-spacing-small a-spacing-top-mini video-block\" id=\"video-block-R61ZWAM8IR041\"></div><input class=\"video-url\" name=\"\" type=\"hidden\" value=\"https://images-eu.ssl-images-amazon.com/images/I/91xEt7QGZCS.mp4\"/><input class=\"video-slate-img-url\" name=\"\" type=\"hidden\" value=\"https://images-eu.ssl-images-amazon.com/images/I/71-26Alx62S.png\"/> 11 Pro Max 256 GB phone hanged last 12 hours continues</span>\n",
              " </span>,\n",
              " <span class=\"a-size-base review-text review-text-content\" data-hook=\"review-body\">\n",
              " <span>I will rate one start for this product. My experience of using this phone for one week is sub-par, multiple times in this one week this phone hanged. Many time even home screen was hanged( i have installed only five additional apps quora, amazon, facebook, whatsapp and google maps). Please refrain from purchasing this phone. It is waste of money.</span>\n",
              " </span>,\n",
              " <span class=\"a-size-base review-text review-text-content\" data-hook=\"review-body\">\n",
              " <span>I was using iPhone XS Max, but now after having iPhone 11 Pro Max - I can say it is fabulous and outstanding. Perfect as always, performance is too good.<br/><br/>Night mode is better than any available camera, Pixel 4 XL, Mate 30 Pro and Note 10+.<br/><br/>This device is unbeatable (until next iPhone).</span>\n",
              " </span>,\n",
              " <span class=\"a-size-base review-text review-text-content\" data-hook=\"review-body\">\n",
              " <span>In love with it</span>\n",
              " </span>,\n",
              " <span class=\"a-size-base review-text review-text-content\" data-hook=\"review-body\">\n",
              " <span>Moving Android to IOS Very Difficult Btw Good phone but not value for money</span>\n",
              " </span>,\n",
              " <span class=\"a-size-base review-text review-text-content\" data-hook=\"review-body\">\n",
              " <span>i LOST MY KIDNEYS.</span>\n",
              " </span>,\n",
              " <span class=\"a-size-base review-text review-text-content\" data-hook=\"review-body\">\n",
              " <span>Switch on and off button is not working, looks like given used phone in new box</span>\n",
              " </span>]"
            ]
          },
          "metadata": {
            "tags": []
          },
          "execution_count": 43
        }
      ]
    },
    {
      "cell_type": "code",
      "metadata": {
        "id": "_hiSEo-4r1kx",
        "colab_type": "code",
        "outputId": "5d661b4d-1505-4811-b1fd-71f25085fbc6",
        "colab": {
          "base_uri": "https://localhost:8080/",
          "height": 88
        }
      },
      "source": [
        "soup.find_all('span',{'data-hook':'review-body'})[0]"
      ],
      "execution_count": 44,
      "outputs": [
        {
          "output_type": "execute_result",
          "data": {
            "text/plain": [
              "<span class=\"a-size-base review-text review-text-content\" data-hook=\"review-body\">\n",
              "<span>The triple cameras on the iPhone 11 Pro Max now give Apple the best camera phone, thanks to its great Night mode and improved Smart HDR,a huge improvement in battery life Up to 20 hours video playback; up to 12 hours video streaming ... Apple's slow-motion selfies are fun at 120 fps.<br/><br/>Apple has given the Pro moniker to the iPhones for the first time. Everything is improved and everything feels better.<br/>It comes with a new Lightning to USB Cable with 5W USB Power Adapter.<br/><br/>With Display of 6.5-inch Super Retina XDR display with HDR,True Tone, Splash, Water, and Dust Resistant, Water-resistant to a depth of 4 meters for up to 30 minutes (IP68)), Triple 12MP cameras (Ultra Wide, Wide, Telephoto) with Portrait mode, Night mode, Auto Adjustments, next-generation Smart HDR and 4K video up to 60 fps with extended dynamic range.</span>\n",
              "</span>"
            ]
          },
          "metadata": {
            "tags": []
          },
          "execution_count": 44
        }
      ]
    },
    {
      "cell_type": "code",
      "metadata": {
        "id": "TAZ56ouFsDmY",
        "colab_type": "code",
        "outputId": "fd5c3106-c8c5-4ce6-ee71-6f4f321a93e2",
        "colab": {
          "base_uri": "https://localhost:8080/",
          "height": 377
        }
      },
      "source": [
        "reviews=soup.find_all('span',{'data-hook':'review-body'})\n",
        "for review in reviews:\n",
        "  print(review.find('span').text)\n",
        "  print('--------')"
      ],
      "execution_count": 46,
      "outputs": [
        {
          "output_type": "stream",
          "text": [
            "The triple cameras on the iPhone 11 Pro Max now give Apple the best camera phone, thanks to its great Night mode and improved Smart HDR,a huge improvement in battery life Up to 20 hours video playback; up to 12 hours video streaming ... Apple's slow-motion selfies are fun at 120 fps.Apple has given the Pro moniker to the iPhones for the first time. Everything is improved and everything feels better.It comes with a new Lightning to USB Cable with 5W USB Power Adapter.With Display of 6.5-inch Super Retina XDR display with HDR,True Tone, Splash, Water, and Dust Resistant, Water-resistant to a depth of 4 meters for up to 30 minutes (IP68)), Triple 12MP cameras (Ultra Wide, Wide, Telephoto) with Portrait mode, Night mode, Auto Adjustments, next-generation Smart HDR and 4K video up to 60 fps with extended dynamic range.\n",
            "--------\n",
            "I pre ordered the item on sept 21 and received ok 2 Oct . It was in iOS 13 . It is buttery smooth and nice and there was an update of ios13.1.2 available. But after updating I stuck in Apple logo. I could not create a return in Amazon as it's asked me to contact Apple. I wonder why is that.\n",
            "--------\n",
            "Decent packaging and shipping 👍 Upgraded from an iPhone X and I reckon its definitely worth it 😊 Size matters, no pun intended, and you can instantly feel the difference b/w a 5.7 inch screen and a 6.5 inch 🤓 If you have an iPhone X or earlier model, you should definitely consider upgrading. For iPhone XS Max, you are better off waiting for next year model as its touted to undergo some radical changes (5G, USB-C, Touch ID comeback and notch less design perhaps). No 5G in this model but doesn't make a difference, at least in India, as even the 5G spectrum has not been auctioned yet 😝  WiFi performance is better than iPhone X as this model supports 11ax protocol 🤗 And by the way, if you are stuck for choice b/w Gold and Midnight Green, go for Gold and thank me later ✨\n",
            "--------\n",
            " 11 Pro Max 256 GB phone hanged last 12 hours continues\n",
            "--------\n",
            "I will rate one start for this product. My experience of using this phone for one week is sub-par, multiple times in this one week this phone hanged. Many time even home screen was hanged( i have installed only five additional apps quora, amazon, facebook, whatsapp and google maps). Please refrain from purchasing this phone. It is waste of money.\n",
            "--------\n",
            "I was using iPhone XS Max, but now after having iPhone 11 Pro Max - I can say it is fabulous and outstanding. Perfect as always, performance is too good.Night mode is better than any available camera, Pixel 4 XL, Mate 30 Pro and Note 10+.This device is unbeatable (until next iPhone).\n",
            "--------\n",
            "In love with it\n",
            "--------\n",
            "Moving Android to IOS Very Difficult Btw Good phone but not value for money\n",
            "--------\n",
            "i LOST MY KIDNEYS.\n",
            "--------\n",
            "Switch on and off button is not working, looks like given used phone in new box\n",
            "--------\n"
          ],
          "name": "stdout"
        }
      ]
    },
    {
      "cell_type": "code",
      "metadata": {
        "id": "ofWMWhGqsaNe",
        "colab_type": "code",
        "colab": {}
      },
      "source": [
        "reviews=[b.find('span').text for b in reviews]"
      ],
      "execution_count": 0,
      "outputs": []
    },
    {
      "cell_type": "code",
      "metadata": {
        "id": "SEwqrbGQRHkx",
        "colab_type": "code",
        "colab": {
          "base_uri": "https://localhost:8080/",
          "height": 54
        },
        "outputId": "d8c4bf5a-ceeb-4fa0-fe21-974d810f9b35"
      },
      "source": [
        "reviews[0]"
      ],
      "execution_count": 48,
      "outputs": [
        {
          "output_type": "execute_result",
          "data": {
            "text/plain": [
              "\"The triple cameras on the iPhone 11 Pro Max now give Apple the best camera phone, thanks to its great Night mode and improved Smart HDR,a huge improvement in battery life Up to 20 hours video playback; up to 12 hours video streaming ... Apple's slow-motion selfies are fun at 120 fps.Apple has given the Pro moniker to the iPhones for the first time. Everything is improved and everything feels better.It comes with a new Lightning to USB Cable with 5W USB Power Adapter.With Display of 6.5-inch Super Retina XDR display with HDR,True Tone, Splash, Water, and Dust Resistant, Water-resistant to a depth of 4 meters for up to 30 minutes (IP68)), Triple 12MP cameras (Ultra Wide, Wide, Telephoto) with Portrait mode, Night mode, Auto Adjustments, next-generation Smart HDR and 4K video up to 60 fps with extended dynamic range.\""
            ]
          },
          "metadata": {
            "tags": []
          },
          "execution_count": 48
        }
      ]
    },
    {
      "cell_type": "code",
      "metadata": {
        "id": "381YDv79RLEY",
        "colab_type": "code",
        "colab": {
          "base_uri": "https://localhost:8080/",
          "height": 187
        },
        "outputId": "925a67e8-b705-4233-8507-2ad341582246"
      },
      "source": [
        "soup.findAll('i',{'data-hook':'review-star-rating'}) "
      ],
      "execution_count": 50,
      "outputs": [
        {
          "output_type": "execute_result",
          "data": {
            "text/plain": [
              "[<i class=\"a-icon a-icon-star a-star-5 review-rating\" data-hook=\"review-star-rating\"><span class=\"a-icon-alt\">5.0 out of 5 stars</span></i>,\n",
              " <i class=\"a-icon a-icon-star a-star-3 review-rating\" data-hook=\"review-star-rating\"><span class=\"a-icon-alt\">3.0 out of 5 stars</span></i>,\n",
              " <i class=\"a-icon a-icon-star a-star-5 review-rating\" data-hook=\"review-star-rating\"><span class=\"a-icon-alt\">5.0 out of 5 stars</span></i>,\n",
              " <i class=\"a-icon a-icon-star a-star-1 review-rating\" data-hook=\"review-star-rating\"><span class=\"a-icon-alt\">1.0 out of 5 stars</span></i>,\n",
              " <i class=\"a-icon a-icon-star a-star-1 review-rating\" data-hook=\"review-star-rating\"><span class=\"a-icon-alt\">1.0 out of 5 stars</span></i>,\n",
              " <i class=\"a-icon a-icon-star a-star-5 review-rating\" data-hook=\"review-star-rating\"><span class=\"a-icon-alt\">5.0 out of 5 stars</span></i>,\n",
              " <i class=\"a-icon a-icon-star a-star-5 review-rating\" data-hook=\"review-star-rating\"><span class=\"a-icon-alt\">5.0 out of 5 stars</span></i>,\n",
              " <i class=\"a-icon a-icon-star a-star-3 review-rating\" data-hook=\"review-star-rating\"><span class=\"a-icon-alt\">3.0 out of 5 stars</span></i>,\n",
              " <i class=\"a-icon a-icon-star a-star-1 review-rating\" data-hook=\"review-star-rating\"><span class=\"a-icon-alt\">1.0 out of 5 stars</span></i>,\n",
              " <i class=\"a-icon a-icon-star a-star-1 review-rating\" data-hook=\"review-star-rating\"><span class=\"a-icon-alt\">1.0 out of 5 stars</span></i>]"
            ]
          },
          "metadata": {
            "tags": []
          },
          "execution_count": 50
        }
      ]
    },
    {
      "cell_type": "code",
      "metadata": {
        "id": "kzGLm9JyRg59",
        "colab_type": "code",
        "colab": {
          "base_uri": "https://localhost:8080/",
          "height": 187
        },
        "outputId": "7f6357cb-0ec8-48db-d145-494d179037ed"
      },
      "source": [
        "ratings=soup.findAll('i',{'data-hook':'review-star-rating'})\n",
        "[rat.find('span').text for rat in ratings]"
      ],
      "execution_count": 56,
      "outputs": [
        {
          "output_type": "execute_result",
          "data": {
            "text/plain": [
              "['5.0 out of 5 stars',\n",
              " '3.0 out of 5 stars',\n",
              " '5.0 out of 5 stars',\n",
              " '1.0 out of 5 stars',\n",
              " '1.0 out of 5 stars',\n",
              " '5.0 out of 5 stars',\n",
              " '5.0 out of 5 stars',\n",
              " '3.0 out of 5 stars',\n",
              " '1.0 out of 5 stars',\n",
              " '1.0 out of 5 stars']"
            ]
          },
          "metadata": {
            "tags": []
          },
          "execution_count": 56
        }
      ]
    },
    {
      "cell_type": "code",
      "metadata": {
        "id": "fqvfEwpYR2x4",
        "colab_type": "code",
        "colab": {
          "base_uri": "https://localhost:8080/",
          "height": 204
        },
        "outputId": "e8874dcc-d860-4aa4-9d02-bc7f6086ad6d"
      },
      "source": [
        "print(ratings[0])\n",
        "import re\n",
        "[re.findall('(.*)(?= out)', r.find('span').text) for r in ratings]"
      ],
      "execution_count": 59,
      "outputs": [
        {
          "output_type": "stream",
          "text": [
            "<i class=\"a-icon a-icon-star a-star-5 review-rating\" data-hook=\"review-star-rating\"><span class=\"a-icon-alt\">5.0 out of 5 stars</span></i>\n"
          ],
          "name": "stdout"
        },
        {
          "output_type": "execute_result",
          "data": {
            "text/plain": [
              "[['5.0', ''],\n",
              " ['3.0', ''],\n",
              " ['5.0', ''],\n",
              " ['1.0', ''],\n",
              " ['1.0', ''],\n",
              " ['5.0', ''],\n",
              " ['5.0', ''],\n",
              " ['3.0', ''],\n",
              " ['1.0', ''],\n",
              " ['1.0', '']]"
            ]
          },
          "metadata": {
            "tags": []
          },
          "execution_count": 59
        }
      ]
    },
    {
      "cell_type": "code",
      "metadata": {
        "id": "ZYg9ctsWT_Y6",
        "colab_type": "code",
        "colab": {}
      },
      "source": [
        "from time import sleep\n",
        "reviews=[]\n",
        "ratings=[]\n",
        "for i in range(14):\n",
        "  link=f'https://www.amazon.in/Apple-iPhone-Pro-Max-256GB/product-reviews/B07XVMDRZW/ref=cm_cr_arp_d_paging_btm_next_2?ie=UTF8&reviewerType=all_reviews&pageNumber={i+1}'\n",
        "  page=requests.get(link,headers={'user-agent':user_agent.chrome})\n",
        "  soup= BeautifulSoup(page.content)\n",
        "  page.close()\n",
        "  body=soup.findAll('span',{'data-hook':'review-body'})\n",
        "  reviews.extend([b.find('span').text for b in body])\n",
        "  rat=soup.findAll('i',{'data-hook':'review-star-rating'})\n",
        "  ratings.extend([float(re.findall('(.*)(?= out)', r.find('span').text)[0]) for r in rat])\n",
        "  sleep(5)"
      ],
      "execution_count": 0,
      "outputs": []
    },
    {
      "cell_type": "code",
      "metadata": {
        "id": "KAr92MR1WL3_",
        "colab_type": "code",
        "colab": {
          "base_uri": "https://localhost:8080/",
          "height": 34
        },
        "outputId": "6470bab1-6524-4107-86a9-3b672a8c2ab7"
      },
      "source": [
        "len(reviews),len(ratings)"
      ],
      "execution_count": 65,
      "outputs": [
        {
          "output_type": "execute_result",
          "data": {
            "text/plain": [
              "(50, 50)"
            ]
          },
          "metadata": {
            "tags": []
          },
          "execution_count": 65
        }
      ]
    },
    {
      "cell_type": "code",
      "metadata": {
        "id": "BBrd9W2pXIeI",
        "colab_type": "code",
        "colab": {}
      },
      "source": [
        "import pandas as pd"
      ],
      "execution_count": 0,
      "outputs": []
    },
    {
      "cell_type": "code",
      "metadata": {
        "id": "TNfqt4NkWtee",
        "colab_type": "code",
        "colab": {
          "base_uri": "https://localhost:8080/",
          "height": 204
        },
        "outputId": "3ea82b7a-8ee8-4967-a5ec-1521c56d9209"
      },
      "source": [
        "df=pd.DataFrame({'reviews':reviews,'ratings':ratings})\n",
        "df.head()"
      ],
      "execution_count": 69,
      "outputs": [
        {
          "output_type": "execute_result",
          "data": {
            "text/html": [
              "<div>\n",
              "<style scoped>\n",
              "    .dataframe tbody tr th:only-of-type {\n",
              "        vertical-align: middle;\n",
              "    }\n",
              "\n",
              "    .dataframe tbody tr th {\n",
              "        vertical-align: top;\n",
              "    }\n",
              "\n",
              "    .dataframe thead th {\n",
              "        text-align: right;\n",
              "    }\n",
              "</style>\n",
              "<table border=\"1\" class=\"dataframe\">\n",
              "  <thead>\n",
              "    <tr style=\"text-align: right;\">\n",
              "      <th></th>\n",
              "      <th>reviews</th>\n",
              "      <th>ratings</th>\n",
              "    </tr>\n",
              "  </thead>\n",
              "  <tbody>\n",
              "    <tr>\n",
              "      <th>0</th>\n",
              "      <td>I must say, no more other words to express inn...</td>\n",
              "      <td>5.0</td>\n",
              "    </tr>\n",
              "    <tr>\n",
              "      <th>1</th>\n",
              "      <td>Phone is gud but I dun feel it’s worth this am...</td>\n",
              "      <td>4.0</td>\n",
              "    </tr>\n",
              "    <tr>\n",
              "      <th>2</th>\n",
              "      <td>The true machine !! Ultimately you can say the...</td>\n",
              "      <td>5.0</td>\n",
              "    </tr>\n",
              "    <tr>\n",
              "      <th>3</th>\n",
              "      <td>Best battery performance compare to all the iP...</td>\n",
              "      <td>5.0</td>\n",
              "    </tr>\n",
              "    <tr>\n",
              "      <th>4</th>\n",
              "      <td>Heating issue to high</td>\n",
              "      <td>1.0</td>\n",
              "    </tr>\n",
              "  </tbody>\n",
              "</table>\n",
              "</div>"
            ],
            "text/plain": [
              "                                             reviews  ratings\n",
              "0  I must say, no more other words to express inn...      5.0\n",
              "1  Phone is gud but I dun feel it’s worth this am...      4.0\n",
              "2  The true machine !! Ultimately you can say the...      5.0\n",
              "3  Best battery performance compare to all the iP...      5.0\n",
              "4                              Heating issue to high      1.0"
            ]
          },
          "metadata": {
            "tags": []
          },
          "execution_count": 69
        }
      ]
    }
  ]
}