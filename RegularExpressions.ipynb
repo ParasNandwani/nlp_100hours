{
  "nbformat": 4,
  "nbformat_minor": 0,
  "metadata": {
    "colab": {
      "name": "RegularExpressions.ipynb",
      "provenance": [],
      "include_colab_link": true
    },
    "kernelspec": {
      "name": "python3",
      "display_name": "Python 3"
    }
  },
  "cells": [
    {
      "cell_type": "markdown",
      "metadata": {
        "id": "view-in-github",
        "colab_type": "text"
      },
      "source": [
        "<a href=\"https://colab.research.google.com/github/ParasNandwani/nlp_100hours/blob/master/RegularExpressions.ipynb\" target=\"_parent\"><img src=\"https://colab.research.google.com/assets/colab-badge.svg\" alt=\"Open In Colab\"/></a>"
      ]
    },
    {
      "cell_type": "code",
      "metadata": {
        "id": "grM8hpKzzxbo",
        "colab_type": "code",
        "colab": {
          "base_uri": "https://localhost:8080/",
          "height": 1000
        },
        "outputId": "545fa784-26a3-4224-9610-b42dd1201862"
      },
      "source": [
        "# regex expressions\n",
        "import re\n",
        "import nltk\n",
        "nltk.download('all')"
      ],
      "execution_count": 31,
      "outputs": [
        {
          "output_type": "stream",
          "text": [
            "[nltk_data] Downloading collection 'all'\n",
            "[nltk_data]    | \n",
            "[nltk_data]    | Downloading package abc to /root/nltk_data...\n",
            "[nltk_data]    |   Unzipping corpora/abc.zip.\n",
            "[nltk_data]    | Downloading package alpino to /root/nltk_data...\n",
            "[nltk_data]    |   Unzipping corpora/alpino.zip.\n",
            "[nltk_data]    | Downloading package biocreative_ppi to\n",
            "[nltk_data]    |     /root/nltk_data...\n",
            "[nltk_data]    |   Unzipping corpora/biocreative_ppi.zip.\n",
            "[nltk_data]    | Downloading package brown to /root/nltk_data...\n",
            "[nltk_data]    |   Unzipping corpora/brown.zip.\n",
            "[nltk_data]    | Downloading package brown_tei to /root/nltk_data...\n",
            "[nltk_data]    |   Unzipping corpora/brown_tei.zip.\n",
            "[nltk_data]    | Downloading package cess_cat to /root/nltk_data...\n",
            "[nltk_data]    |   Unzipping corpora/cess_cat.zip.\n",
            "[nltk_data]    | Downloading package cess_esp to /root/nltk_data...\n",
            "[nltk_data]    |   Unzipping corpora/cess_esp.zip.\n",
            "[nltk_data]    | Downloading package chat80 to /root/nltk_data...\n",
            "[nltk_data]    |   Unzipping corpora/chat80.zip.\n",
            "[nltk_data]    | Downloading package city_database to\n",
            "[nltk_data]    |     /root/nltk_data...\n",
            "[nltk_data]    |   Unzipping corpora/city_database.zip.\n",
            "[nltk_data]    | Downloading package cmudict to /root/nltk_data...\n",
            "[nltk_data]    |   Unzipping corpora/cmudict.zip.\n",
            "[nltk_data]    | Downloading package comparative_sentences to\n",
            "[nltk_data]    |     /root/nltk_data...\n",
            "[nltk_data]    |   Unzipping corpora/comparative_sentences.zip.\n",
            "[nltk_data]    | Downloading package comtrans to /root/nltk_data...\n",
            "[nltk_data]    | Downloading package conll2000 to /root/nltk_data...\n",
            "[nltk_data]    |   Unzipping corpora/conll2000.zip.\n",
            "[nltk_data]    | Downloading package conll2002 to /root/nltk_data...\n",
            "[nltk_data]    |   Unzipping corpora/conll2002.zip.\n",
            "[nltk_data]    | Downloading package conll2007 to /root/nltk_data...\n",
            "[nltk_data]    | Downloading package crubadan to /root/nltk_data...\n",
            "[nltk_data]    |   Unzipping corpora/crubadan.zip.\n",
            "[nltk_data]    | Downloading package dependency_treebank to\n",
            "[nltk_data]    |     /root/nltk_data...\n",
            "[nltk_data]    |   Unzipping corpora/dependency_treebank.zip.\n",
            "[nltk_data]    | Downloading package dolch to /root/nltk_data...\n",
            "[nltk_data]    |   Unzipping corpora/dolch.zip.\n",
            "[nltk_data]    | Downloading package europarl_raw to\n",
            "[nltk_data]    |     /root/nltk_data...\n",
            "[nltk_data]    |   Unzipping corpora/europarl_raw.zip.\n",
            "[nltk_data]    | Downloading package floresta to /root/nltk_data...\n",
            "[nltk_data]    |   Unzipping corpora/floresta.zip.\n",
            "[nltk_data]    | Downloading package framenet_v15 to\n",
            "[nltk_data]    |     /root/nltk_data...\n",
            "[nltk_data]    |   Unzipping corpora/framenet_v15.zip.\n",
            "[nltk_data]    | Downloading package framenet_v17 to\n",
            "[nltk_data]    |     /root/nltk_data...\n",
            "[nltk_data]    |   Unzipping corpora/framenet_v17.zip.\n",
            "[nltk_data]    | Downloading package gazetteers to /root/nltk_data...\n",
            "[nltk_data]    |   Unzipping corpora/gazetteers.zip.\n",
            "[nltk_data]    | Downloading package genesis to /root/nltk_data...\n",
            "[nltk_data]    |   Unzipping corpora/genesis.zip.\n",
            "[nltk_data]    | Downloading package gutenberg to /root/nltk_data...\n",
            "[nltk_data]    |   Unzipping corpora/gutenberg.zip.\n",
            "[nltk_data]    | Downloading package ieer to /root/nltk_data...\n",
            "[nltk_data]    |   Unzipping corpora/ieer.zip.\n",
            "[nltk_data]    | Downloading package inaugural to /root/nltk_data...\n",
            "[nltk_data]    |   Unzipping corpora/inaugural.zip.\n",
            "[nltk_data]    | Downloading package indian to /root/nltk_data...\n",
            "[nltk_data]    |   Unzipping corpora/indian.zip.\n",
            "[nltk_data]    | Downloading package jeita to /root/nltk_data...\n",
            "[nltk_data]    | Downloading package kimmo to /root/nltk_data...\n",
            "[nltk_data]    |   Unzipping corpora/kimmo.zip.\n",
            "[nltk_data]    | Downloading package knbc to /root/nltk_data...\n",
            "[nltk_data]    | Downloading package lin_thesaurus to\n",
            "[nltk_data]    |     /root/nltk_data...\n",
            "[nltk_data]    |   Unzipping corpora/lin_thesaurus.zip.\n",
            "[nltk_data]    | Downloading package mac_morpho to /root/nltk_data...\n",
            "[nltk_data]    |   Unzipping corpora/mac_morpho.zip.\n",
            "[nltk_data]    | Downloading package machado to /root/nltk_data...\n",
            "[nltk_data]    | Downloading package masc_tagged to /root/nltk_data...\n",
            "[nltk_data]    | Downloading package moses_sample to\n",
            "[nltk_data]    |     /root/nltk_data...\n",
            "[nltk_data]    |   Unzipping models/moses_sample.zip.\n",
            "[nltk_data]    | Downloading package movie_reviews to\n",
            "[nltk_data]    |     /root/nltk_data...\n",
            "[nltk_data]    |   Unzipping corpora/movie_reviews.zip.\n",
            "[nltk_data]    | Downloading package names to /root/nltk_data...\n",
            "[nltk_data]    |   Unzipping corpora/names.zip.\n",
            "[nltk_data]    | Downloading package nombank.1.0 to /root/nltk_data...\n",
            "[nltk_data]    | Downloading package nps_chat to /root/nltk_data...\n",
            "[nltk_data]    |   Package nps_chat is already up-to-date!\n",
            "[nltk_data]    | Downloading package omw to /root/nltk_data...\n",
            "[nltk_data]    |   Unzipping corpora/omw.zip.\n",
            "[nltk_data]    | Downloading package opinion_lexicon to\n",
            "[nltk_data]    |     /root/nltk_data...\n",
            "[nltk_data]    |   Unzipping corpora/opinion_lexicon.zip.\n",
            "[nltk_data]    | Downloading package paradigms to /root/nltk_data...\n",
            "[nltk_data]    |   Unzipping corpora/paradigms.zip.\n",
            "[nltk_data]    | Downloading package pil to /root/nltk_data...\n",
            "[nltk_data]    |   Unzipping corpora/pil.zip.\n",
            "[nltk_data]    | Downloading package pl196x to /root/nltk_data...\n",
            "[nltk_data]    |   Unzipping corpora/pl196x.zip.\n",
            "[nltk_data]    | Downloading package ppattach to /root/nltk_data...\n",
            "[nltk_data]    |   Unzipping corpora/ppattach.zip.\n",
            "[nltk_data]    | Downloading package problem_reports to\n",
            "[nltk_data]    |     /root/nltk_data...\n",
            "[nltk_data]    |   Unzipping corpora/problem_reports.zip.\n",
            "[nltk_data]    | Downloading package propbank to /root/nltk_data...\n",
            "[nltk_data]    | Downloading package ptb to /root/nltk_data...\n",
            "[nltk_data]    |   Unzipping corpora/ptb.zip.\n",
            "[nltk_data]    | Downloading package product_reviews_1 to\n",
            "[nltk_data]    |     /root/nltk_data...\n",
            "[nltk_data]    |   Unzipping corpora/product_reviews_1.zip.\n",
            "[nltk_data]    | Downloading package product_reviews_2 to\n",
            "[nltk_data]    |     /root/nltk_data...\n",
            "[nltk_data]    |   Unzipping corpora/product_reviews_2.zip.\n",
            "[nltk_data]    | Downloading package pros_cons to /root/nltk_data...\n",
            "[nltk_data]    |   Unzipping corpora/pros_cons.zip.\n",
            "[nltk_data]    | Downloading package qc to /root/nltk_data...\n",
            "[nltk_data]    |   Unzipping corpora/qc.zip.\n",
            "[nltk_data]    | Downloading package reuters to /root/nltk_data...\n",
            "[nltk_data]    | Downloading package rte to /root/nltk_data...\n",
            "[nltk_data]    |   Unzipping corpora/rte.zip.\n",
            "[nltk_data]    | Downloading package semcor to /root/nltk_data...\n",
            "[nltk_data]    | Downloading package senseval to /root/nltk_data...\n",
            "[nltk_data]    |   Unzipping corpora/senseval.zip.\n",
            "[nltk_data]    | Downloading package sentiwordnet to\n",
            "[nltk_data]    |     /root/nltk_data...\n",
            "[nltk_data]    |   Unzipping corpora/sentiwordnet.zip.\n",
            "[nltk_data]    | Downloading package sentence_polarity to\n",
            "[nltk_data]    |     /root/nltk_data...\n",
            "[nltk_data]    |   Unzipping corpora/sentence_polarity.zip.\n",
            "[nltk_data]    | Downloading package shakespeare to /root/nltk_data...\n",
            "[nltk_data]    |   Unzipping corpora/shakespeare.zip.\n",
            "[nltk_data]    | Downloading package sinica_treebank to\n",
            "[nltk_data]    |     /root/nltk_data...\n",
            "[nltk_data]    |   Unzipping corpora/sinica_treebank.zip.\n",
            "[nltk_data]    | Downloading package smultron to /root/nltk_data...\n",
            "[nltk_data]    |   Unzipping corpora/smultron.zip.\n",
            "[nltk_data]    | Downloading package state_union to /root/nltk_data...\n",
            "[nltk_data]    |   Unzipping corpora/state_union.zip.\n",
            "[nltk_data]    | Downloading package stopwords to /root/nltk_data...\n",
            "[nltk_data]    |   Unzipping corpora/stopwords.zip.\n",
            "[nltk_data]    | Downloading package subjectivity to\n",
            "[nltk_data]    |     /root/nltk_data...\n",
            "[nltk_data]    |   Unzipping corpora/subjectivity.zip.\n",
            "[nltk_data]    | Downloading package swadesh to /root/nltk_data...\n",
            "[nltk_data]    |   Unzipping corpora/swadesh.zip.\n",
            "[nltk_data]    | Downloading package switchboard to /root/nltk_data...\n",
            "[nltk_data]    |   Unzipping corpora/switchboard.zip.\n",
            "[nltk_data]    | Downloading package timit to /root/nltk_data...\n",
            "[nltk_data]    |   Unzipping corpora/timit.zip.\n",
            "[nltk_data]    | Downloading package toolbox to /root/nltk_data...\n",
            "[nltk_data]    |   Unzipping corpora/toolbox.zip.\n",
            "[nltk_data]    | Downloading package treebank to /root/nltk_data...\n",
            "[nltk_data]    |   Unzipping corpora/treebank.zip.\n",
            "[nltk_data]    | Downloading package twitter_samples to\n",
            "[nltk_data]    |     /root/nltk_data...\n",
            "[nltk_data]    |   Unzipping corpora/twitter_samples.zip.\n",
            "[nltk_data]    | Downloading package udhr to /root/nltk_data...\n",
            "[nltk_data]    |   Unzipping corpora/udhr.zip.\n",
            "[nltk_data]    | Downloading package udhr2 to /root/nltk_data...\n",
            "[nltk_data]    |   Unzipping corpora/udhr2.zip.\n",
            "[nltk_data]    | Downloading package unicode_samples to\n",
            "[nltk_data]    |     /root/nltk_data...\n",
            "[nltk_data]    |   Unzipping corpora/unicode_samples.zip.\n",
            "[nltk_data]    | Downloading package universal_treebanks_v20 to\n",
            "[nltk_data]    |     /root/nltk_data...\n",
            "[nltk_data]    | Downloading package verbnet to /root/nltk_data...\n",
            "[nltk_data]    |   Unzipping corpora/verbnet.zip.\n",
            "[nltk_data]    | Downloading package verbnet3 to /root/nltk_data...\n",
            "[nltk_data]    |   Unzipping corpora/verbnet3.zip.\n",
            "[nltk_data]    | Downloading package webtext to /root/nltk_data...\n",
            "[nltk_data]    |   Unzipping corpora/webtext.zip.\n",
            "[nltk_data]    | Downloading package wordnet to /root/nltk_data...\n",
            "[nltk_data]    |   Unzipping corpora/wordnet.zip.\n",
            "[nltk_data]    | Downloading package wordnet_ic to /root/nltk_data...\n",
            "[nltk_data]    |   Unzipping corpora/wordnet_ic.zip.\n",
            "[nltk_data]    | Downloading package words to /root/nltk_data...\n",
            "[nltk_data]    |   Package words is already up-to-date!\n",
            "[nltk_data]    | Downloading package ycoe to /root/nltk_data...\n",
            "[nltk_data]    |   Unzipping corpora/ycoe.zip.\n",
            "[nltk_data]    | Downloading package rslp to /root/nltk_data...\n",
            "[nltk_data]    |   Unzipping stemmers/rslp.zip.\n",
            "[nltk_data]    | Downloading package maxent_treebank_pos_tagger to\n",
            "[nltk_data]    |     /root/nltk_data...\n",
            "[nltk_data]    |   Unzipping taggers/maxent_treebank_pos_tagger.zip.\n",
            "[nltk_data]    | Downloading package universal_tagset to\n",
            "[nltk_data]    |     /root/nltk_data...\n",
            "[nltk_data]    |   Unzipping taggers/universal_tagset.zip.\n",
            "[nltk_data]    | Downloading package maxent_ne_chunker to\n",
            "[nltk_data]    |     /root/nltk_data...\n",
            "[nltk_data]    |   Unzipping chunkers/maxent_ne_chunker.zip.\n",
            "[nltk_data]    | Downloading package punkt to /root/nltk_data...\n",
            "[nltk_data]    |   Unzipping tokenizers/punkt.zip.\n",
            "[nltk_data]    | Downloading package book_grammars to\n",
            "[nltk_data]    |     /root/nltk_data...\n",
            "[nltk_data]    |   Unzipping grammars/book_grammars.zip.\n",
            "[nltk_data]    | Downloading package sample_grammars to\n",
            "[nltk_data]    |     /root/nltk_data...\n",
            "[nltk_data]    |   Unzipping grammars/sample_grammars.zip.\n",
            "[nltk_data]    | Downloading package spanish_grammars to\n",
            "[nltk_data]    |     /root/nltk_data...\n",
            "[nltk_data]    |   Unzipping grammars/spanish_grammars.zip.\n",
            "[nltk_data]    | Downloading package basque_grammars to\n",
            "[nltk_data]    |     /root/nltk_data...\n",
            "[nltk_data]    |   Unzipping grammars/basque_grammars.zip.\n",
            "[nltk_data]    | Downloading package large_grammars to\n",
            "[nltk_data]    |     /root/nltk_data...\n",
            "[nltk_data]    |   Unzipping grammars/large_grammars.zip.\n",
            "[nltk_data]    | Downloading package tagsets to /root/nltk_data...\n",
            "[nltk_data]    |   Unzipping help/tagsets.zip.\n",
            "[nltk_data]    | Downloading package snowball_data to\n",
            "[nltk_data]    |     /root/nltk_data...\n",
            "[nltk_data]    | Downloading package bllip_wsj_no_aux to\n",
            "[nltk_data]    |     /root/nltk_data...\n",
            "[nltk_data]    |   Unzipping models/bllip_wsj_no_aux.zip.\n",
            "[nltk_data]    | Downloading package word2vec_sample to\n",
            "[nltk_data]    |     /root/nltk_data...\n",
            "[nltk_data]    |   Unzipping models/word2vec_sample.zip.\n",
            "[nltk_data]    | Downloading package panlex_swadesh to\n",
            "[nltk_data]    |     /root/nltk_data...\n",
            "[nltk_data]    | Downloading package mte_teip5 to /root/nltk_data...\n",
            "[nltk_data]    |   Unzipping corpora/mte_teip5.zip.\n",
            "[nltk_data]    | Downloading package averaged_perceptron_tagger to\n",
            "[nltk_data]    |     /root/nltk_data...\n",
            "[nltk_data]    |   Unzipping taggers/averaged_perceptron_tagger.zip.\n",
            "[nltk_data]    | Downloading package averaged_perceptron_tagger_ru to\n",
            "[nltk_data]    |     /root/nltk_data...\n",
            "[nltk_data]    |   Unzipping\n",
            "[nltk_data]    |       taggers/averaged_perceptron_tagger_ru.zip.\n",
            "[nltk_data]    | Downloading package perluniprops to\n",
            "[nltk_data]    |     /root/nltk_data...\n",
            "[nltk_data]    |   Unzipping misc/perluniprops.zip.\n",
            "[nltk_data]    | Downloading package nonbreaking_prefixes to\n",
            "[nltk_data]    |     /root/nltk_data...\n",
            "[nltk_data]    |   Unzipping corpora/nonbreaking_prefixes.zip.\n",
            "[nltk_data]    | Downloading package vader_lexicon to\n",
            "[nltk_data]    |     /root/nltk_data...\n",
            "[nltk_data]    | Downloading package porter_test to /root/nltk_data...\n",
            "[nltk_data]    |   Unzipping stemmers/porter_test.zip.\n",
            "[nltk_data]    | Downloading package wmt15_eval to /root/nltk_data...\n",
            "[nltk_data]    |   Unzipping models/wmt15_eval.zip.\n",
            "[nltk_data]    | Downloading package mwa_ppdb to /root/nltk_data...\n",
            "[nltk_data]    |   Unzipping misc/mwa_ppdb.zip.\n",
            "[nltk_data]    | \n",
            "[nltk_data]  Done downloading collection all\n"
          ],
          "name": "stdout"
        },
        {
          "output_type": "execute_result",
          "data": {
            "text/plain": [
              "True"
            ]
          },
          "metadata": {
            "tags": []
          },
          "execution_count": 31
        }
      ]
    },
    {
      "cell_type": "code",
      "metadata": {
        "id": "DEx6u4zb2eNK",
        "colab_type": "code",
        "colab": {
          "base_uri": "https://localhost:8080/",
          "height": 51
        },
        "outputId": "258f031f-890e-4e05-fb2e-8236bc2dd822"
      },
      "source": [
        "# using word corpus\n",
        "nltk.download('words')\n",
        "wordlist=[w for w in nltk.corpus.words.words('en') if w.islower()]"
      ],
      "execution_count": 3,
      "outputs": [
        {
          "output_type": "stream",
          "text": [
            "[nltk_data] Downloading package words to /root/nltk_data...\n",
            "[nltk_data]   Unzipping corpora/words.zip.\n"
          ],
          "name": "stdout"
        }
      ]
    },
    {
      "cell_type": "code",
      "metadata": {
        "id": "eTzBz0oa25Vr",
        "colab_type": "code",
        "colab": {
          "base_uri": "https://localhost:8080/",
          "height": 34
        },
        "outputId": "fdf3017a-3b5b-4039-f7f8-4606f3d1d976"
      },
      "source": [
        "wordlist[1:10]"
      ],
      "execution_count": 5,
      "outputs": [
        {
          "output_type": "execute_result",
          "data": {
            "text/plain": [
              "['aa', 'aal', 'aalii', 'aam', 'aardvark', 'aardwolf', 'aba', 'abac', 'abaca']"
            ]
          },
          "metadata": {
            "tags": []
          },
          "execution_count": 5
        }
      ]
    },
    {
      "cell_type": "code",
      "metadata": {
        "id": "ZBLVmhiA3GZh",
        "colab_type": "code",
        "colab": {
          "base_uri": "https://localhost:8080/",
          "height": 54
        },
        "outputId": "84e81d33-bcd9-4bf6-ff45-4b9354e4922b"
      },
      "source": [
        "# search function in regex\n",
        "# $ represnts the end of the string\n",
        "# $ is a meta charceter which looks to search at end\n",
        "# The re.search() function stops after the first occurrence that satisfies your condition, not the first option in the pattern.\n",
        "print([w for w in wordlist if re.search('ly$',w)][0:10])"
      ],
      "execution_count": 8,
      "outputs": [
        {
          "output_type": "stream",
          "text": [
            "['abactinally', 'abandonedly', 'abasedly', 'abashedly', 'abashlessly', 'abbreviately', 'abdominally', 'abhorrently', 'abidingly', 'abiogenetically']\n"
          ],
          "name": "stdout"
        }
      ]
    },
    {
      "cell_type": "code",
      "metadata": {
        "id": "7HgsdMeYBtKZ",
        "colab_type": "code",
        "colab": {
          "base_uri": "https://localhost:8080/",
          "height": 34
        },
        "outputId": "dc1edb1b-331b-4ec1-f63c-f32c6f7baafe"
      },
      "source": [
        "# ^ is a meta charceter which looks to search at starting\n",
        "print([w for w in wordlist if re.search('^twi',w)][0:10])"
      ],
      "execution_count": 11,
      "outputs": [
        {
          "output_type": "stream",
          "text": [
            "['twibil', 'twibilled', 'twice', 'twicer', 'twicet', 'twichild', 'twick', 'twiddle', 'twiddler', 'twiddling']\n"
          ],
          "name": "stdout"
        }
      ]
    },
    {
      "cell_type": "code",
      "metadata": {
        "id": "REg5niFUCAwi",
        "colab_type": "code",
        "colab": {
          "base_uri": "https://localhost:8080/",
          "height": 34
        },
        "outputId": "5fdb5fdd-e898-471f-9c1c-559f4074ec0d"
      },
      "source": [
        "# search for complex pattern\n",
        "# . represent a character in string\n",
        "print([w for w in wordlist if re.search('^p...s$',w)][1:10])"
      ],
      "execution_count": 13,
      "outputs": [
        {
          "output_type": "stream",
          "text": [
            "['palas', 'palus', 'pants', 'patas', 'pavis', 'pedes', 'penis', 'peres', 'piles']\n"
          ],
          "name": "stdout"
        }
      ]
    },
    {
      "cell_type": "code",
      "metadata": {
        "id": "SaE1KHkwCyYI",
        "colab_type": "code",
        "colab": {
          "base_uri": "https://localhost:8080/",
          "height": 34
        },
        "outputId": "e17a9313-34b3-457f-b13c-608a240c7a6b"
      },
      "source": [
        "print([w for w in wordlist if re.search('..j..t...$',w)][1:10])"
      ],
      "execution_count": 19,
      "outputs": [
        {
          "output_type": "stream",
          "text": [
            "['abjective', 'adjection', 'adjective', 'adjustage', 'adjustive', 'conjective', 'conjecture', 'counterobjection', 'dejectile']\n"
          ],
          "name": "stdout"
        }
      ]
    },
    {
      "cell_type": "code",
      "metadata": {
        "id": "TvQIHEwdGwgQ",
        "colab_type": "code",
        "colab": {
          "base_uri": "https://localhost:8080/",
          "height": 34
        },
        "outputId": "aa714f0d-19c4-4db3-8f37-c1a6eeb4c126"
      },
      "source": [
        "# [ghi][mno] matches the combinations of the words\n",
        "print([w for w in wordlist if re.search('^[ghi][mno]$',w)][0:10])"
      ],
      "execution_count": 21,
      "outputs": [
        {
          "output_type": "stream",
          "text": [
            "['go', 'ho', 'in', 'io']\n"
          ],
          "name": "stdout"
        }
      ]
    },
    {
      "cell_type": "code",
      "metadata": {
        "id": "xAhygBJEJrwD",
        "colab_type": "code",
        "colab": {
          "base_uri": "https://localhost:8080/",
          "height": 68
        },
        "outputId": "e4210cbb-f950-49d1-9d4d-09a60632ef17"
      },
      "source": [
        "nltk.download('nps_chat')"
      ],
      "execution_count": 23,
      "outputs": [
        {
          "output_type": "stream",
          "text": [
            "[nltk_data] Downloading package nps_chat to /root/nltk_data...\n",
            "[nltk_data]   Unzipping corpora/nps_chat.zip.\n"
          ],
          "name": "stdout"
        },
        {
          "output_type": "execute_result",
          "data": {
            "text/plain": [
              "True"
            ]
          },
          "metadata": {
            "tags": []
          },
          "execution_count": 23
        }
      ]
    },
    {
      "cell_type": "code",
      "metadata": {
        "id": "FARAOiTXIdru",
        "colab_type": "code",
        "colab": {
          "base_uri": "https://localhost:8080/",
          "height": 54
        },
        "outputId": "f5701c40-e0bd-45f3-f053-66e80771c0f7"
      },
      "source": [
        "chat_words=sorted(set(w for w in nltk.corpus.nps_chat.words()))"
      ],
      "execution_count": 24,
      "outputs": [
        {
          "output_type": "stream",
          "text": [
            "['', '!', '!!', '!!!', '!!!!', '!!!!!', '!!!!!!', '!!!!!!!', '!!!!!!!!', '!!!!!!!!!', '!!!!!!!!!!', '!!!!!!!!!!!', '!!!!!!!!!!!!!', '!!!!!!!!!!!!!!!!', '!!!!!!!!!!!!!!!!!!!!!!', '!!!!!!!!!!!!!!!!!!!!!!!', '!!!!!!!!!!!!!!!!!!!!!!!!!!!', '!!!!!!!!!!!!!!!!!!!!!!!!!!!!', '!!!!!!!!!!!!!!!!!!!!!!!!!!!!!!!!!!!!!!!!!!!!!!!!!!!!!!', '!!!!!!.', '!!!!!.', '!!!!....', '!!!.', '!!.', '!!...', '!.', '!...', '!=', '!?', '!??', '!???', '\"', '\"...', '\"?', '\"s', '#', '###', '####', '#14-19teens', '#40sPlus', '#prideIsland', '#prideisland', '#talkcity-20s', '#talkcity_adults', '$', '$$', '$27', '&', '&^', \"'\", \"''\", \"'.\", \"'d\", \"'ello\", \"'ll\", \"'m\", \"'n'\", \"'re\", \"'s\", \"'ve\", '(', '( o Y o )', '(((', '((((', '(((((', '((((((', '(((((((', '((((((((', '(((((((((', '((((((((((', '(((((((((((', '((((((((((((', '(((((((((((((', '((((((((((((((', '(((((((((((((((', '(((((((((((((((((', '((((((((((((((((((', '((((((((((((((((((((', '(((((((((((((((((((((', '(((((((((((((((((((((((', '((((((((((((((((((((((((', '(((((((((((((((((((((((((', '((((((((((((((((((((((((((', '(((((..', '(*&(^', '(.', '(__I__)', ')', ')))', '))))', ')))))', ')))))))', '))))))))', ')))))))))', '))))))))))', ')))))))))))', '))))))))))))', ')))))))))))))', '))))))))))))))', ')))))))))))))))', ')))))))))))))))))', ')))))))))))))))))))', ')))))))))))))))))))))', '))))))))))))))))))))))', '))))))))))))))))))))))))))))', ')))))))))))))))))))))))))))))))', ')?', '*', '******', '*VBS*', '*WOW*', '*blush*', '*drools*', '*grins*', '*hugs*', '*smewchies*', '*sniffs*', '*spank*', '*waves*', '+', '+*+*+*+*', '++', ',', ',,', ',,,', ',,,,', ',,,,,', ',,,,,,,', ',,,,,,,,,,,', '-', '-(', '--', '-------------', '--------------------', '--------->', '-->', '-...)...-', '-17', '-21', '-6', '-_-', '-o', '-s', '-stay-', '.', '. .', '. . .', '. ...', '.(.', '.(..(.vMp3 v1.7.4.).)', '.(..(.vMp3 vi.p.t.)..).', '.)', '.).', '..', '.. .', '..(..', '...', '....', '.....', '......', '.......', '........', '.........', '..........', '...........', '............', '.............', '................', '..................', '...................', '....................', '........................', '..............................', '.45', '.:', '.;)', '.A.n.a.c.?.n.?.a.', '.op.', '.owner.', '/', '//', '//www.wunderground.com/cgi-bin/findweather/getForecast?query=95953#FIR', '0', '05.', '06.', '1', '1-900-anal-sex', '1.98', '1.99', '10', '100', '100%', '1012.', '1016.', '102.6', '10:49', '10th', '11', '12', '12%', '1200', '121.7', '1299', '13', '138', '14', '14-16', '147.7', '15', '16', '16.', '17', '18', '185', '18ST', '19', '1900', '1930', '1980', '1985', '1996', '1cos', '2', '2.3', '20', '20.', '2006', '20S', '20s', '21', '22', '220', '224', '23', '24', '246', '247', '25', '26', '27', '28', '280', '28147', '29', '29.88.', '295', '29803', '2:55', '2DAY', '2Pac', '2nd', '3', '30', '30.', '30.00.', '300', '31', '32', '33', '3333333', '33982', '34', '35', '36', '360', '37', '38', '39', '39.3', '396', '3:45', '3~<-..4@.', '4', '4.20', '41', '423', '43', '43.', '45', '45.5', '453', '46', '46.', '47', '47.', '49', '4:03', '5', '50', '51', '53', '55', '55%', '55.', '56', '56.', '57', '57401', '579', '59', '59%', '6', '60', '60s', '64.8', '65%', '68%', '69', '6:38', '6:41', '6:51', '6:53', '7', '70%', '700', '73%', '73042', '75', '75%', '76%', '77', '7:45', '8', '80', '8082653953', '818', '85%', '9', '9.53', '90', '92129', '92780', '93', '93%', '95953', '98.5', '98.6', '99', '99701', '99703', '9:10', ':', ':(', ':)', ':):):)', ':-(', ':-)', ':-@', ':-o', ':.', ':/', ':@', ':D', ':O', ':P', ':]', ':beer:', ':blush:', ':love:', ':o *', ':p', ':tongue:', ':|', ';', '; ..', ';)', ';-(', ';-)', ';0', ';]', ';p', '<', '<,', '<-', '<--', '<---', '<----', '<----------', '<3', \"<3's\", '<33', '<333', '<3333', '<33333', '<333333333', '<3333333333333333', '<33333333333333333', '<<', '<<<', '<<<<', '<<<<,', '<<<<<', '<<<<<<', '<<<<<<,', '<<<<<<<', '<<<<<<<<<<<<<<', '<empty>', '<perk>', '<~~~', '=', \"='s\", '=(', '=)', '=-\\\\', '=/', '=D', '=O', '=[', '=]', '=p', '>', '>.>', '>.>->', '>:->', '>>>', '>>>>>>>>>>', '>>>>>>>>>>>', '>>>>>>>>>>>>', '>?', '>_>', '?', '?!', '?!?!', '?!?!?', \"?'\", '?.', '?..', '?....', '??', '??!!', '??!?!??!', '???', '????', '?????', '??????', '???????', '????????', '?????????', '??@', '@', '@$$', \"@-,'~\", \"@..3-,'~.\", 'A', 'ABOUT', 'ACTION', 'AFK', 'AGAIN', 'AHAHH', 'AHAHHA', 'AHHAH', 'AI', 'AKDT', 'AKST', 'ALL', 'AM', 'AND', 'ANY', 'ANYONE', 'AOL.COM', 'ARE', 'AROUND', 'ASS', 'AWAY', 'Aberdeen', 'About', 'Ack', 'Actually', 'Added', 'Advisory', 'Again', 'Ah', 'Ahh', 'Ahhh', 'Ahhhh', 'Aiken', 'Alaska', 'Albany', 'Almost', 'Always', 'Amazingness', 'American', 'Americans', 'Amy', 'An', 'And', 'Any', 'Anyone', 'Anyway', 'Apocalypse', 'Apparently', 'Are', 'Ark', 'Arkansas', 'As', 'Ask', 'At', 'Average', 'Aw', 'Away', 'Aww', 'Awww', 'B', 'BAAAAALLLLLLLLIIIIIIINNNNNNNNNNN', 'BE', 'BIG', 'BLONDES', 'BOOTS', 'BOOTY', 'BOY', 'BUT', 'BUt', 'BYE', 'Back', 'Barbieee', 'Barometer', 'Beach', 'Because', 'Been', 'Ben', 'Benjamin', 'Better', 'Bible', 'Biiiiiitch', 'Biographys', 'Birdgang', 'Bloooooooood', 'Bloooooooooood', 'Bloooooooooooood', 'Bone', 'Bonus', 'Books', 'Boone', 'Booyah', 'Borat', 'Born', 'Box', 'Boyz', 'Break', 'Breaking', 'Broken', 'Bud', 'Burger', 'But', 'Bwhaha', 'Bye', 'C', 'CA', 'CALI', 'CAN', 'CAPS', 'CDT', 'CHAT', 'CHATHIDE', 'CHIPS', 'CHOCO', 'CO', 'COM', 'COME', 'CSI', 'CST', 'CT', 'CUZ', 'California', 'Came', 'Can', 'CanEhda', 'Cardinals', 'Cardnials', 'Cards', 'Care', 'Carolina', 'Catterick', 'Ceiling', 'Chamillionaire', 'Change', 'Changing', 'Chat', 'Check', 'Checked', 'Cheeeez', 'Chica', 'Chickens', 'Children', 'China', 'Chingy', 'Chop', 'Chris', 'Christianity', 'Ciara', 'City', 'Cleveland', 'Clock', 'Coincidence', 'Come', 'Compliments', 'Connected', 'Connecticutt', 'Considerably', 'Constitution', 'Cookies', 'Cool', 'Could', 'Course', 'Covered', 'Cradle', 'Craig', 'Crazy', 'Cream', 'Cry', 'Ct', 'Ctrl', 'Cum', 'Current', 'Cute', 'Cyber', 'D', 'DAMN', 'DAamn', 'DELIGHTFUL', 'DETROIT', 'DING', 'DIRTY', 'DJ', 'DO', 'DOES', 'DOING', 'DON', 'DONT', 'DOWNS', 'DVD', 'Dakota', 'Damn', 'Dang', 'Daniel', 'Daveeee', 'David', 'Dawn', 'Dawnstar', 'Days', 'Death', 'Deep', 'Define', 'Denver', 'Depends', 'Devil', 'Dew', 'Diary', 'Did', 'Diego', 'Dipset', 'Dixie', 'Do', 'Does', 'Doing', 'Dokken', 'Dolls', 'Dood', 'Down', 'Downy', 'Dr', 'Dr.', 'Dreams', 'Drew', 'Drive', 'Drop', 'Dude', 'Dustin', 'Dying', 'ELSE', 'ENOUGH', 'EST', 'EVEN', 'EVERYTHING', 'Earth', 'Easily', 'Eastern', 'Eddie', 'Edgewood', 'Eggs', 'Elev', 'Elle', 'End', 'Eticket', 'Evanescence', 'Even', 'Everyone', 'Everytime', 'Evil', 'Eyes', 'F', 'F5', 'FACE', 'FEMALE', 'FF', 'FINE', 'FL', 'FOLKS', 'FROM', 'Fade', 'Fails', 'Fairbanks', 'Favorite', 'Females', 'Fergalicious', 'Fergie', 'Fetish', 'Fighting', 'Figured', 'Filth', 'Finally', 'Finding', 'Finger', 'Fingers', 'First', 'Fisher', 'Fishers', 'Fix', 'Fixed', 'Flames', 'Flatts', 'Florida', 'Foley', 'Food', 'For', 'Fort', 'Foxwoods', 'FreesBee', 'Friday', 'From', 'Froogle', 'G', 'G-Mobile', 'GA', 'GIRL', 'GIRLS', 'GN', 'GNG', 'GOING', 'GOOD', 'GUYS', 'Gay', 'Geographic', 'Get', 'Ghetto', 'Girl', 'Go', 'God', 'Good', 'Gorda', 'Gosh', 'Gothic', 'Gracemont', 'Great', 'Greetings', 'GrlZ', 'Groups', 'Gs', 'Guess', 'Guy', 'H', 'H0rny', 'HAHA', 'HAHAHA', 'HALO', 'HAVE', 'HE', 'HELLO', 'HERE', 'HEY', 'HHEEYYYYYYYYYYYYYYYYYYYYYYYYYYYYYYYYYYYYYYYYYYYYYYY', 'HI', 'HOT', 'HOTT', 'HOW', 'HUGE', 'HUH', 'Ha', 'Haha', 'Hahaaaa', 'Hahhaa', 'Hail', 'Hallo', 'Hand', 'Hard', 'Harmony', 'Have', 'Hay', 'He', 'Hello', 'Help', 'Her', 'Here', 'Hero', 'Hey', 'Heya', 'Heys', 'Heyy', 'Heyyy', 'Heyyyyyyy', 'Hi', 'High', 'Highway', 'Hill', 'History', 'Hiya', 'Hmm', 'Hold', 'Holla', 'Holland', 'HolocaustYourMom', 'Holy', 'Home', 'Horace', 'Hott', 'How', 'Howdy', 'Hug', 'Hughes', 'Hugs', 'Huh', 'Humidity', 'Hummmm', 'Hungry', 'I', 'ID', 'IF', 'II', 'IL', 'IM', 'IN', 'INTERESTING', 'IRC', 'IS', 'IT', 'Ico', 'Id', 'If', 'Im', 'Ima', 'Images', 'In', 'In.', 'Indeed', 'Indiantown', 'Iowa', 'Is', 'It', 'Its', 'Ive', 'JESUS', 'JOIN', 'JRZ', 'JTo', 'JUST', 'Jam', 'James', 'Jane', 'Jason', 'Jayse', 'Jerketts', 'Jess', 'Jesus', 'Jeter', 'Joe', 'Joey', 'John', 'Jon', 'Jones', 'Jonesboro', 'Jordison', 'Joshy', 'Judy', 'Just', 'Justin', 'K', 'K-Fed', 'KNOW', 'Kansas', 'Kellogs', 'Kent', 'Kentucky', 'Kewl', 'Kick', 'Kids', 'King', 'Kiss', 'Kittie', 'KoOL', 'Kold', 'LA', 'LATE', 'LATER', 'LAst', 'LIVE', 'LIX', 'LMAO', 'LOL', 'LOLOLOLLL', 'LONG', 'LONLEY', 'LOUD', 'LOUDER', 'LOVES', 'LOl', 'LPN', 'Ladies', 'Laguna', 'Lampert', 'Last', 'Laters', 'Lay', 'Lee', 'Leeches', 'Length', 'Let', 'Lets', 'Liam', 'Lies', 'Life', 'Like', 'Lil', 'Lime', 'Lion', 'Lithium', 'Little', 'Live', 'Lives', 'Living', 'Lmao', 'Lmfao', 'LoL', 'LoVe', 'Lol', 'London', 'Long', 'Look', 'Looking', 'Lord', 'Louisville', 'Lousiana', 'Love', 'Lovely', 'LuverZ', 'M', 'MAN', 'MATCH', 'MD', 'ME', 'MISHAP', 'MODE', 'MORE', 'MOUTH', 'MP3', 'MRIs', 'MSN', 'MUAH', 'MY', 'Maidstone', 'Male', 'Man', 'Maps', 'Marlaya', 'Martian', 'Marvin', 'Mary', 'Matt', 'Max', 'Maybe', 'Me', 'Meep', 'Meh', 'Memory', 'Men', 'Mercy', 'Messaging', 'Metallica', 'Michigan', 'Midwest', 'Mine', 'Mmm', 'Mo', 'Mom', 'Money', 'Mono', 'Mooooooooooooooooooooooooooo', 'Morgan', 'Mp3', 'Ms', 'MsUtah', 'Muahz', 'Music', 'My', 'N', 'N\"T', \"N'T\", 'NAME', 'NC', 'NICK', 'NIght', 'NO', 'NONE', 'NOT', 'NOTICE', 'NTMN', 'NY', 'Nadda', 'Naples', 'Nashville', 'Need', 'Nevermind', 'New', 'News', 'Nice', 'Niceeee', 'Niceeeee', 'Nickelback', 'Night', 'Niters', 'No', 'None', 'Nooo', 'Nooooooooooooooo', 'Nope', 'Norah', 'Norfolk', 'North', 'Not', 'Nothing', 'Nova', 'Now', 'Nu', 'O', \"O's\", 'O.K', 'O.k.', 'O.o', 'OC', 'OF', 'OK', 'OMG', 'ONE', 'OOH', 'OOPS', 'OOooOO', 'OR', 'OUT', 'Oak', 'Observed', 'Obviously', 'Ocean', 'October', 'Of', 'Officer', 'Offspring', 'Oh', 'Ohh', 'Ohhh', 'Ohio', 'Ok', 'Okay', 'Okkkkkk', 'Oklahoma', 'Older', 'Omg', 'On', 'Only', 'Ontario', 'Ooo', 'Oops', 'Or', 'Our', 'Out', 'Over', 'Own', 'Oy', 'P', 'P.', 'P.ussy', 'PA', 'PART', 'PDT', 'PEOPLE', 'PERVS', 'PErvs', 'PM', \"PM's\", 'PMING', 'PMSL', 'PMing', 'PMs', 'PRIVMSG', 'PS', 'PST', 'Pa', 'Painted', 'Parkway', 'Pastor', 'Pat', 'Patient', 'Paul', 'Paxil', 'PayPal', 'Pearl', 'People', 'Perception', 'Permenant', 'Phil', 'Pic', 'Pierre', 'Player', 'Playing', 'Playstation', 'Please', 'Plssss', 'PmS', 'Point', 'Poor', 'Post-haste', 'Pounder', 'Pour', 'Private', 'Prof', 'Puddle', 'Pullin', 'Punta', 'QQ', 'QUESTION', 'QUIT', 'Quarter', 'Question', 'R', 'RI', 'RIGHT', \"RN's\", 'ROFL', 'ROOM', 'RULES', 'RUN', 'Randy', 'Rang', 'Rascal', 'Raymond', 'Reading', 'Really', 'Record', 'Red', 'Relax', 'Remember', 'Reminder', 'Repeatedly', 'Resident', 'Reub', 'Richard', 'Rick', 'Ridin', 'Road', 'Roadrunner', 'Rock', 'Rofl', 'Romance', 'Room', 'Rooster', 'Roses', 'Rothlisburger', 'Round', 'Row', 'Rule', 'Rush', 'Russion', 'Rutger', 'Ruth', 'S', 'S.M.R.', 'S3x0r', 'SAY', 'SEE', 'SEEN', 'SExy', 'SHOWS', 'SINGLEEEEEEEE', 'SIZE', 'SLEEP', 'SO', 'SOME', 'SOMETHING', 'SSRI', 'STALLION', 'STOP', 'SYNDORME', 'Salesman', 'Salisbury', 'Salut', 'Same', 'San', 'Sat', 'Sat.', 'Saturday', 'Save', 'School', 'Scorpio', 'Scott', 'Screach', 'See', 'Seee', 'Series', 'Sessions', 'Set', 'Sexy', 'Shakin', 'Shaneeeeeeeee', 'She', 'Shinedown', 'Ships', 'Shore', 'Show', 'Silent', 'Silverstein', 'Simple', 'Slide', 'Slip', 'Smoochies', 'Snake', 'Sneeze', 'So', 'Soilwork', 'Someone', 'Something', 'Song', 'Sorry', 'South', 'Space', 'Spank', 'Splashing', 'St', 'Stalker', 'Steel', 'Stick', 'Still', 'Stop', 'Strapped', 'Sun', 'Sunny', 'Sunrise', 'Sup', 'Supreme', 'Sure', 'Swackhammer', 'Swim', 'Swinging', 'T-Mobile', 'TALK', 'TALKING', 'TC', 'TELLIN', 'TEXT', 'THAT', 'THE', 'THERE', 'THERES', 'THEY', 'TIME', 'TO', 'TRUTH', 'TWO', 'TX', 'TY', 'TYPR', 'Take', 'Talk', 'Teck', 'Tell', 'Temp.', 'Tennessee', 'Tense', 'Thank', 'Thanks', 'That', 'Thats', 'The', 'Then', 'They', 'Think', 'This', 'Three', 'Through', 'Thugs', 'Tide', 'Tiff', 'Tigers', 'Tim', 'Time', 'Tina', 'Tisk', 'To', 'Too', 'Touching', 'Tower', 'Track', 'Trivium', 'Troll', 'Troy', 'Truth', 'Turn', 'Ty', 'Type', 'Tyrese', 'U', 'U0', 'U1', 'U10', 'U100', 'U101', 'U102', 'U103', 'U104', 'U105', 'U106', 'U107', 'U108', 'U109', 'U11', 'U110', 'U111', 'U112', 'U113', 'U114', 'U115', 'U116', 'U117', 'U118', 'U119', 'U12', 'U120', 'U121', 'U122', 'U123', 'U126', 'U128', 'U129', 'U13', 'U130', 'U132', 'U133', 'U134', 'U136', 'U137', 'U1370', 'U138', 'U139', 'U14', 'U141', 'U142', 'U143', 'U144', 'U145', 'U146', 'U147', 'U148', 'U149', 'U15', 'U150', 'U153', 'U154', 'U155', 'U156', 'U158', 'U16', 'U163', 'U164', 'U165', 'U168', 'U169', 'U17', 'U170', 'U172', 'U175', 'U18', 'U181', 'U19', 'U190', 'U196', 'U197', 'U2', 'U20', 'U21', 'U219', 'U22', 'U23', 'U24', 'U25', 'U26', 'U27', 'U28', 'U29', 'U3', 'U30', 'U31', 'U32', 'U33', 'U34', 'U35', 'U36', 'U37', 'U38', 'U39', 'U4', 'U40', 'U41', 'U42', 'U43', 'U44', 'U45', 'U46', 'U47', 'U48', 'U49', 'U5', 'U50', 'U51', 'U52', 'U520', 'U53', 'U54', 'U542', 'U55', 'U56', 'U57', 'U58', 'U59', 'U6', 'U60', 'U61', 'U62', 'U63', 'U64', 'U65', 'U66', 'U67', 'U68', 'U69', 'U7', 'U70', 'U71', 'U72', 'U73', 'U74', 'U75', 'U76', 'U78', 'U79', 'U8', 'U80', 'U81', 'U819', 'U82', 'U820', 'U83', 'U84', 'U85', 'U86', 'U87', 'U88', 'U89', 'U9', 'U90', 'U91', 'U92', 'U95', 'U96', 'U97', 'U98', 'U988', 'U989', 'U99', 'UFC', 'UK', 'USA', 'Ug', 'Ugh', 'Uh', 'Uhh', 'Uhhh', 'Ultimate', 'Um', 'Ummm', 'UnScramble', 'Unboring', 'United', 'Unlimited', 'Until', 'Up', 'Upstate', 'Usually', 'Ut', 'VBox', 'VIRGINIA', 'VVil', 'Very', 'Video', 'Virius', 'Visit', 'Vroooom', 'W', 'WA', 'WANNA', 'WEEEEEEEEEEEEEEEEEE', 'WHEN', 'WHISPER', 'WHISPre', 'WHO', 'WHOA', 'WHY', 'WILL', 'WITH', 'WOMAN', 'WOULD', 'WOW', 'WTF', 'Wainwright', 'Washing', 'Watching', 'Way', 'Wb', 'We', 'Web', 'Wednesday', 'Welcome', 'Well', 'Wellbutrin', 'Werd', 'Were', 'West', 'Whaaa', 'What', 'Whats', 'When', 'Where', 'Whereabouts', 'Whisper', 'Whispering', 'Whistlin', 'White', 'Whitesnake', 'Who', 'Whore', 'Why', 'Will', 'Wind', 'Wisconsin', 'World', 'Would', 'Wow', 'Wowsa', 'Wtf', 'Wyte', 'X', 'XXXXXXXXXX', 'YALL', 'YES', 'YOU', 'YOUR', 'YOu', 'YaY', 'Yarrrr', 'Yay', 'Yea', 'Yeah', 'Yeh', 'Yes', 'Yikes', 'Yo', 'YoU', 'Yoko', 'York', 'You', 'Your', 'Zebrahead', 'Zoloft', 'Zyban', '[[[[[[[[[[[[[[[[[[', '\\\\', '\\\\ty', ']:)', ']]]]]]]]]]]]]]]]]]]]]', '^', '^^', '^^^', '^_^', '_', '`', 'a', 'aTerry', 'aaaaaaaaaaaaaaaaa', 'aaahhhh', 'aberdeen', 'abide', 'able', 'abortions', 'abou', 'abourted', 'about', 'above', 'abs', 'accent', 'accept', 'access', 'accident', 'achiever', 'aching', 'acid', 'acros', 'across', 'act', 'acting', 'action', 'actually', 'actualy', 'adams', 'added', 'addict', 'addicted', 'address', 'adds', 'adduser', 'addy', 'adjusts', 'admit', 'adopted', 'adoted', 'adreniline', 'ads', 'adults', 'adventure', 'advice', 'ae', 'afe', 'affair', 'affairs', 'affari', 'affects', 'afk', 'after', 'afternoon', 'agaibn', 'again', 'against', 'age', 'ages', 'aggravated', 'ago', 'agree', 'agurlwithbigguns', 'ah', 'ahah', 'ahahah', 'ahead', 'ahem', 'ahh', 'ahhahahaha', 'ahhh', 'ahhhh', 'ahhhhhh', 'ahhhhhhhhhhhhhh', 'ai', 'aiiiiiiiiiiiiiiiiiiiiiiii', 'aim', 'aim.com', 'aime', 'aint', 'air', 'aka', 'akon', 'akron', 'al', 'albert', 'alcohol', 'alert', 'aligator', 'alive', 'all', 'allergies', 'alley', 'allo', 'allow', 'allowed', 'ally', 'almost', 'alo', 'aloha', 'alohaaa', 'alohas', 'alone', 'along', 'alot', 'alotta', 'already', 'alright', 'also', 'altar', 'alternatives', 'alterz', 'always', 'alwys', 'alzheimers', 'am', 'amazing', 'amen', 'american', 'amy', 'an', 'anal', 'and', 'angel', 'animal', 'anithing', 'annoying', 'another', 'ans', 'answer', 'answering', 'answers', 'anti', 'anti-sexy', 'antidepressants', 'anxiety', 'any', 'any1', 'anybody', 'anygirl', 'anyhow', 'anymore', 'anyone', 'anythin', 'anything', 'anytime', 'anyway', 'anyways', 'anyyyyyyyyyyyyyyyyy', 'aok', 'apartment', 'apoligize', 'appear', 'appearently', 'appears', 'applaudes', 'apple', 'appleton', 'appologise', 'appologize', 'appreciate', 'april', 'apron', 'aqwesome', 'ar', 'are', 'area', 'arent', 'arggghhh', 'argh', 'arizona', 'arm', 'arms', 'armtnpeat', 'army', 'around', 'arrange', 'arrested', 'arrived', 'arround', 'art', 'as', 'ashamed', 'aside', 'ask', 'asked', 'askin', 'asking', 'asks', 'asl', 'asleep', 'asnwer', 'ass', 'asses', 'asshole', 'assholes', 'asss', 'assumes', 'asthma', 'astral', 'at', 'ate', 'atl', 'atmospheric', 'attempted', 'attend', 'attention', 'attic', 'attorney', 'attracted', 'attraction', 'aunt', 'aussie', 'aussies', 'austin', 'australia', 'aw', 'awake', 'aware', 'away', 'awesome', 'awesomee', 'awesomes', 'awhile', 'awrighty', 'awsome', 'aww', 'awww', 'awwww', 'awwwwww', 'awwwwwww', 'awwwwwwwwww', 'aynawy', 'az', 'azerbaijan', 'b', 'b-day', 'b/c', 'b4', 'babay', 'babble', 'babblein', 'babe', 'babes', 'babi', 'babies', 'babiess', 'baby', 'babycakeses', 'bachelorette', 'back', 'backatchya', 'backfrontsidewaysandallaroundtheworld', 'backroom', 'backup', 'bacl', 'bad', 'bag', 'bagel', 'bagels', 'bahahahaa', 'bak', 'baked', 'balad', 'balance', 'balck', 'ball', 'ballin', 'balls', 'ban', 'band', 'bandito', 'bandsaw', 'banjoes', 'banned', 'baord', 'bar', 'barbie', 'bare', 'barely', 'bares', 'barfights', 'barks', 'barn', 'barrel', 'base', 'bases', 'basically', 'basket', 'battery', 'bay', 'bbbbbyyyyyyyeeeeeeeee', 'bbiam', 'bbl', 'bbs', 'bc', 'be', 'beach', 'beachhhh', 'beam', 'beams', 'beanbag', 'beans', 'bear', 'bears', 'beat', 'beaten', 'beatles', 'beats', 'beattles', 'beautiful', 'because', 'beckley', 'become', 'bed', 'bedford', 'bedroom', 'beeeeehave', 'beeehave', 'been', 'beer', 'before', 'beg', 'begin', 'behave', 'behind', 'bein', 'being', 'beleive', 'believe', 'belive', 'bell', 'belly', 'belong', 'belongings', 'ben', 'bend', 'benz', 'bes', 'beside', 'besides', 'best', 'bet', 'betrayal', 'betta', 'better', 'between', 'beuty', 'bf', 'bi', 'biatch', 'bible', 'biebsa', 'bied', 'big', 'bigest', 'biggest', 'biiiatch', 'bike', 'bikes', 'bikini', 'bio', 'bird', 'birfday', 'birthday', 'bisexual', 'bishes', 'bit', 'bitch', 'bitches', 'bitdh', 'bite', 'bites', 'biyatch', 'biz', 'bj', 'black', 'blade', 'blah', 'blank', 'blankie', 'blazed', 'bleach', 'blech', 'bless', 'blessings', 'blew', 'blind', 'blinks', 'bliss', 'blocking', 'bloe', 'blood', 'blooded', 'bloody', 'blow', 'blowing', 'blowjob', 'blowup', 'blue', 'blueberry', 'bluer', 'blues', 'blunt', 'board', 'bob', 'bodies', 'body', 'boed', 'boght', 'boi', 'boing', 'boinked', 'bois', 'bomb', 'bone', 'boned', 'bones', 'bong', 'boning', 'bonus', 'boo', 'booboo', 'boobs', 'book', 'boom', 'boooooooooooglyyyyyy', 'boost', 'boot', 'bootay', 'booted', 'boots', 'booty', 'border', 'borderline', 'bored', 'boredom', 'boring', 'born', 'born-again', 'bosom', 'boss', 'bossy', 'bot', 'both', 'bother', 'bothering', 'bottle', 'bought', 'bounced', 'bouncer', 'bouncers', 'bound', 'bout', 'bouts', 'bow', 'bowl', 'box', 'boy', 'boyfriend', 'boys', 'bra', 'brad', 'brady', 'brain', 'brakes', 'brass', 'brat', 'brb', 'brbbb', 'bread', 'break', 'breaks', 'breath', 'breathe', 'bred', 'breeding', 'bright', 'brightened', 'bring', 'brings', 'bro', 'broke', 'brooklyn', 'brother', 'brothers', 'brought', 'brown', 'brrrrrrr', 'bruises', 'brunswick', 'brwn', 'btw', 'bucks', 'buddyyyyyy', 'buff', 'buffalo', 'bug', 'bugs', 'buh', 'build', 'builds', 'built', 'bull', 'bulls', 'bum', 'bumber', 'bummer', 'bumped', 'bumper', 'bunch', 'bunny', 'burger', 'burito', 'burned', 'burns', 'burp', 'burpin', 'burps', 'burried', 'burryed', 'bus', 'buses', 'bust', 'busted', 'busy', 'but', 'butt', 'butter', 'butterscotch', 'button', 'buttons', 'buy', 'buying', 'bwahahahahahahahahahaha', 'by', 'byb', 'bye', 'byeee', 'byeeee', 'byeeeeeeee', 'byeeeeeeeeeeeee', 'byes', 'c', \"c'm\", 'ca', 'caan', 'cabbage', 'caca', 'caint', 'caiuse', 'cakes', 'cal', 'cali', 'call', 'called', 'callifornia', 'calling', 'calls', 'calm', 'cam', 'came', 'camel', 'cams', 'can', 'canada', 'canadaian', 'canadain', 'canadian', 'cancer', 'candy', 'canned', 'cannot', 'cant', 'capab;e', 'capable', 'caps', 'car', 'card', 'cardinals', 'care', 'careful', 'carefully', 'cares', 'carolina', 'carpet', 'carry', 'carrying', 'cars', 'case', 'cash', 'cast', 'casts', 'cat', 'catastrophic', 'catch', 'catches', 'categories', 'caught', 'cause', 'caused', 'caution', 'cell', 'center', 'cepn', 'cereals', 'cessation', 'chair', 'chance', 'change', 'changed', 'changing', 'channel', 'chanop', 'chanowner', 'chant', 'chapter', 'charge', 'charger', 'charlie', 'charm', 'chase', 'chat', 'chatland', 'chatr', 'chatroom', 'chats', 'chatt', 'chattanooga', 'chatted', 'chatter', 'chattin', 'chatting', 'chcken', 'cheaking', 'cheap', 'cheating', 'check', 'checkin', 'checking', 'checks', 'cheep', 'cheer', 'cheers', 'cheking', 'cherry', 'chest', 'chews', 'chica', 'chick', 'chicken', 'chics', 'chik', 'child', 'children', 'chilly', 'china', 'chineese', 'chinese', 'chip', 'chit', 'cho-co-la-te', 'cho-co-late', 'choc', 'chocha', 'choco', 'chococake', 'chocolate', 'choice', 'choices', 'choke', 'chokes', 'choose', 'chopped', 'chops', 'chp', 'christ', 'christian', 'christianity', 'chronic', 'chucking', 'chuckle', 'chuckles', 'chunks', 'churches', 'ciao', 'cigarette', 'cigars', 'ciggareets', 'cingular', 'circle', 'city', 'ck', 'claire', 'clap', 'class', 'classic', 'classroom', 'claws', 'clay', 'clear', 'cleared', 'clearly', 'clicked', 'client', 'clients', 'climate', 'cline', 'clinicals', 'clock', 'clooney', 'close', 'closes', 'closet', 'clothes', 'cloud', 'clown', 'club', 'clubs', 'clue', 'cmon', 'cnnecticut', 'co', 'co op', 'co-op', 'coast', 'coastal', 'coat', 'cock', 'coconuts', 'coem', 'coexistence', 'coffe', 'coffee', 'coggieeee', 'coherent', 'cold', 'collect', 'college', 'color', 'colors', 'column', 'com', 'combo', 'come', 'comenting', 'comes', 'comfy', 'comin', 'coming', 'commanded', 'comment', 'comments', 'common', 'comon', 'comp', 'complain', 'complains', 'completly', 'complex', 'complicated', 'compoud', 'comprende', 'comps', 'computer', 'computers', 'computor', 'con', 'conceited', 'concern', 'concernin', 'concerning', 'concrete', 'condition', 'confessed', 'confused', 'confusing', 'confusting', 'congrat', 'congrats', 'congressman', 'connection', 'considered', 'considering', 'console', 'conspiracy', 'constituents', 'construction', 'consultant', 'consuming', 'contact', 'contagious', 'contast', 'contemplating', 'contented', 'contribute', 'control', 'controll', 'controllers', 'controllin', 'controlling', 'conversation', 'converse', 'conversion', 'convinced', 'convo', 'conway', 'cook', 'cookie', 'cookies', 'cooking', 'cool', 'cool1024', 'coolcat', 'cooler', 'coonarsee', 'cooooooooookiiiiiiiiiiiieeeeeeeeeeee', 'cooter', 'cop', 'copone', 'cops', 'corn', 'corner', 'corny', 'correction', 'cos', 'cost', 'costumes', 'cotton', 'cottons', 'couch', 'coudl', 'cough', 'coughed', 'coughs', 'cougs', 'could', 'couldnt', 'counter', 'country', 'counts', 'couple', 'coupons', 'course', 'courst', 'courtesy', 'courtney', 'cousin', 'cover', 'covered', 'covers', 'cow', 'coworkers', 'cpr', 'crack', 'cramp', 'cramps', 'crap', 'crashed', 'crazy', 'cream', 'creative', 'credit', 'creme', 'crib', 'cries', 'cripes', 'cripos', 'cris-cross', 'crisis', 'criss', 'criss-cross', 'crop', 'crossed', 'crosses', 'crowded', 'cruise', 'crust', 'crusty', 'cry', 'crying', 'cuddle', 'cuddlicious', 'cuffed', 'cums', 'cup', 'cupper', 'cuppers', 'cure', 'curious', 'curls', 'current', 'currious', 'cus', 'cusion', 'cuss', 'cut', 'cute', 'cute.-ass', 'cuteness', 'cutes', 'cutie', 'cutting', 'cuz', 'cya', 'cyas', 'cyb3r', 'cyb3r-lover', 'cyber', 'cyber.', \"cyberin'\", 'cyclone', 'czeching', 'd', 'd=', 'da', 'dabble', 'dad', 'daft', 'dahlin', 'dam', 'damn', 'damnit', 'dance', 'dances', 'dancing', 'danes', 'dang', 'danger', 'dangit', 'daniel', 'danny', 'dark', 'darlin', 'darling', 'darlings', 'darwin', 'dat', 'date', 'dated', 'dating', 'daughter', 'daughters', 'davis', 'dawg', 'day', 'days', 'dayum', 'dd', 'de', 'de-tubetop', 'dead', 'deaf', 'deal', 'deals', 'dear', 'death', 'deaths', 'decades', 'deceived', 'decent', 'decided', 'deciding', 'declaw', 'declawed', 'deep', 'deeper', 'deeply', 'definately', 'definitely', 'definitley', 'defragging', 'defrags', 'degrees', 'deleware', 'deliverance', 'delivers', 'dem', 'demand', 'democrats', 'denial', 'denomination', 'dentist', 'denzel', 'deop', 'depeche', 'depending', 'depends', 'depressant', 'depressed', 'depression', 'descriminate', 'desert', 'desire', 'despie', 'despises', 'destiny', 'destruction', 'detroit', 'development', 'devil', 'devotion', 'dick', 'did', 'didnt', 'didnts', 'die', 'died', 'diego', 'dies', 'difference', 'different', 'differently', 'diggin', 'dik', 'dildo', 'dinner', 'dint', 'dirrrrty', 'dirt', 'dirty', 'dis', 'disagree', 'disappointed', 'disc', 'discretion', 'disease', 'diseast', 'disgusting', 'dislocated', 'disocvered', 'dispatcher', 'dissing', 'distance', 'distracted', 'distrustful', 'disturbing', 'ditto', 'divorced', 'dixie', 'dizzy', 'dj', 'dl', 'dman', 'do', 'dobson', 'doc', 'docs', 'doctor', 'doe', 'does', 'doesnt', 'dog', 'doggies', 'dogs', 'doin', \"doin'\", 'doing', 'dojn', 'dokey', 'doll', 'dollars', 'dolls', 'done', 'donno', 'dont', 'dontcha', 'donuts', 'doodle', 'doody', 'door', 'doors', 'dork', 'dotn', 'double', 'doublewide', 'doubt', 'douche', 'douchebag', 'doupt', 'down', 'downloaded', 'downloading', 'downnnnnn', 'downs', 'downtown', 'dr', 'dragged', 'drags', 'drama', 'drank', 'dratts', 'draw', 'drawers', 'drawn', 'dreaded', 'dream', 'dreammm', 'dreams', 'dressed', 'drew', 'drifter', 'drink', 'drinking', 'drinks', 'drive', 'driveby', 'drivers', 'drivin', 'drools', 'drop', 'dropped', 'drops', 'drug', 'drugs', 'druid', 'drunk', 'dry', 'dryer', 'dsklgjsdk', 'du', 'ducking', 'dude', 'dueling', 'duet', 'duh', 'dum', 'dumb', 'dumbass', 'dummmm', 'dump', 'dun', 'dunkin', 'dunno', 'during', 'dust', 'dya', 'dyed', 'dyslexic', 'e', \"e'wjfghky\", 'e-bay', 'e-herpes', 'e-husband', 'e-mail', 'e-v-e-r-y', 'e1', 'each', 'ear', 'early', 'early20s', 'earplugs', 'earrings', 'ears', 'easier', 'east', 'easy', 'eat', 'eating', 'eats', 'eay', 'ebay', 'ed', 'edgewood', 'edmonton', 'eeeeeeeeewwwwwwww', 'eeeek', 'eeek', 'eeekk', 'eeewww', 'eeewwwwww', 'eeww', 'effort', 'egg', 'eh', 'ehh', 'eighth', 'either', 'eitther', 'el', 'elbowS', 'elbows', 'elected', 'election', 'elections', 'electric', 'elevation', 'elle', 'ello', 'elo', 'else', 'elsewhere', 'elvis', 'em', 'email', 'emergency', 'employed', 'empty', 'enable', 'encore', 'end', 'endless', 'energy', 'eng', 'england', 'english', 'enjoy', 'enjoys', 'enough', 'ensure', 'enter', 'enters', 'entertain', 'entertaining', 'entitled', 'enuf', 'enuff', 'ep', 'equal', 'er', 'ere', 'eric', 'erics', 'erm', 'erotic', 'eroticaust', 'errrrr', 'es', 'escaped', 'eskimo', 'especially', 'essentially', 'este', 'esteem', 'estefan', 'estra', 'ether', 'euphamisms', 'euphemism', 'european', 'eva', 'evah', 'even', 'evening', 'ever', 'everbody', 'everone', 'evertonr', 'every', 'every1', 'everybody', 'everyday', 'everyone', 'everything', 'evil', 'ewedding', 'eww', 'ewww', 'ewwww', 'ewwwww', 'ewwwwww', 'ewwwwwww', 'ex', \"ex's\", 'exactly', 'excellent', 'except', 'exception', 'exchange', 'exchanged', 'exchanging', 'excitement', 'excitin', 'excuuuuuuse', 'exit', 'expect', 'expensive', 'experience', 'experimenting', 'expression', 'extensions', 'extras', 'exwife', 'eye', 'eyes', 'f', 'f**kalicious', 'f*cktards', 'f-ing', 'f.', 'f.b.i.', 'fabric', 'face', 'facilitated', 'faint', 'faints', 'fair', 'fake', 'fall', 'falling', 'fallout', 'falls', 'fallz', 'family', 'famous', 'fan', 'fantastic', 'fantastical', 'fantasy', 'far', 'farmer', 'farms', 'fart', 'farting', 'farts', 'fascination', 'fascist', 'fast', 'faster', 'fat', 'fault', 'fav', 'favorite', 'fawk', 'fawked', 'fawker', 'fck', 'fear', 'feat', 'febe', 'fee', 'feeds', 'feel', 'feeling', 'feelings', 'feels', 'feet', 'fella', 'fellow', 'fellows', 'felt', 'female', 'females', 'femine', 'fenks', 'fer', 'fetterline', 'fettish', 'few', 'fiance', 'fiddles', 'field', 'fight', 'fighter', 'fighting', 'figure', 'figured', 'files', 'filled', 'fillin', 'filthy', 'finally', 'financial', 'find', 'finding', 'finds', 'fine', 'finers', 'finger', 'fingers', 'finish', 'finished', 'fir', 'fire', 'fired', 'firs', 'first', 'fish', 'fishercat', 'fishercats', 'fishin', 'fit', 'fitness', 'fits', 'five', 'fix', 'fixed', 'fkajslf', 'fl', 'flame', 'flashed', 'flattered', 'flavor', 'flavors', 'flavour', 'flaw', 'flesh', 'flight', 'flippin', 'flirting', 'flirts', 'fliuds', 'floating', 'flooder', 'flooding', 'floor', 'flops', 'florida', 'flow', 'flower', 'fluids', 'fly', 'fo', 'fock', 'folks', 'follow', 'following', 'fongul', 'food', 'fool', 'foot', 'football', 'foothills', 'footprints', 'for', 'foreplay', 'forever', 'forget', 'forgets', 'forgive', 'forgot', 'forgotten', 'form', 'former', 'forwads', 'forward', 'forwards', 'fot', 'found', 'four', 'fourth', 'foxes', 'fractured', 'fragged', 'fraggle', 'frags', 'frankly', 'freaing', 'freak', 'freaked', 'freakin', 'freaking', 'freakishly', 'freaks', 'free', 'freeeezinggg', 'freeezinggggg', 'freind', 'french', 'frenchkiss', 'friend', 'friendly', 'friends', 'fries', 'frm', 'from', 'front', 'frown', 'frozen', 'frst', 'fruit', 'fruity', 'frustrating', 'ft', 'ft.', 'fu', 'fuck', 'fucker', 'fuckin', 'fucking', 'fucks', 'fuddahnut', 'fuked', 'fulfilling', 'full', 'fun', 'funny', 'furniture', 'further', 'futurama', 'future', 'fwd', \"g'\", 'ga', 'gaaaaaaay', 'gagas', 'gags', 'gained', 'gal', 'gals', 'game', 'gamefly', 'games', 'gaming', 'garciae', 'garlic', 'gas', 'gaspppp', 'gator', 'gawd', 'gay', 'gayoholic', 'gays', 'gear', 'gee', 'geeZe', 'geeks', 'gees', 'geesh', 'geeshh', 'geeshhh', 'geessh', 'geez', 'geeze', 'genital', 'gente', 'gentlemen', 'gently', 'george', 'get', 'gets', 'gettign', 'gettin', 'getting', 'gettysburg', 'gezzz', 'gf', 'gguyyyzzzz', 'ghet', 'ghost', 'gift', 'gigantic', 'giggles', 'giggling', 'gimp', 'girl', 'girlfriend', 'girls', 'git', 'giva', 'give', 'given', 'gives', 'giving', 'givs', 'glad', 'glitches', 'gloria', 'glorious', 'gm', 'gn', 'go', 'god', 'goddamn', 'goes', 'goin', 'going', 'gold', 'golden', 'golf', 'gomer', 'gone', 'goneee', 'gonna', 'good', 'goodbye', 'goodie', 'goodness', 'goodnight', 'goodnite', 'goody', 'goof', 'goofy', 'google', 'gooo', 'goooooo', 'gosh', 'got', 'gotaa', 'goths', 'gotta', 'gottsa', 'grabs', 'graciously', 'grade', 'grammar', 'graphics', 'grassy', 'gray', 'grea', 'great', 'green', 'greeter', 'gret', 'grettings', 'grew', 'grief', 'grilfriend', 'grin', 'grins', 'gritt', 'gritty', 'grope', 'ground', 'growing', 'grown', 'grrl', 'grrr', 'grrrrrring', 'grrrrrrrr', 'grrrrrrrrr', 'grrrrrrrrrrrrrrrrr', 'gtg', 'guard', 'guess', 'guessing', 'guest', 'guide', 'guitar', 'gum', 'gun', 'guns', 'gurlie', 'gurls', 'gurrrrl', 'guts', 'guy', 'guys', 'guyz', 'guyzz', 'h', 'h.s', 'hI', 'hPa', 'ha', 'haaa', 'had', 'hafta', 'hah', 'haha', 'hahaaa', 'hahah', 'hahaha', 'hahahaHA', 'hahahaa', 'hahahah', 'hahahaha', 'hahahahaaa', 'hahahahahaha', 'hahahahahahaha', 'hahahahahahahahahahahahahahahaha', 'hahahhahah', 'hahhahahaha', 'hail', 'hair', 'hairs', 'half', 'halfa', 'hall', 'halloween', 'halo', 'hammock', 'hand', 'handheld', 'handing', 'handle', 'hands', 'handsome', 'handy', 'handyMan', 'hang', 'hangin', 'hanging', 'hangs', 'hank', 'happen', 'happend', 'happened', 'happening', 'happens', 'happily', 'happpy', 'happy', 'hard', 'harder', 'hardly', 'hardware', 'harley', 'harsh', 'hartford', 'harvest', 'has', 'hassle', 'hat', 'hatchet', 'hate', 'hater', 'haters', 'hates', 'hav', 'have', 'havent', 'havin', 'having', 'haw', 'hawT', 'hawaii', 'hawt', 'haze', 'hazy', 'hb', 'he', 'head', 'headach', 'headed', 'header', 'heading', 'headlights', 'heads', 'heal', 'hear', 'heard', 'hearin', 'hearing', 'heart', 'heartbreaker', 'hearthechatters', 'heat', 'heaven', 'heavens', 'heck', 'hedge', 'heee', 'heeee', 'heeeey', 'heeheeheeheeheehee', 'heh', 'hehe', 'heheh', 'hehehe', 'hehehee', 'hehehehe', 'hel', 'hell', 'hello', 'helloooo', 'hellos', 'help', 'helped', 'helpful', 'helping', 'hendrix', 'hep', 'her', 'herE', 'herd', 'here', 'heroes', 'herpes', 'herself', 'hertory', 'hes', 'hey', 'heya', 'heyheyhey', 'heyy', 'heyyy', 'heyyyy', 'heyyyyy', 'heyyyyyy', 'heyyyyyyyy', 'heyyyyyyyyy', 'heyyyyyyyyyy', 'heyyyyyyyyyyyyyy', 'hfglhs', 'hgey', 'hgfhgfjgf', 'hhaaaaatttee', 'hheeyy', 'hheeyyy', 'hhehe', 'hi', 'hiYas', 'hick', 'hickory', 'hide', 'hiding', 'high', 'highway', 'hih', 'hii', 'hiii', 'hiiii', 'hilarious', 'hill', 'him', 'himself', 'hint', 'hio', 'hiom', 'hired', 'his', 'hissy', 'history', 'hit', 'hits', 'hitting', 'hives', 'hix', 'hiy', 'hiya', 'hm', 'hmm', 'hmmm', 'hmmmm', 'hmmmmm', 'hmmmmmmm', 'hmmmmmmmm', 'hmmmmmmmmmm', 'hmph', 'ho', 'hog', 'hogs', 'hohohohhohhoo', 'hoi', 'hola', 'hold', 'holdin', 'holds', 'holiday', 'holla', 'holocaust', 'holy', 'hom', 'home', 'homeade', 'homeboys', 'homes', 'homework', 'homicide', 'homies', 'homophobic', 'homosexual', 'hon', 'honest', 'honesty', 'honey', 'hong', 'hoo', 'hook', 'hooo', 'hooooo', 'hop', 'hope', 'hopefully', 'hopin', 'hoping', 'horny', 'horriable', 'horrible', 'horrid', 'horrified', 'horror', 'horse', 'hot', 'hots', 'hott', 'hottie', 'hotties', 'hour', 'hours', 'house', 'houses', 'housewife', 'how', 'howdy', 'however', 'howl', 'hows', 'howz', 'hr', 'hrs', 'http', 'http://forums.talkcity.com/tc-adults/start ', 'http://www.shadowbots.com', 'hu', 'hub', 'hubby', 'hubbys', 'hug', 'huge', 'hugggs', 'hugging', 'huggs', 'huggss', 'hugs', 'hugss', 'hugsss', 'hugsssss', 'hugsssssssss', 'hugzzzzzzz', 'huh', 'human', 'humanity', 'humid', 'humm', 'humor', 'hump', 'humple', 'hun', 'hungry', 'hunters', 'hurling', 'hurr', 'hurry', 'hurt', 'hurting', 'husband', 'huskers', 'husteling', 'huuuuuuuuuuuuuuuuuuuuuuuuuuuuuuuuuuugZ', 'hx', 'hyy', 'i', 'iamahotnip', 'iamahotniplickme', 'iamahotnipwithhotnippics', 'iamahotnipwithpics', 'ice', 'icky', 'id', 'idea', 'identity', 'idiot', 'idiots', 'idnt', 'if', 'ifr', \"iggy'd\", 'ignore', 'ignored', 'ignoring', 'ihavehotnips', 'il', 'ill', 'illin', 'illinois', 'im', 'ima', 'imaginary', 'imagine', 'imhave', 'imma', 'immediate', 'immersed', 'impaired', 'impared', 'important', 'impossible', 'impressed', 'impression', 'in', 'inch', 'included', 'incoming', 'indeed', 'individual', 'indoor', 'infection', 'infor', 'information', 'ing', 'inhales', 'inheritance', 'injureis', 'innit', 'innocense', 'innocent', 'innocently', 'insanity', 'inside', 'instead', 'insuklting', 'intelligent', 'interested', 'interesting', 'internet', 'interruption', 'intersting', 'interview', 'into', 'invention', 'invisiable', 'invisible', 'invite', 'inviting', 'involved', 'involves', 'irl', 'is', 'island', 'isnt', 'issue', 'issues', 'it', \"it's\", 'italian', 'italians', 'italy', 'itch', 'itches', 'items', 'its', 'itself', 'itz', 'ive', 'iz', 'j', 'j/k', 'j/p', 'ja', 'jack', 'jackie', 'jacking', 'jail', 'jajajaaa', 'james', 'jammed', 'jammers', 'jammies', 'japanese', 'jar', 'jeans', 'jeep', 'jeff', 'jerimiah', 'jerk', 'jerkettes', 'jerks', 'jesus', 'jimmy', 'jk', 'job', 'john', 'johnson', 'johny', 'joined', 'joining', 'joke', 'jokes', 'joking', 'joy', 'jr', 'jucilicious', 'jude', 'judge', 'judges', 'juice', 'jujubees', 'jump', 'jumpin', 'jumps', 'jungle', 'junk', 'jus', 'jush', 'just', 'jw', 'k', \"k's\", 'k-mart', 'kansas', 'kawing', 'kc', 'keep', 'keeps', 'kellogs', 'ken', 'kennedy', 'kent', 'kentucky', 'kep', 'kept', 'kev', 'kewl', 'key', 'keyboard', 'keys', 'kick', 'kickass', 'kicked', 'kicks', 'kid', 'kiddin', 'kidding', 'kidnaped', 'kids', 'kill', 'killed', 'killeded', 'killing', 'kina', 'kind', 'kinda', 'king', 'kinky', 'kiss', 'kissed', 'kisses', 'kissing', 'kissy', 'kit', 'kitchen', 'kitten', 'kitty', 'kmph', 'knee', 'knees', 'kneess', 'kneez', 'kness', 'knew', 'knock', 'knocked', 'knockin', 'know', 'known', 'knows', 'knuckles', 'knw', 'kold', 'kong', 'kookies', 'kool', 'kts', 'ky', 'l', 'la', 'label', 'lacking', 'ladies', 'ladis', 'lady', 'ladz', 'laffin', 'laffs', 'lag', 'lagging', 'laguna', 'laid', 'lake', 'lala', 'lambergini', 'lamborghini', 'lamborgini', 'lame', 'land', 'lap', 'lapd', 'laptop', 'large', 'last', 'lasts', 'lasts30', 'late', 'later', 'laters', 'laterssss', 'latest', 'latina', 'latins', 'laugh', 'laughed', 'laughin', 'laughing', 'laughs', 'laundry', 'lavendar', 'law', 'lawl', 'lazy', 'lb', 'lbs', 'ldskdlsf', 'lead', 'leaders', 'leading', 'leakin', 'learn', 'leash', 'least', 'leave', 'leaves', 'leaving', 'left', 'leg', 'legs', 'les', 'lesbian', 'lesbo', 'lesson', 'let', 'lets', 'level', 'lex', 'lez', 'lick', 'licks', 'lie', 'lies', 'life', 'light', 'lights', 'like', 'liked', 'likes', 'liking', 'lil', 'limit', 'limits', 'limp', 'lincoln', 'line', 'lingo', 'lip', 'lipstick', 'lisa', 'list', 'listen', 'listenin', 'listening', 'listens', 'lists', 'litening', 'literature', 'little', 'live', 'lived', 'lives', 'livin', 'living', 'lix', 'lixxx', 'll', 'lllllllliiiiiiiiiikeee', 'llloooozzzzeeerrrrzzzzzzzzzzzzzzzzzzzzzzzzzzzzzzzzzzzzzzzzzzzzzzzzz', 'lmao', 'lmaoo', 'lmaooo', 'lmaoooo', 'lmaooooo', 'lmfao', 'loaded', 'loc', 'local', 'log', 'lois', 'lol', 'lol.', 'lolol', 'lolololll', 'lonely', 'long', 'longer', 'look', 'looked', 'lookin', 'looking', 'looks', 'lool', 'loosen', 'lord', 'lose', 'loser', 'losing', 'loss', 'lost', 'losted', 'lot', 'lots', 'lotsa', 'lotta', 'loud', 'louis', 'louisianna', 'love', 'love4s', 'loved', 'loveing', 'lovelies', 'loveliest', 'lovely', 'lover', 'lovers', 'loves', 'lovin', 'low', 'lthen', 'ltnc', 'ltns', 'ltnsea', 'ltr', 'lubbs', 'lube', 'lucifer', 'lucifuge', 'luck', 'lucky', 'lucy-fur', 'lunch', 'lung', 'lurch', 'lurkin', 'lurks', 'lust', 'luv', 'luvs', 'lyin', 'lying', 'lysol', 'm', 'ma', 'mac', 'macho', 'mad', 'maddish', 'made', 'magical', 'magine', 'magnet', 'mah', 'mahn', 'maidstone', 'main', 'maine', 'mainland', 'major', 'make', 'makes', \"makin'\", 'making', 'male', 'males', 'mama', 'mame', 'mami', 'man', 'manage', 'mang', 'mango', 'manhattan', 'maniacal', 'manners', 'manson', 'many', 'margarita', 'marilyn', 'mark', 'marked', 'marriage', 'married', 'marry', 'martin', 'martini', \"martini's\", 'martinis', 'mary', 'maryland', 'mass', 'massage', 'massaged', 'masturbating', 'match', 'match.', 'matrix', 'matter', 'mature', 'mauh', 'may', 'maybe', 'mcgraw', 'md', 'me', 'me/', 'mean', 'means', 'meant', 'meat', 'medicine', 'medium', 'meds', 'meeeeeeeeeeeee', 'meet', 'meeting', 'member', 'memories', 'men', 'mena', 'menu', 'mercedes', 'mercy', 'meredith', 'mess', 'messages', 'messed', 'messenger', 'met', 'metal', 'metallica', 'mexican', 'mexicans', 'meyooky', \"mf'er\", 'mhm', 'mi', 'michigan', 'microwave', 'middle', 'midgets', 'might', 'miiiiiiiiiiiiinnnnnnnnnnneeeeeeeeee', 'miiiiiinnnnnnnnnneeeeeeee', 'mike', 'mikeeeeeeeeeeeeeeeeeeeeeeeeee', 'miles', 'million', 'min', 'mind', 'minded', 'mine', 'mines', 'minigames', 'minister', 'mins', 'minus', 'minute', 'minutes', 'mirror', 'misbeahve', 'misbehaving', 'mising', 'miss', \"miss'n\", 'missed', 'misses', 'missin', 'missing', 'mistake', 'misty', 'mite', 'mittens', 'mixed', 'mkay', 'mm', 'mmhmm', 'mmm', 'mmmkay', 'mmmm', 'mmmmk', 'mmmmm', 'mmmmmm', 'mmmmmmmmiiiiiiiiinnnnnnnnneeeeeeee', 'mmmmmmmmmm', 'mmmmmmmmmmmmm', 'mmmmmmmmmmmmmm', 'mmmomom', 'moanin', 'moaning', 'moans', 'moanz', 'mode', 'moderation', 'mofo', 'molest', 'mom', 'moment', 'moms', 'monday', 'money', 'mono', 'monsters', 'month', 'monthes', 'months', 'moochhhhhhhhh', 'moon', 'moonie', 'moped', 'mopeds', 'moral', 'morbidly', 'more', 'mornign', 'mornin', 'morning', 'moron', 'most', 'mostly', 'mothas', 'mother', 'mothers', 'moths', 'mountain', 'mouse', 'mouth', 'move', 'moved', 'moves', 'movie', 'movin', 'moving', 'mowin', 'mp3', 'ms', 'ms.', 'msg', 'msn', 'msners', 'mspace', 'muahhh', 'muahhhhh', 'muahssssssssssssssss', 'muahsssssssssssssssssss', 'muahz', 'muahzzzz', 'much', 'muh', 'muhaha', 'multitasking', 'mum', 'munch', 'munches', 'murder', 'muscle', 'music', 'must', 'muzak', 'mwahhs', 'mwahhss', 'mwahs', 'my', 'myself', 'myspace', 'myspace.com', 'mystery', 'n', 'n e', 'n\"t', \"n't\", 'n.n', 'n/', 'n9ne', 'n;t', 'nad', 'nada', 'nads', 'nah', 'nails', 'naked', 'nakey', 'nakie', 'name', 'named', 'names', 'nana', 'nap', 'nasty', 'national', 'nationality', 'natural', 'naughtier', 'naughty', 'nauty', 'naw', 'nawp', 'nawt', 'nawwww', 'nbc', 'nc', 'nce', 'nd', 'ne', 'near', 'nebraska', 'neck', 'necklace', 'necromancers', 'need', 'needed', 'needer', 'needs', 'needy', 'neighbor', 'neighborhood', 'neither', 'neked', 'nekkies', 'nelson', 'neone', 'nerd', 'netflix', 'nevah', 'never', 'neverneverland', 'new', 'newp', 'newspaper', 'next', 'neysa', 'nic', 'nice', 'nicer', 'nick', 'nickelback', 'nickleback', 'nickname', 'nicks', 'nicname', 'nicnames', 'night', 'nightie', 'nights', 'nirvana', 'nite', 'niteeeeeeeeeeeeeeeeeee', 'nitty', 'nj', 'nm', 'no', 'no-no', 'nobody', 'nodda', 'nods', 'noise', 'non-smoker', 'none', 'nonsense', 'noo', 'nooooo', 'noooooooooo', 'noooooooooooooo', 'nope', 'norman', 'normy', 'norny', 'nortenos', 'nose', 'nostrils', 'not', 'note', 'noted', 'notes', 'noth', 'nothin', 'nothing', 'noting', 'novel', 'now', 'nu', 'nude', 'nudes', 'nuff', 'numb', 'number', 'numbers', 'nurse', 'nut', 'nuttin', 'ny', 'nyc', 'nyone', 'nz', 'o', 'o.0', 'o.O', 'o.k.', 'o.o', 'o/~', 'o0', 'o0o', 'o<|=D', 'oO', 'oOo', 'o_0', 'o_O', 'oates', 'oatmeal', 'oatmel', 'obbts', 'obscene', 'obsession', 'obviously', 'occasional', 'odd', 'of', 'off', 'offa', 'offence', 'offended', 'offensive', 'offer', 'office', 'officer', 'official', 'often', 'ogan', 'oh', 'ohh', 'ohhh', 'ohhhh', 'ohhhhhh', 'ohhhhhhhhhhhhhhhh', 'ohio', 'ohwa', 'oi', 'oil', 'ok', \"ok'd\", 'okay', 'okey', 'okies', 'okikes', 'oklahoma', 'ol', \"ol'\", 'old', 'older', 'oldest', 'ole', 'om', 'omg', 'omggg', 'ominous', 'omnious', 'on', 'once', 'one', 'ones', 'online', 'only', 'ono', 'ontario', 'ontrobution', 'onuimso', 'oo', 'ooeer', 'ooer', 'ooh', 'ooo', 'oooOOOOoooo', 'oooh', 'ooooook', 'ooooooo', 'oooooooooooglyyyyyyyy', 'oooooooooooo', 'oooooooooooooonnnnnnnnnnnneeeeeeeeeeeeeeesssssssss', 'ooopppps', 'ooperative', 'oopps', 'ooppsss', 'oops', 'oot', 'op', 'open', 'opener', 'operator', 'opinion', 'oppertunity', 'opportunity', 'opposite', 'opps', 'oppsss', 'opr', 'ops', 'option', 'or', 'orange', 'orders', 'orgies', 'orgy', 'original', 'originally', 'orta', 'otay', 'othah', 'other', 'others', 'othing', 'ouch', 'our', 'out', 'out.', 'outa', 'outhouse', 'outlook', 'outrageously', 'outs', 'outside', 'outta', 'over', 'overplaying', 'overtime', 'ovr', 'own', 'owuldnt', 'owww', 'oxymoron', 'p', 'p u s s y', 'pa', 'packs', 'pad', 'page', 'pages', 'paid', 'pain', 'painful', 'paints', 'pair', 'paitently', 'pal', 'palmer', 'pandas', 'pants', 'paper', 'paradis', 'paragraph', 'paragraphs', 'parent', 'parents', 'park', 'parrot', 'part', 'partial', 'particular', 'party', 'pasa', 'pass', 'passed', 'passes', \"passin'\", 'passing', 'passionately', 'past', 'paste', 'pasties', 'pathetic', 'patsy', 'paxil', 'pay', 'payday', 'paypal', 'pc', 'peace-and-quiet', 'peanut', 'pedals', 'peddle', 'pedofile', 'peek', 'peeks', 'peel', 'peeps', 'penis', 'pension', 'peolpe', 'people', 'peoples', 'pepper', 'peppersteak', 'per', 'perfect', 'perfectionist', 'perhaps', 'period', 'periodically', 'perk', 'perked', 'permanent', 'permission', 'person', 'personal', 'perth', 'perv', 'perved', 'pervert', 'perverted', 'pervin', 'perving', 'pervs', 'pet', 'petanmart', 'petition', 'petunias', 'pffft', 'pfft', 'phil', 'phone', 'photshopped', 'phylosipher', 'physical', 'physically', 'pic', 'pick', 'picks', 'pics', 'picture', 'pictured', 'pictures', 'pie', 'piece', 'pies', 'piff', 'piggy', 'pigs', 'pillow', 'pills', 'pimp', 'pinch', 'pinches', 'pine', 'pineapple', 'pineapples', 'pink', 'pissed', 'pisses', 'pissing', 'pit', 'placce', 'place', 'plan', 'planned', 'platform', 'play', 'playas', 'played', 'player', 'playin', 'playing', 'plays', 'playstation', 'please', 'pleased', 'pleaseeeee', 'pleez', 'plenaty', 'plently', 'plow', 'plows', 'plus', 'plz', 'pm', \"pm'n\", \"pm's\", 'pmers', 'pming', 'pms', 'pmsl', 'pocket', 'poem', 'poeple', 'point', 'pointer', 'pointing', 'poked', 'pokes', 'pokin', 'pokkies', 'police', 'policy', 'polite', 'politely', 'political', 'politics', 'poll', 'polllution', 'poof', 'pool', 'poooland', 'poop', 'poor', 'poorrr', 'poot', 'pop', 'popcorn', 'pope', 'popped', 'popper', 'popular', 'pork', 'porn', 'pos', 'position', 'possibly', 'possum', 'post', 'posts', 'pot', 'pounce', 'pounces', 'pounds', 'pour', 'pours', 'pouting', 'pouts', 'power', 'powers', 'powter', 'pp', 'ppl', 'ppolitical', 'pppppppppppew', 'pr', 'practically', 'pray', 'praying', 'prays', 'predicted', 'preference', 'preoccupied', 'prep', 'presume', 'pretend', 'pretty', 'price', 'prime', 'priorities', 'prison', 'prisoner', 'prisoners', 'prittier', 'private', 'pro', \"pro's\", 'pro-se', 'prob', 'probably', 'problem', 'problemo', 'problems', 'product', 'profile', 'profiles', 'profilrs', 'progressive', 'proked', 'prolly', 'promise', 'promoter', 'prono', 'proocessing', 'proper', 'propper', 'props', 'proud', 'provide', 'prrty', 'ps2', 'pseudo', 'psh', 'pssssh', 'pssst', 'psychologist', 'puff', 'puhleaze', 'pujols', 'puke', 'pukes', 'pull', 'pulling', 'pumpkin', 'pumpkins', 'punch', 'punishment', 'puppet', 'pure', 'purple', 'pursued', 'purty', 'push', 'pushed', 'pushes', 'pussies', 'pussy', 'put', 'puter', 'puts', 'putting', 'puzzles', 'pvt', 'pweeze', 'pwns', 'px', 'quarrel', 'que', 'queen', 'ques', 'question', 'questioned', 'questions', 'quick', 'quiet', 'quistion', 'quit', 'quite', 'quiz', 'quizes', 'qwertyuiop', 'r', 'raaaaaaaaaaaaaaaaaaaaaaaaaaaaa', 'raarrrrrr', 'racist', 'radio', 'raed', 'rafters', 'rag', 'rain', 'rainbow', 'rained', 'raining', 'ran', 'randy', 'rang', 'rap', 'rape', 'rapest', 'rapidly', 'rarly', 'rashes', 'rather', 'rats', 'raymond', 'razor', 're', 're-think', 're-thinking', 're-thinks', 'reach', 'reached', 'react', 'read', 'reading', 'reads', 'ready', 'real', 'realise', 'realises', 'reality', 'realize', 'reallly', 'really', 'reason', 'reasons', 'recall', 'recently', 'receprion', 'recieve', 'recognize', 'recomend', 'record', 'recovering', 'red', 'redirect', 'redneck', 'redraft', 'refer', 'refill', 'refrain', 'refrains', 'regarding', 'registration', 'regret', 'regularly', 'relation', 'relax', 'relaxes', 'release', 'religion', 'remain', 'remembah', 'remember', 'rememberer', 'remembers', 'reminded', 'reminder', 'remove', 'removes', 'removing', 'rent', 'repeating', 'repeats', 'reproduce', 'republican', 'reschedual', 'research', 'resisting', 'resize', 'respec', 'respect', 'rest', 'result', 'results', 'retahhhhded', 'retarded', 'retared', 'rethinks', 'return', 'reunion', 'reunion.', 'revolving', 'rey', 'ribs', 'rich', 'rid', 'ride', 'ridem', 'rider', 'riding', 'right', 'rights', 'riiiight', 'riiiiight', 'ring', 'ringtones', 'ripping', 'riverside', 'road', 'roads', 'roaring', 'rob', 'robbie', 'robert', 'rock', 'rocker', 'rockies', 'rocks', 'rofl', 'roleplay', 'roll', 'rolled', 'roller', \"rollin'\", 'rolling', 'rolls', 'romance', 'romantic', 'roof', 'room', 'roomate', 'roomies', 'rooms', 'rooster', 'root', 'ros', 'rose', 'roses', 'rotflmao', 'rough', 'round', 'rowdy', 'royalty', 'rub', 'rubs', 'ruff', 'rule', 'rules', 'rum', 'rumour', 'rumours', 'run', 'running', 'runs', 'rush', 'ryaon', 's', \"s'\", 'saME', 'sad', 'safe', 'said', 'sales', 'salsa', 'salt', 'salvation', 'same', 'sammich', 'samn', 'san', 'sand', 'sang', 'saratoga', 'sassy', 'sat', 'satan', 'satisfie', 'sauce', 'saunders', 'saving', 'savvy', 'saw', 'say', \"sayin'\", 'saying', 'sayn', 'says', 'scar', 'scare', 'scarecrow', 'scared', 'scares', 'scary', 'schedule', 'schlep', 'schmoopies', 'school', 'scintillating', 'scopes', 'scorpio', 'scorpion', 'scorpions', 'scrabble', 'scramble', 'scrambled', 'scream', 'screamo', 'screams', 'screen', 'scroll', \"scrollin'\", 'scrolls', 'scuba', 'scuk', 'scum', 'scuse', 'scusezzy', 'sdlfkjsj', 'sea', 'seagulls', 'sean', 'searching', 'season', 'seat', 'sec', 'second', 'seconds', 'seconds.', 'secret', 'seduce', 'see', 'seee', 'seeee', 'seeing', 'seeking', 'seem', 'seems', 'seen', 'self', 'sell', 'seminilla', 'send', 'senor', 'sense', 'senseless', 'sensitive', 'sent', 'sentences', 'serg', 'series', 'serious', 'seriously', 'serties', 'service', 'sesky', 'set', 'seth', 'sets', 'settle', 'settles', 'seuss', 'sevendust', 'sex', 'sexcite', 'sexi', 'sexiest', 'sexist', 'sexs', 'sext', 'sexual', 'sexuality', 'sexy', 'sf', 'shades', 'shaken', 'shakes', 'shakin', \"shakin'\", 'shall', 'shane', 'shape', 'share', 'sharing', 'sharp', 'sharpie', 'shaun', 'she', 'sheep', 'sheepishly', 'sheesh', 'sheesin', 'sheet', 'shelf', 'shell', 'shes', 'shhhh', 'shine', 'shining', \"shinnin'\", 'shirt', 'shit', 'shivers', 'sho', 'shocked', 'shocks', 'shoes', 'shook', 'shoot', 'shoots', 'shop', 'shopgirl', 'shoppin', 'shore', 'short', 'shortage', 'shorter', 'shorty', 'shot', 'shots', 'should', 'shoulders', 'shouldnt', 'shouldve', 'shouting', 'show', 'shower', 'showered', 'shows', 'shpwing', 'shrugs', 'shup', 'shups', 'shush', 'shut', 'sicily', 'sick', 'side', 'sigh', 'sighs', 'sign', 'signed', 'sigur', 'silver', 'simply', 'simular', 'since', 'sincy', 'sing', 'singer', 'singing', 'single', 'sings', 'sink', 'sips', 'sis', 'sister', 'sisters', 'sit', 'site', 'sites', 'sits', 'sitting', 'situation', 'siver', 'six', 'size', 'skateboard', 'skin', 'sky', 'skydiving', 'slam', 'slap', 'slaps', 'sldfjlsdf', 'sleep', 'sleep over', 'sleepin', 'sleeping', 'sleepover', 'sleeps', 'sleepy', 'sleeved', 'slept', 'slick', 'slip', 'slipped', 'slipping', 'slkfjsldkfjs', 'slow', 'slowly', 'sluggish', 'smack', 'smacked', 'smacks', 'small', 'smallfry', 'smart', 'smarter', 'smax', 'smell', 'smells', 'smewchies', 'smile', 'smiles', 'smirks', 'smirkz', 'smoke', 'smoker', 'smokes', 'smoking', 'smooch', 'sneak', 'sneezed', 'snickers', 'snores', 'snort', 'snorts', 'snow', 'snowy', 'snuggles', 'so', 'soaked', 'soakin', 'sober', 'soccer', 'society', 'sock', 'socks', 'soda', 'soft', 'softener', 'softner', 'software', 'solution', 'solved', 'some', 'somebody', 'someday', 'somehow', 'someone', 'something', 'sometime', 'sometimes', 'somewhere', 'son', 'song', 'songs', 'soo', 'soojn', 'soon', 'sooners', 'sooo', 'soory', 'soothing', 'sore', 'sores', 'sori', 'sorry', 'sort', 'sorta', 'soul', 'sound', 'sounded', 'sounds', 'soup', 'south', 'sowwy', 'sox', 'soy', 'soybeans', 'sp', 'space', 'spaces', 'spain', 'span', 'spanish', 'spank', 'spanked', 'spark', 'spat', 'speaking', 'specalily', 'special', 'specialist', 'specially', 'specials', 'speech', 'speed', 'spell', 'spelled', 'spelling', 'spend', 'spending', 'spewing', 'spiff', 'spin', 'spins', 'spirits', 'spit', 'splains', 'splelnig', 'splenda', 'splinter', 'sport', 'sports', 'spose', 'sposs', 'spot', 'spouse', 'sprays', 'spread', 'spring', 'sry', 'ssi', 'ssid', 'st', 'stairs', 'stake', 'stalk', 'stalked', 'stalker', 'stand', 'standin', 'standing', 'stans', 'star', 'stares', 'start', 'started', 'starting', 'starts', 'state', 'stated', 'stationed', 'stay', 'stays', 'steak', 'steal', 'stealing', 'steve', 'stick', 'sticking', 'sticks', 'sticky', 'still', 'stinky', 'stirred', 'stocks', 'stoned', 'stop', 'stopped', 'store', 'stores', 'stories', 'story', 'straight', 'straightens', 'strait', 'strange', 'stranger', 'strangers', 'streaks', 'streched', 'street', 'streetcar', 'stressed', 'stretches', 'strickly', 'string', 'stripper', 'stron', 'strong', 'stubborn', 'stuck', 'student', 'studied', 'studio', 'stuff', \"stuffin'\", 'stupid', 'subject', 'subscription', 'subscriptions', 'subsitute', 'such', 'suck', 'sucka', 'sucked', 'sucker', 'sucking', 'sucks', 'sue', 'suffer', 'suffers', 'suffice', 'sugar', 'suggest', 'suggested', 'suggestions', 'suked', 'sullivan', 'sum', 'sum1', 'sumfin', 'summer', 'summon', 'sumpin', 'sun', 'sunglasses', 'sunnn', 'sunny', 'sunset', 'sunshine', 'sup', 'super', 'superhiway', 'superior', 'superman', 'supervisor', 'suppose', 'supposed', 'suprise', 'suprised', 'sure', 'suree', 'surf', 'surfing', 'surgery', 'surprise', 'surprised', 'sustaining', 'sux', 'sw', 'swallow', 'swamp', 'swats', 'swear', 'sweat', 'sweater', 'sweats', 'sweeeeeeeeet', 'sweet', 'sweetie', 'sweetshybbw', 'swelling', 'swim', 'swing', 'switch', 'syck', 'syllables', 'sympathies', 'sympathy', 'syndrome', 'system', 't', 't he', \"t'anks\", 't-shirt', 't/c', 't/y', 'ta', 'tab', 'tabasco', 'tabbed', 'table', 'tackles', 'tacoma', 'tad', 'tah', 'tail', 'take', 'taken', 'takers', 'takes', 'taking', 'talented', 'talk', 'talkcity', 'talked', 'talkiing', 'talkin', \"talkin'\", 'talking', 'talks', 'tall', 'tape', 'tapes', 'tapping', 'tart', 'taste', 'tastes', 'tatatatnanaantatat', 'tazzmaniane', 'tc', 'td', 'tdr', 'teach', 'teacher', 'teachers', 'team', 'tears', 'teasing', 'technical', 'technique', 'techniques', 'technologically', 'teck', 'teehee', 'teenagers', 'teens', 'teeth', 'teh', 'tell', 'tellin', 'telling', 'telllin', 'temp', 'temples', 'temptations', 'tend', 'tenn', 'tennesee', 'tennessee', 'tennies', 'teo', 'tere', 'term', 'terrible', 'test', 'texan', 'texas', 'tha', 'thah', 'than', 'thang', 'thank', 'thanks', 'thanksgiving', 'thanksss', 'thanx', 'that', 'thats', 'the', 'theere', 'theft', 'their', 'them', 'themself', 'themselves', 'themselvs', 'then', 'theory', 'ther', 'therapist', 'therapy', 'there', 'theres', 'these', 'they', 'thing', 'things', 'thingy', 'think', 'thinkin', 'thinking', 'thinks', 'third', 'thirsty', 'this', 'thje', 'thnx', 'tho', 'thomas', 'those', 'thot', 'though', 'thought', 'thoughts', 'thows', 'three', 'threw', 'thrill', 'thristy', 'through', 'throught', 'throw', 'thrown', 'throws', 'thru', 'thumb', 'thunder', 'thx', 'tick', 'ticket', 'tickets', 'tiff', 'tightly', 'tighty', 'til', 'till', 'time', 'times', 'timing', 'tingly', 'tips', 'tired', 'tisk', 'title', 'tits', 'tjhe', 'tks', 'tlak', 'to', 'tock', 'today', 'toe', 'toenails', 'toes', 'together', 'tok', 'toke', 'told', 'toledo', 'tom', 'tommorrow', 'tomorrow', 'tonawanda', 'tongue', 'tonight', 'tonite', 'too', 'took', 'tooo', 'tooooooooooo', 'toop', 'tootsie', 'top', 'topic', 'topics', 'topless', 'torah', 'torturing', 'tory', 'toss', 'tosses', 'total', 'totally', 'totaly', 'touch', 'touches', 'touchy', 'tough', 'tounge', 'toward', 'towel', 'towels', 'town', 'toy', 'tracey', 'track', 'tradition', 'traffic', 'trailer', 'trance', 'trapped', 'trash', 'trashed', 'trials', 'tried', 'tries', 'trigger', 'trip', 'trippin', 'trippy', 'troll', 'trolls', 'trouble', 'trout', 'truck', 'true', 'truss', 'trust', 'try', 'tryer', 'tryin', 'tryina', 'trying', 'tthe', 'tu', 'tuesday', 'tug', 'tummy', 'tune', 'tuned', 'turkey', 'turkish', 'turn', 'turned', 'turning', 'turns', 'tv', 'twice', 'twin', 'twisted', 'twister', 'twit', 'twizted', 'two', 'twoel', 'tx', 'ty', 'type', 'typed', 'typin', 'typing', 'typo', 'tyvm', 'u', 'u550436035', 'uffff', 'ugh', 'ughhh', 'ugly', 'uh', 'uk', 'um', 'umm', 'ummm', 'un-freeze', 'under', 'understand', 'underwear', 'uniform', 'unique', 'unisom', 'unless', 'unreal', 'until', 'untouchable', 'untouched', 'unusual', 'unwind', 'up', 'updated', 'upset', 'upstate', 'ur', 'url', 'urls', 'urs', 'urself', 'us', 'usa', 'use', 'use full', 'used', 'uses', 'using', 'ussy', 'usual', 'usually', 'uuuhhh', 'uyes', 'va', 'valiant', 'vamp', 'van', 'vanished', 'veg', 'vega', 'vent', 'very', 'vetrabrate', 'vicious', 'victims', 'victors', 'video', 'vigilant', 'village', 'vindictive', 'vinyl', 'violators', 'virgin', 'virginal', 'virginity', 'virgo', 'visual', 'vm', 'vodka', 'voice', 'voices', 'vomiting', 'vote', 'voter', 'vs.', 'vuela', 'w', 'w/', 'w/b', 'wOOt', 'wa', 'waaa', 'wack', 'waddles', 'waddup', 'wahoooooooo', 'wahoooooooski', 'waht', 'wait', 'waitin', 'waiting', 'waits', 'wakes', 'waking', 'walderslade', 'walk', 'walked', 'walks', 'wall', 'wallpaper', 'walmart', 'walrus', 'wana', 'wanan', 'wanders', 'wanna', 'wansta', 'want', 'wanted', 'wantin', 'wanting', 'wants', 'warm', 'warned', 'warning', 'warnings', 'warts', 'was', 'wash', 'washboard', 'washington', 'wasnt', 'wasup', 'wat', 'watch', 'watched', 'watches', 'watchin', 'watching', 'water', 'waters', 'wats', 'waves', 'wax', 'way', 'ways', 'waz', 'wazz', 'wb', 'wc', 'we', 'wean', 'weapons', 'wear', 'wearin', 'wearing', 'wears', 'weasel', 'weather', 'weave', 'webcam', 'webcams', 'wed-lock', 'wedding', 'wee', 'weed', 'weeeeeeeee', 'weeeeeeeeeeeeeeee', 'weeeeeeeeeeeeeeeeeeeeeeeeed', 'week', 'weekend', 'weeks', 'weenis', 'weigh', 'weight', 'weird', 'wel', 'welcome', 'welcomes', 'welfare', 'well', 'wellbutrin', 'welll', 'welome', 'went', 'were', 'werent', 'west', 'wet', 'wha', 'whaaaaats', 'what', 'whatca', 'whatcha', 'whatever', 'whats', 'wheeeeeeeeeeeeeeeeeeeeeeeeeeeeeeeeee', 'wheel', 'wheels', 'when', 'whenever', 'wher', 'where', 'whereabouts', 'whered', 'wheres', 'whether', 'whew', 'whewwwwww', 'whhhooooo', 'which', 'while', 'whilst', 'whip', 'whipped', 'whiskey', 'whisling', 'whisper', 'whisperer', 'whispering', 'whispers', 'whistles', 'white', 'whiteys', 'whitte', 'whjat', 'who', 'whoa', 'whoaaaaaaaaaaaa', 'whoever', 'whole', 'whoo', 'whooo', 'whoopZ', 'whore', 'whos', 'whose', 'whou', 'whud', 'whupped', 'whuuped', 'why', 'whys', 'wicked', 'wid', 'widdle', 'wide', 'widow', 'wif', 'wife', 'wiggleZ', 'wild', 'wildcard', 'will', 'willams', 'willie', 'willis', 'willy', 'wiltou', 'wiltshire', 'wimmins', 'win', 'win win', 'wind', 'window', 'winds', 'wine', 'wings', 'winks', 'winner', 'wins', 'winter', 'wire', 'wireless', 'wisconsin', 'wish', 'wishes', 'wit', 'with', 'withdrawal', 'withdrawl', 'within', 'withing', 'without', 'wo', 'woah', 'woman', 'women', 'won', 'wonder', 'wondered', 'wonderful', 'wonderin', 'wondering', 'wonders', 'wonna', 'wont', 'woo', 'wood', 'woods', 'woof', 'woohoo', 'wooo', 'woooohoooo', 'wooooohoooo', 'woooooooooaaaahhhhhhhhhhhh', 'wooooooooooooohoooooooooooooooo', 'woot', 'word', 'words', 'wore', 'work', 'worked', 'working', 'workout', 'works', 'worl', 'world', 'worries', 'worry', 'worse', 'worst', 'worth', 'wothough', 'would', 'wouldnt', 'wow', 'wowsa', 'wrap', 'wrecked', 'wrek', 'write', 'writing', 'wrong', 'wrote', 'wtf', 'wth', 'wubs', 'wussups', 'wut', 'wuts', 'wuuppin', 'wv', 'www.Wunderground.com', 'wz', 'x', 'x-mas', 'xD', 'xbox', 'xcitable', 'xmas', 'xxxed', 'xxxxxx', 'y', \"y'\", 'y/w', 'ya', \"ya'\", 'yada', 'yah', 'yahoo', 'yak', 'yall', 'yap', 'yard', 'yards', 'yas', 'yawn', 'yawns', 'yawnssss', 'yay', 'yayayayayyy', 'yea', 'yeah', 'year', 'years', 'yeas', 'yeee', 'yell', 'yelling', 'yello', 'yep', 'yepper', 'yepper s', 'yeppers', 'yer', 'yerself', 'yes', 'yes.', 'yesh', 'yess', 'yessum', 'yesterday', 'yet', 'yikes', 'yikesssss', 'yo', 'yoder', 'yoghurt', 'yoko', 'yoll', 'yoooou', 'yooou', 'you', 'youer', 'young', 'younger', 'your', 'youre', 'yours', 'yourself', 'yout', 'youuu', 'youuuu', 'youve', 'yow', 'yr', 'yrs', 'ysssssssss', 'yu', 'yucky', 'yum', 'yummy', 'yummylicious', 'yup', 'yuuuuuuuuuuuummmmmmmmmmmm', 'yvw', 'yw', \"yw's\", 'z-ro', 'zombie', 'zone', 'zzzzzzzing', 'zzzzzzzz', '~', '~!', '~blusherZ~', '~smirkZ~', '~winkZ~']\n"
          ],
          "name": "stdout"
        }
      ]
    },
    {
      "cell_type": "code",
      "metadata": {
        "id": "ZqN2GeDQKNai",
        "colab_type": "code",
        "colab": {
          "base_uri": "https://localhost:8080/",
          "height": 34
        },
        "outputId": "d1ff4b61-890a-4e3e-dcfc-3833c9efc610"
      },
      "source": [
        "# '+' indicates one or more of preceding charecter occurences\n",
        "print([w for w in chat_words if re.search('^m+i+n+e+$',w)][0:10])"
      ],
      "execution_count": 26,
      "outputs": [
        {
          "output_type": "stream",
          "text": [
            "['miiiiiiiiiiiiinnnnnnnnnnneeeeeeeeee', 'miiiiiinnnnnnnnnneeeeeeee', 'mine', 'mmmmmmmmiiiiiiiiinnnnnnnnneeeeeeee']\n"
          ],
          "name": "stdout"
        }
      ]
    },
    {
      "cell_type": "code",
      "metadata": {
        "id": "iDzFCiuTLHWA",
        "colab_type": "code",
        "colab": {
          "base_uri": "https://localhost:8080/",
          "height": 34
        },
        "outputId": "3a8f11a8-544d-4c79-a2e2-3620e6bf1015"
      },
      "source": [
        "# '*' means zero or more preceding charecters occurence\n",
        "print([w for w in chat_words if re.search('^m*i*n*e*$',w)][1:10])"
      ],
      "execution_count": 29,
      "outputs": [
        {
          "output_type": "stream",
          "text": [
            "['e', 'i', 'in', 'm', 'me', 'meeeeeeeeeeeee', 'mi', 'miiiiiiiiiiiiinnnnnnnnnnneeeeeeeeee', 'miiiiiinnnnnnnnnneeeeeeee']\n"
          ],
          "name": "stdout"
        }
      ]
    },
    {
      "cell_type": "code",
      "metadata": {
        "id": "cb0P3nsxMgLJ",
        "colab_type": "code",
        "colab": {
          "base_uri": "https://localhost:8080/",
          "height": 850
        },
        "outputId": "ee2023ab-7a01-49dc-f24d-8d8418e839ea"
      },
      "source": [
        "[w for w in chat_words if re.search('^[^aeiou]$',w)][1:50]"
      ],
      "execution_count": 30,
      "outputs": [
        {
          "output_type": "execute_result",
          "data": {
            "text/plain": [
              "['\"',\n",
              " '#',\n",
              " '$',\n",
              " '&',\n",
              " \"'\",\n",
              " '(',\n",
              " ')',\n",
              " '*',\n",
              " '+',\n",
              " ',',\n",
              " '-',\n",
              " '.',\n",
              " '/',\n",
              " '0',\n",
              " '1',\n",
              " '2',\n",
              " '3',\n",
              " '4',\n",
              " '5',\n",
              " '6',\n",
              " '7',\n",
              " '8',\n",
              " '9',\n",
              " ':',\n",
              " ';',\n",
              " '<',\n",
              " '=',\n",
              " '>',\n",
              " '?',\n",
              " '@',\n",
              " 'A',\n",
              " 'B',\n",
              " 'C',\n",
              " 'D',\n",
              " 'F',\n",
              " 'G',\n",
              " 'H',\n",
              " 'I',\n",
              " 'K',\n",
              " 'M',\n",
              " 'N',\n",
              " 'O',\n",
              " 'P',\n",
              " 'R',\n",
              " 'S',\n",
              " 'U',\n",
              " 'W',\n",
              " 'X',\n",
              " '\\\\']"
            ]
          },
          "metadata": {
            "tags": []
          },
          "execution_count": 30
        }
      ]
    },
    {
      "cell_type": "code",
      "metadata": {
        "id": "dtKiDsGRM8aA",
        "colab_type": "code",
        "colab": {}
      },
      "source": [
        "corp=sorted(set(nltk.corpus.treebank.words()))"
      ],
      "execution_count": 0,
      "outputs": []
    },
    {
      "cell_type": "code",
      "metadata": {
        "id": "NUap0LnuOSBb",
        "colab_type": "code",
        "colab": {
          "base_uri": "https://localhost:8080/",
          "height": 34
        },
        "outputId": "81f77e7d-18fb-4652-a288-b205ce86bbe6"
      },
      "source": [
        "corp[1:10]"
      ],
      "execution_count": 33,
      "outputs": [
        {
          "output_type": "execute_result",
          "data": {
            "text/plain": [
              "['#', '$', '%', '&', \"'\", \"''\", \"'30s\", \"'40s\", \"'50s\"]"
            ]
          },
          "metadata": {
            "tags": []
          },
          "execution_count": 33
        }
      ]
    },
    {
      "cell_type": "code",
      "metadata": {
        "id": "Yl4A9_0CObfA",
        "colab_type": "code",
        "colab": {
          "base_uri": "https://localhost:8080/",
          "height": 54
        },
        "outputId": "f922dd0b-388b-4476-d37d-cd10e1a13d37"
      },
      "source": [
        "print([w for w in corp if re.search('^[0-9]+\\..[0-9]$',w)][10:100])"
      ],
      "execution_count": 41,
      "outputs": [
        {
          "output_type": "stream",
          "text": [
            "['0.95', '0.99', '1.01', '1.14', '1.17', '1.18', '1.19', '1.20', '1.24', '1.25', '1.26', '1.28', '1.35', '1.39', '1.46', '1.49', '1.50', '1.55', '1.56', '1.61', '1.64', '1.65', '1.75', '1.76', '1.82', '1.85', '1.92', '10.19', '107.03', '109.73', '11.10', '11.57', '11.72', '11.95', '12.09', '12.52', '12.68', '12.82', '12.97', '1206.26', '126.15', '127.03', '129.91', '13.15', '13.50', '13.65', '13.73', '13.90', '131.01', '14.00', '14.13', '14.26', '14.28', '14.43', '14.53', '14.54', '14.75', '14.99', '142.84', '142.85', '143.08', '143.80', '143.93', '150.00', '16.05', '16.09', '16.68', '17.95', '18.95', '188.84', '19.50', '19.94', '19.95', '2.07', '2.15', '2.19', '2.25', '2.29', '2.30', '2.35', '2.42', '2.44', '2.46', '2.47', '2.50', '2.62', '2.65', '2.75', '2.80', '2.87']\n"
          ],
          "name": "stdout"
        }
      ]
    },
    {
      "cell_type": "code",
      "metadata": {
        "id": "evDCQ7lmQFXZ",
        "colab_type": "code",
        "colab": {
          "base_uri": "https://localhost:8080/",
          "height": 54
        },
        "outputId": "1b7e43cf-7212-4497-cf8e-e2a414c6b296"
      },
      "source": [
        "# exercise : Get the numbers which start with only 1 and have only 2 decimals after . \n",
        "print([w for w in corp if re.search('^1[0-9]+\\..[0-9]$',w)][10:100])"
      ],
      "execution_count": 42,
      "outputs": [
        {
          "output_type": "stream",
          "text": [
            "['12.82', '12.97', '1206.26', '126.15', '127.03', '129.91', '13.15', '13.50', '13.65', '13.73', '13.90', '131.01', '14.00', '14.13', '14.26', '14.28', '14.43', '14.53', '14.54', '14.75', '14.99', '142.84', '142.85', '143.08', '143.80', '143.93', '150.00', '16.05', '16.09', '16.68', '17.95', '18.95', '188.84', '19.50', '19.94', '19.95']\n"
          ],
          "name": "stdout"
        }
      ]
    },
    {
      "cell_type": "code",
      "metadata": {
        "id": "Qn4m3P0AQdSa",
        "colab_type": "code",
        "colab": {
          "base_uri": "https://localhost:8080/",
          "height": 34
        },
        "outputId": "9bc5d890-4f43-44bd-9da0-1631cc8e4213"
      },
      "source": [
        "print([w for w in corp if re.search('^[0-9]{4}$',w)][1:10])"
      ],
      "execution_count": 45,
      "outputs": [
        {
          "output_type": "stream",
          "text": [
            "['1637', '1787', '1901', '1903', '1917', '1925', '1929', '1933', '1934']\n"
          ],
          "name": "stdout"
        }
      ]
    },
    {
      "cell_type": "code",
      "metadata": {
        "id": "7OehVKVZRCrd",
        "colab_type": "code",
        "colab": {
          "base_uri": "https://localhost:8080/",
          "height": 34
        },
        "outputId": "d8f37537-53a7-4f1d-ee3b-9398727c642c"
      },
      "source": [
        "# {3,5} - allows 3 times or 5 times. {5,} allows five or more times occurences\n",
        "# {,6} not more than 6\n",
        "print([w for w in corp if re.search('^[a-z]{5,}-[a-z]{2,3}-[a-z]{,6}$',w)][:])"
      ],
      "execution_count": 47,
      "outputs": [
        {
          "output_type": "stream",
          "text": [
            "['black-and-white', 'bread-and-butter', 'father-in-law', 'machine-gun-toting', 'savings-and-loan']\n"
          ],
          "name": "stdout"
        }
      ]
    },
    {
      "cell_type": "code",
      "metadata": {
        "id": "POqaM08godBQ",
        "colab_type": "code",
        "colab": {
          "base_uri": "https://localhost:8080/",
          "height": 34
        },
        "outputId": "537b2dc2-9805-44f7-bd61-5798c7faae05"
      },
      "source": [
        "# pipe charecter indictes 'or' statement. match either pattern\n",
        "print([w for w in corp if re.search('(ed|ing)$',w)][0:10])"
      ],
      "execution_count": 51,
      "outputs": [
        {
          "output_type": "stream",
          "text": [
            "['62%-owned', 'Absorbed', 'According', 'Adopting', 'Advanced', 'Advancing', 'Alfred', 'Allied', 'Annualized', 'Anything']\n"
          ],
          "name": "stdout"
        }
      ]
    },
    {
      "cell_type": "markdown",
      "metadata": {
        "id": "4gM8EW1CpJa1",
        "colab_type": "text"
      },
      "source": [
        "## Other applications of REGEX"
      ]
    },
    {
      "cell_type": "code",
      "metadata": {
        "id": "Q007LX7Eoyrn",
        "colab_type": "code",
        "colab": {
          "base_uri": "https://localhost:8080/",
          "height": 34
        },
        "outputId": "c5ca8896-d36e-480d-e055-3bece30761f0"
      },
      "source": [
        "# To find all patterns inside a string and get the pattern rather than word\n",
        "word=\"GradvalleyDataScience-NLPCourse-Week2\"\n",
        "re.findall(r'[aieou]',word)"
      ],
      "execution_count": 52,
      "outputs": [
        {
          "output_type": "execute_result",
          "data": {
            "text/plain": [
              "['a', 'a', 'e', 'a', 'a', 'i', 'e', 'e', 'o', 'u', 'e', 'e', 'e']"
            ]
          },
          "metadata": {
            "tags": []
          },
          "execution_count": 52
        }
      ]
    },
    {
      "cell_type": "code",
      "metadata": {
        "id": "5WQyHCGrp9b2",
        "colab_type": "code",
        "colab": {}
      },
      "source": [
        "words=sorted(set(nltk.corpus.treebank.words()))"
      ],
      "execution_count": 0,
      "outputs": []
    },
    {
      "cell_type": "code",
      "metadata": {
        "id": "JmkoNVaAsTz6",
        "colab_type": "code",
        "colab": {
          "base_uri": "https://localhost:8080/",
          "height": 54
        },
        "outputId": "f3cbfbbd-3571-4cd7-ea86-f3c6b9654971"
      },
      "source": [
        "fd=nltk.FreqDist(vs for word in words for vs in re.findall('[aeiou]{2,}',word))\n",
        "fd.items()"
      ],
      "execution_count": 55,
      "outputs": [
        {
          "output_type": "execute_result",
          "data": {
            "text/plain": [
              "dict_items([('ea', 476), ('oi', 65), ('ou', 329), ('io', 549), ('ee', 217), ('ie', 331), ('ui', 95), ('ua', 109), ('ai', 261), ('ue', 105), ('ia', 253), ('ei', 86), ('iai', 1), ('oo', 174), ('au', 106), ('eau', 10), ('oa', 59), ('oei', 1), ('oe', 15), ('eo', 39), ('uu', 1), ('eu', 18), ('iu', 14), ('aii', 1), ('aiia', 1), ('ae', 11), ('aa', 3), ('oui', 6), ('ieu', 3), ('ao', 6), ('iou', 27), ('uee', 4), ('eou', 5), ('aia', 1), ('uie', 3), ('iao', 1), ('eei', 2), ('uo', 8), ('uou', 5), ('eea', 1), ('ueui', 1), ('ioa', 1), ('ooi', 1)])"
            ]
          },
          "metadata": {
            "tags": []
          },
          "execution_count": 55
        }
      ]
    },
    {
      "cell_type": "code",
      "metadata": {
        "id": "5c5XTZXDuSS7",
        "colab_type": "code",
        "colab": {
          "base_uri": "https://localhost:8080/",
          "height": 34
        },
        "outputId": "8f596d80-0f21-4112-ba57-a44721158804"
      },
      "source": [
        "# Stemming using regex\n",
        "re.findall(r'^.*(ing|ly|ed|ious|ies|ive|es|s|ment)$','processing')"
      ],
      "execution_count": 56,
      "outputs": [
        {
          "output_type": "execute_result",
          "data": {
            "text/plain": [
              "['ing']"
            ]
          },
          "metadata": {
            "tags": []
          },
          "execution_count": 56
        }
      ]
    },
    {
      "cell_type": "code",
      "metadata": {
        "id": "4ayxdCT3vusx",
        "colab_type": "code",
        "colab": {
          "base_uri": "https://localhost:8080/",
          "height": 34
        },
        "outputId": "d5c95a91-7444-4f71-cbe9-a297b3b5beb2"
      },
      "source": [
        "# print entire string\n",
        "re.findall(r'^.*(?:ing|ly|ed|ious|ies|ive|es|s|ment)$','processing')"
      ],
      "execution_count": 57,
      "outputs": [
        {
          "output_type": "execute_result",
          "data": {
            "text/plain": [
              "['processing']"
            ]
          },
          "metadata": {
            "tags": []
          },
          "execution_count": 57
        }
      ]
    },
    {
      "cell_type": "code",
      "metadata": {
        "id": "QWpGjjHdv5Gm",
        "colab_type": "code",
        "colab": {
          "base_uri": "https://localhost:8080/",
          "height": 34
        },
        "outputId": "915b0fa0-9fd6-49e0-ec1b-9321e3407891"
      },
      "source": [
        "# Stemming using regex\n",
        "re.findall(r'^(.*)(ing|ly|ed|ious|ies|ive|es|s|ment)$','processing')"
      ],
      "execution_count": 58,
      "outputs": [
        {
          "output_type": "execute_result",
          "data": {
            "text/plain": [
              "[('process', 'ing')]"
            ]
          },
          "metadata": {
            "tags": []
          },
          "execution_count": 58
        }
      ]
    },
    {
      "cell_type": "code",
      "metadata": {
        "id": "0wLuy8z0wS_N",
        "colab_type": "code",
        "colab": {
          "base_uri": "https://localhost:8080/",
          "height": 34
        },
        "outputId": "2adb3407-3fa6-4faf-8033-eb2569555a62"
      },
      "source": [
        "# Stemming using regex\n",
        "re.findall(r'^(.*)(ing|ly|ed|ious|ies|ive|es|s|ment)$','processes')"
      ],
      "execution_count": 59,
      "outputs": [
        {
          "output_type": "execute_result",
          "data": {
            "text/plain": [
              "[('processe', 's')]"
            ]
          },
          "metadata": {
            "tags": []
          },
          "execution_count": 59
        }
      ]
    },
    {
      "cell_type": "code",
      "metadata": {
        "id": "E60eK_uvwVi2",
        "colab_type": "code",
        "colab": {
          "base_uri": "https://localhost:8080/",
          "height": 34
        },
        "outputId": "4cf55cdb-f0ad-4c75-c0ee-c57ec15edd16"
      },
      "source": [
        "# Stemming using regex\n",
        "re.findall(r'^(.*?)(ing|ly|ed|ious|ies|ive|es|s|ment)$','processing')"
      ],
      "execution_count": 60,
      "outputs": [
        {
          "output_type": "execute_result",
          "data": {
            "text/plain": [
              "[('process', 'ing')]"
            ]
          },
          "metadata": {
            "tags": []
          },
          "execution_count": 60
        }
      ]
    },
    {
      "cell_type": "code",
      "metadata": {
        "id": "OTGp2MHtwZbc",
        "colab_type": "code",
        "colab": {
          "base_uri": "https://localhost:8080/",
          "height": 34
        },
        "outputId": "ebc2307b-2a03-4c9e-b7ac-616464bb2c00"
      },
      "source": [
        "#finding out our favorite phrases\n",
        "from nltk.corpus import gutenberg, nps_chat\n",
        "chat = nltk.Text(nps_chat.words())\n",
        "chat.findall(r\"<.*> <rule> <bro>\")"
      ],
      "execution_count": 74,
      "outputs": [
        {
          "output_type": "stream",
          "text": [
            "you rule bro\n"
          ],
          "name": "stdout"
        }
      ]
    }
  ]
}