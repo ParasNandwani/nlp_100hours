{
  "nbformat": 4,
  "nbformat_minor": 0,
  "metadata": {
    "colab": {
      "name": "StemmingAndLemmatisation.ipynb",
      "provenance": [],
      "authorship_tag": "ABX9TyPtWdb+CrTj4bzvQLUcCKJ0",
      "include_colab_link": true
    },
    "kernelspec": {
      "name": "python3",
      "display_name": "Python 3"
    }
  },
  "cells": [
    {
      "cell_type": "markdown",
      "metadata": {
        "id": "view-in-github",
        "colab_type": "text"
      },
      "source": [
        "<a href=\"https://colab.research.google.com/github/ParasNandwani/nlp_100hours/blob/master/StemmingAndLemmatisation.ipynb\" target=\"_parent\"><img src=\"https://colab.research.google.com/assets/colab-badge.svg\" alt=\"Open In Colab\"/></a>"
      ]
    },
    {
      "cell_type": "code",
      "metadata": {
        "id": "NupbbuNpVX51",
        "colab_type": "code",
        "colab": {
          "base_uri": "https://localhost:8080/",
          "height": 34
        },
        "outputId": "c6699756-5f9b-4a1e-ea83-8cec5da7866b"
      },
      "source": [
        "import nltk \n",
        "nltk.SnowballStemmer(language='english').stem('automote')"
      ],
      "execution_count": 2,
      "outputs": [
        {
          "output_type": "execute_result",
          "data": {
            "text/plain": [
              "'automot'"
            ]
          },
          "metadata": {
            "tags": []
          },
          "execution_count": 2
        }
      ]
    },
    {
      "cell_type": "code",
      "metadata": {
        "id": "FiKTwPoJV1jZ",
        "colab_type": "code",
        "colab": {}
      },
      "source": [
        "tokens = ['waterloo','fortune','catchy','hired','trapping','inn','driven']"
      ],
      "execution_count": 0,
      "outputs": []
    },
    {
      "cell_type": "code",
      "metadata": {
        "id": "TdAytuAcV5Gt",
        "colab_type": "code",
        "colab": {
          "base_uri": "https://localhost:8080/",
          "height": 34
        },
        "outputId": "e8866a73-4fcf-492f-81b4-dd4d2623f729"
      },
      "source": [
        "tokens2=[nltk.SnowballStemmer(language='english').stem(token) for token in tokens]\n",
        "print(tokens2)"
      ],
      "execution_count": 4,
      "outputs": [
        {
          "output_type": "stream",
          "text": [
            "['waterloo', 'fortun', 'catchi', 'hire', 'trap', 'inn', 'driven']\n"
          ],
          "name": "stdout"
        }
      ]
    },
    {
      "cell_type": "code",
      "metadata": {
        "id": "1bo0f-_YWUUy",
        "colab_type": "code",
        "colab": {}
      },
      "source": [
        "porter=nltk.PorterStemmer()"
      ],
      "execution_count": 0,
      "outputs": []
    },
    {
      "cell_type": "code",
      "metadata": {
        "id": "ipW_q02_WaCy",
        "colab_type": "code",
        "colab": {}
      },
      "source": [
        "lancaster=nltk.LancasterStemmer()"
      ],
      "execution_count": 0,
      "outputs": []
    },
    {
      "cell_type": "code",
      "metadata": {
        "id": "PGZzQ5eJWh-N",
        "colab_type": "code",
        "colab": {
          "base_uri": "https://localhost:8080/",
          "height": 34
        },
        "outputId": "3f6c7211-e9e9-4455-b170-3fdd99a1c54f"
      },
      "source": [
        "# which stemmer to use depends upon application .Porter  stemmer is commonly used\n",
        "print([porter.stem(token) for token in tokens])"
      ],
      "execution_count": 7,
      "outputs": [
        {
          "output_type": "stream",
          "text": [
            "['waterloo', 'fortun', 'catchi', 'hire', 'trap', 'inn', 'driven']\n"
          ],
          "name": "stdout"
        }
      ]
    },
    {
      "cell_type": "markdown",
      "metadata": {
        "id": "G_MAfYNSXBHH",
        "colab_type": "text"
      },
      "source": [
        "# Lemmatisation is cutting word into root form if it exists in the dictionary"
      ]
    },
    {
      "cell_type": "code",
      "metadata": {
        "id": "yxjouoEUX6o8",
        "colab_type": "code",
        "colab": {
          "base_uri": "https://localhost:8080/",
          "height": 136
        },
        "outputId": "46ea2d68-9bc8-49b0-d62d-9d3ce0556967"
      },
      "source": [
        "nltk.download('wordnet')\n",
        "nltk.download('punkt')\n",
        "nltk.download('gutenberg')"
      ],
      "execution_count": 18,
      "outputs": [
        {
          "output_type": "stream",
          "text": [
            "[nltk_data] Downloading package wordnet to /root/nltk_data...\n",
            "[nltk_data]   Package wordnet is already up-to-date!\n",
            "[nltk_data] Downloading package punkt to /root/nltk_data...\n",
            "[nltk_data]   Package punkt is already up-to-date!\n",
            "[nltk_data] Downloading package gutenberg to /root/nltk_data...\n",
            "[nltk_data]   Unzipping corpora/gutenberg.zip.\n"
          ],
          "name": "stdout"
        },
        {
          "output_type": "execute_result",
          "data": {
            "text/plain": [
              "True"
            ]
          },
          "metadata": {
            "tags": []
          },
          "execution_count": 18
        }
      ]
    },
    {
      "cell_type": "code",
      "metadata": {
        "id": "cjfzqzE4W-j3",
        "colab_type": "code",
        "colab": {}
      },
      "source": [
        "lem=nltk.WordNetLemmatizer()"
      ],
      "execution_count": 0,
      "outputs": []
    },
    {
      "cell_type": "code",
      "metadata": {
        "id": "Pvq0MCHlWx5o",
        "colab_type": "code",
        "colab": {
          "base_uri": "https://localhost:8080/",
          "height": 51
        },
        "outputId": "6028ceff-a17f-451a-de46-1cf32ef867f6"
      },
      "source": [
        "words=['women','supreme','stocking']\n",
        "print([porter.stem(word) for word in words])\n",
        "print([lem.lemmatize(word) for word in words])"
      ],
      "execution_count": 12,
      "outputs": [
        {
          "output_type": "stream",
          "text": [
            "['women', 'suprem', 'stock']\n",
            "['woman', 'supreme', 'stocking']\n"
          ],
          "name": "stdout"
        }
      ]
    },
    {
      "cell_type": "markdown",
      "metadata": {
        "id": "DJO9U73sYKCO",
        "colab_type": "text"
      },
      "source": [
        "# Sentence Segmentation"
      ]
    },
    {
      "cell_type": "code",
      "metadata": {
        "id": "gJquOGimX1MN",
        "colab_type": "code",
        "colab": {}
      },
      "source": [
        "sent_tokenizer=nltk.data.load('tokenizers/punkt/english.pickle')"
      ],
      "execution_count": 0,
      "outputs": []
    },
    {
      "cell_type": "code",
      "metadata": {
        "id": "PudTiOYaYiFC",
        "colab_type": "code",
        "colab": {
          "base_uri": "https://localhost:8080/",
          "height": 357
        },
        "outputId": "d7e240f5-08fa-46b7-a083-e6e3b9182846"
      },
      "source": [
        "text = nltk.corpus.gutenberg.raw('chesterton-thursday.txt')\n",
        "print (text[1:1000])\n"
      ],
      "execution_count": 19,
      "outputs": [
        {
          "output_type": "stream",
          "text": [
            "The Man Who Was Thursday by G. K. Chesterton 1908]\n",
            "\n",
            "To Edmund Clerihew Bentley\n",
            "\n",
            "A cloud was on the mind of men, and wailing went the weather,\n",
            "Yea, a sick cloud upon the soul when we were boys together.\n",
            "Science announced nonentity and art admired decay;\n",
            "The world was old and ended: but you and I were gay;\n",
            "Round us in antic order their crippled vices came--\n",
            "Lust that had lost its laughter, fear that had lost its shame.\n",
            "Like the white lock of Whistler, that lit our aimless gloom,\n",
            "Men showed their own white feather as proudly as a plume.\n",
            "Life was a fly that faded, and death a drone that stung;\n",
            "The world was very old indeed when you and I were young.\n",
            "They twisted even decent sin to shapes not to be named:\n",
            "Men were ashamed of honour; but we were not ashamed.\n",
            "Weak if we were and foolish, not thus we failed, not thus;\n",
            "When that black Baal blocked the heavens he had no hymns from us\n",
            "Children we were--our forts of sand were even as weak as eve,\n",
            "High as they went we piled them up to break that b\n"
          ],
          "name": "stdout"
        }
      ]
    },
    {
      "cell_type": "code",
      "metadata": {
        "id": "GCGT8TOOY4IM",
        "colab_type": "code",
        "colab": {}
      },
      "source": [
        "sents = sent_tokenizer.tokenize(text)"
      ],
      "execution_count": 0,
      "outputs": []
    },
    {
      "cell_type": "code",
      "metadata": {
        "id": "5Gf83ufyY-Ym",
        "colab_type": "code",
        "colab": {}
      },
      "source": [
        "import pprint"
      ],
      "execution_count": 0,
      "outputs": []
    },
    {
      "cell_type": "code",
      "metadata": {
        "id": "OvSxegrgZAx_",
        "colab_type": "code",
        "colab": {
          "base_uri": "https://localhost:8080/",
          "height": 561
        },
        "outputId": "30db040d-f62c-41a5-f201-50e2fc154ef9"
      },
      "source": [
        "pprint.pprint(sents[0:10])"
      ],
      "execution_count": 23,
      "outputs": [
        {
          "output_type": "stream",
          "text": [
            "['[The Man Who Was Thursday by G. K. Chesterton 1908]\\n'\n",
            " '\\n'\n",
            " 'To Edmund Clerihew Bentley\\n'\n",
            " '\\n'\n",
            " 'A cloud was on the mind of men, and wailing went the weather,\\n'\n",
            " 'Yea, a sick cloud upon the soul when we were boys together.',\n",
            " 'Science announced nonentity and art admired decay;\\n'\n",
            " 'The world was old and ended: but you and I were gay;\\n'\n",
            " 'Round us in antic order their crippled vices came--\\n'\n",
            " 'Lust that had lost its laughter, fear that had lost its shame.',\n",
            " 'Like the white lock of Whistler, that lit our aimless gloom,\\n'\n",
            " 'Men showed their own white feather as proudly as a plume.',\n",
            " 'Life was a fly that faded, and death a drone that stung;\\n'\n",
            " 'The world was very old indeed when you and I were young.',\n",
            " 'They twisted even decent sin to shapes not to be named:\\n'\n",
            " 'Men were ashamed of honour; but we were not ashamed.',\n",
            " 'Weak if we were and foolish, not thus we failed, not thus;\\n'\n",
            " 'When that black Baal blocked the heavens he had no hymns from us\\n'\n",
            " 'Children we were--our forts of sand were even as weak as eve,\\n'\n",
            " 'High as they went we piled them up to break that bitter sea.',\n",
            " 'Fools as we were in motley, all jangling and absurd,\\n'\n",
            " 'When all church bells were silent our cap and beds were heard.',\n",
            " 'Not all unhelped we held the fort, our tiny flags unfurled;\\n'\n",
            " 'Some giants laboured in that cloud to lift it from the world.',\n",
            " 'I find again the book we found, I feel the hour that flings\\n'\n",
            " 'Far out of fish-shaped Paumanok some cry of cleaner things;\\n'\n",
            " 'And the Green Carnation withered, as in forest fires that pass,\\n'\n",
            " 'Roared in the wind of all the world ten million leaves of grass;\\n'\n",
            " 'Or sane and sweet and sudden as a bird sings in the rain--\\n'\n",
            " 'Truth out of Tusitala spoke and pleasure out of pain.',\n",
            " 'Yea, cool and clear and sudden as a bird sings in the grey,\\n'\n",
            " 'Dunedin to Samoa spoke, and darkness unto day.']\n"
          ],
          "name": "stdout"
        }
      ]
    }
  ]
}