{
  "nbformat": 4,
  "nbformat_minor": 0,
  "metadata": {
    "colab": {
      "name": "Wordnet.ipynb",
      "provenance": [],
      "authorship_tag": "ABX9TyMbv2lWYTmWkKkQ4KZbIe7D",
      "include_colab_link": true
    },
    "kernelspec": {
      "name": "python3",
      "display_name": "Python 3"
    }
  },
  "cells": [
    {
      "cell_type": "markdown",
      "metadata": {
        "id": "view-in-github",
        "colab_type": "text"
      },
      "source": [
        "<a href=\"https://colab.research.google.com/github/ParasNandwani/nlp_100hours/blob/master/Wordnet.ipynb\" target=\"_parent\"><img src=\"https://colab.research.google.com/assets/colab-badge.svg\" alt=\"Open In Colab\"/></a>"
      ]
    },
    {
      "cell_type": "markdown",
      "metadata": {
        "id": "9-M60kGVa6k0",
        "colab_type": "text"
      },
      "source": [
        "# wordnet is semantic based word dictionary some thing like thesaurus.    \n",
        "Synonyms:beautiful = pretty,studying=reading"
      ]
    },
    {
      "cell_type": "code",
      "metadata": {
        "id": "lbc-K5kNb87m",
        "colab_type": "code",
        "outputId": "f267723c-10eb-454d-f8c1-d9165ce6b250",
        "colab": {
          "base_uri": "https://localhost:8080/",
          "height": 68
        }
      },
      "source": [
        "import nltk\n",
        "nltk.download('wordnet')"
      ],
      "execution_count": 3,
      "outputs": [
        {
          "output_type": "stream",
          "text": [
            "[nltk_data] Downloading package wordnet to /root/nltk_data...\n",
            "[nltk_data]   Unzipping corpora/wordnet.zip.\n"
          ],
          "name": "stdout"
        },
        {
          "output_type": "execute_result",
          "data": {
            "text/plain": [
              "True"
            ]
          },
          "metadata": {
            "tags": []
          },
          "execution_count": 3
        }
      ]
    },
    {
      "cell_type": "code",
      "metadata": {
        "id": "jTI58u9aa18y",
        "colab_type": "code",
        "colab": {}
      },
      "source": [
        "from nltk.corpus import wordnet as wn"
      ],
      "execution_count": 0,
      "outputs": []
    },
    {
      "cell_type": "code",
      "metadata": {
        "id": "xTlPaLNPbyhS",
        "colab_type": "code",
        "outputId": "fef88f3c-1b32-4d36-b149-6dd430398476",
        "colab": {
          "base_uri": "https://localhost:8080/",
          "height": 34
        }
      },
      "source": [
        "wn.synsets('beautiful')"
      ],
      "execution_count": 5,
      "outputs": [
        {
          "output_type": "execute_result",
          "data": {
            "text/plain": [
              "[Synset('beautiful.a.01'), Synset('beautiful.s.02')]"
            ]
          },
          "metadata": {
            "tags": []
          },
          "execution_count": 5
        }
      ]
    },
    {
      "cell_type": "code",
      "metadata": {
        "id": "e-eowmKDcFd-",
        "colab_type": "code",
        "outputId": "15a12aaf-3dee-489e-e59a-47df692a09f4",
        "colab": {
          "base_uri": "https://localhost:8080/",
          "height": 289
        }
      },
      "source": [
        "wn.synsets('do')"
      ],
      "execution_count": 6,
      "outputs": [
        {
          "output_type": "execute_result",
          "data": {
            "text/plain": [
              "[Synset('bash.n.02'),\n",
              " Synset('do.n.02'),\n",
              " Synset('doctor_of_osteopathy.n.01'),\n",
              " Synset('make.v.01'),\n",
              " Synset('perform.v.01'),\n",
              " Synset('do.v.03'),\n",
              " Synset('do.v.04'),\n",
              " Synset('cause.v.01'),\n",
              " Synset('practice.v.01'),\n",
              " Synset('suffice.v.01'),\n",
              " Synset('do.v.08'),\n",
              " Synset('act.v.02'),\n",
              " Synset('serve.v.09'),\n",
              " Synset('do.v.11'),\n",
              " Synset('dress.v.16'),\n",
              " Synset('do.v.13')]"
            ]
          },
          "metadata": {
            "tags": []
          },
          "execution_count": 6
        }
      ]
    },
    {
      "cell_type": "code",
      "metadata": {
        "id": "ukXWQ_00cLVs",
        "colab_type": "code",
        "outputId": "aff80ab7-3c5b-431b-f5f6-8b141c4dd7ab",
        "colab": {
          "base_uri": "https://localhost:8080/",
          "height": 34
        }
      },
      "source": [
        "wn.synset('beautiful.a.01').lemma_names()"
      ],
      "execution_count": 13,
      "outputs": [
        {
          "output_type": "execute_result",
          "data": {
            "text/plain": [
              "['beautiful']"
            ]
          },
          "metadata": {
            "tags": []
          },
          "execution_count": 13
        }
      ]
    },
    {
      "cell_type": "code",
      "metadata": {
        "id": "kKWzYDoOSgR3",
        "colab_type": "code",
        "colab": {
          "base_uri": "https://localhost:8080/",
          "height": 34
        },
        "outputId": "a0c03440-3a53-45d0-f4a4-2f074dc468fd"
      },
      "source": [
        "wn.synset('car.n.01').lemma_names()"
      ],
      "execution_count": 14,
      "outputs": [
        {
          "output_type": "execute_result",
          "data": {
            "text/plain": [
              "['car', 'auto', 'automobile', 'machine', 'motorcar']"
            ]
          },
          "metadata": {
            "tags": []
          },
          "execution_count": 14
        }
      ]
    },
    {
      "cell_type": "code",
      "metadata": {
        "id": "P1XiBH4HSpcB",
        "colab_type": "code",
        "colab": {
          "base_uri": "https://localhost:8080/",
          "height": 34
        },
        "outputId": "1d884285-c6cc-409e-a099-1485a3e4d197"
      },
      "source": [
        "wn.synset('car.n.02').lemma_names()"
      ],
      "execution_count": 16,
      "outputs": [
        {
          "output_type": "execute_result",
          "data": {
            "text/plain": [
              "['car', 'railcar', 'railway_car', 'railroad_car']"
            ]
          },
          "metadata": {
            "tags": []
          },
          "execution_count": 16
        }
      ]
    },
    {
      "cell_type": "code",
      "metadata": {
        "id": "xSLmSwggSyL6",
        "colab_type": "code",
        "colab": {
          "base_uri": "https://localhost:8080/",
          "height": 34
        },
        "outputId": "2bdb7fff-aab4-4e15-a5ad-fb48ecdf7d86"
      },
      "source": [
        "wn.synset('car.n.03').lemma_names()"
      ],
      "execution_count": 17,
      "outputs": [
        {
          "output_type": "execute_result",
          "data": {
            "text/plain": [
              "['car', 'gondola']"
            ]
          },
          "metadata": {
            "tags": []
          },
          "execution_count": 17
        }
      ]
    },
    {
      "cell_type": "code",
      "metadata": {
        "id": "BIeUkHEfS1NR",
        "colab_type": "code",
        "colab": {
          "base_uri": "https://localhost:8080/",
          "height": 102
        },
        "outputId": "d0423274-0094-4e9f-970f-32a5ff8f31bd"
      },
      "source": [
        "wn.synset('car.n.01').lemmas()"
      ],
      "execution_count": 19,
      "outputs": [
        {
          "output_type": "execute_result",
          "data": {
            "text/plain": [
              "[Lemma('car.n.01.car'),\n",
              " Lemma('car.n.01.auto'),\n",
              " Lemma('car.n.01.automobile'),\n",
              " Lemma('car.n.01.machine'),\n",
              " Lemma('car.n.01.motorcar')]"
            ]
          },
          "metadata": {
            "tags": []
          },
          "execution_count": 19
        }
      ]
    },
    {
      "cell_type": "code",
      "metadata": {
        "id": "9I2Sug-DUu4C",
        "colab_type": "code",
        "colab": {
          "base_uri": "https://localhost:8080/",
          "height": 34
        },
        "outputId": "6a24f832-591f-41c1-cf1f-2affcc010136"
      },
      "source": [
        "wn.synset('animal.n.01').definition()"
      ],
      "execution_count": 20,
      "outputs": [
        {
          "output_type": "execute_result",
          "data": {
            "text/plain": [
              "'a living organism characterized by voluntary movement'"
            ]
          },
          "metadata": {
            "tags": []
          },
          "execution_count": 20
        }
      ]
    },
    {
      "cell_type": "code",
      "metadata": {
        "id": "DpweYnaiVGZO",
        "colab_type": "code",
        "colab": {
          "base_uri": "https://localhost:8080/",
          "height": 34
        },
        "outputId": "e8dfc410-27a7-40ef-aba9-c0817bcb87a1"
      },
      "source": [
        "wn.synsets('notorious')"
      ],
      "execution_count": 21,
      "outputs": [
        {
          "output_type": "execute_result",
          "data": {
            "text/plain": [
              "[Synset('ill-famed.s.01')]"
            ]
          },
          "metadata": {
            "tags": []
          },
          "execution_count": 21
        }
      ]
    },
    {
      "cell_type": "code",
      "metadata": {
        "id": "gpcqg_ZLVNb8",
        "colab_type": "code",
        "colab": {
          "base_uri": "https://localhost:8080/",
          "height": 187
        },
        "outputId": "c18292c5-7d5c-4a69-c272-aedd9d55e873"
      },
      "source": [
        "wn.synsets('love')"
      ],
      "execution_count": 22,
      "outputs": [
        {
          "output_type": "execute_result",
          "data": {
            "text/plain": [
              "[Synset('love.n.01'),\n",
              " Synset('love.n.02'),\n",
              " Synset('beloved.n.01'),\n",
              " Synset('love.n.04'),\n",
              " Synset('love.n.05'),\n",
              " Synset('sexual_love.n.02'),\n",
              " Synset('love.v.01'),\n",
              " Synset('love.v.02'),\n",
              " Synset('love.v.03'),\n",
              " Synset('sleep_together.v.01')]"
            ]
          },
          "metadata": {
            "tags": []
          },
          "execution_count": 22
        }
      ]
    },
    {
      "cell_type": "code",
      "metadata": {
        "id": "gpCxc3oWVRfs",
        "colab_type": "code",
        "colab": {
          "base_uri": "https://localhost:8080/",
          "height": 544
        },
        "outputId": "0496e7f6-6373-4ca7-e38f-6dd219253eb3"
      },
      "source": [
        "motorcar = wn.synset('car.n.01')\n",
        "types_of_motorcars=motorcar.hyponyms()\n",
        "types_of_motorcars"
      ],
      "execution_count": 27,
      "outputs": [
        {
          "output_type": "execute_result",
          "data": {
            "text/plain": [
              "[Synset('ambulance.n.01'),\n",
              " Synset('beach_wagon.n.01'),\n",
              " Synset('bus.n.04'),\n",
              " Synset('cab.n.03'),\n",
              " Synset('compact.n.03'),\n",
              " Synset('convertible.n.01'),\n",
              " Synset('coupe.n.01'),\n",
              " Synset('cruiser.n.01'),\n",
              " Synset('electric.n.01'),\n",
              " Synset('gas_guzzler.n.01'),\n",
              " Synset('hardtop.n.01'),\n",
              " Synset('hatchback.n.01'),\n",
              " Synset('horseless_carriage.n.01'),\n",
              " Synset('hot_rod.n.01'),\n",
              " Synset('jeep.n.01'),\n",
              " Synset('limousine.n.01'),\n",
              " Synset('loaner.n.02'),\n",
              " Synset('minicar.n.01'),\n",
              " Synset('minivan.n.01'),\n",
              " Synset('model_t.n.01'),\n",
              " Synset('pace_car.n.01'),\n",
              " Synset('racer.n.02'),\n",
              " Synset('roadster.n.01'),\n",
              " Synset('sedan.n.01'),\n",
              " Synset('sport_utility.n.01'),\n",
              " Synset('sports_car.n.01'),\n",
              " Synset('stanley_steamer.n.01'),\n",
              " Synset('stock_car.n.01'),\n",
              " Synset('subcompact.n.01'),\n",
              " Synset('touring_car.n.01'),\n",
              " Synset('used-car.n.01')]"
            ]
          },
          "metadata": {
            "tags": []
          },
          "execution_count": 27
        }
      ]
    },
    {
      "cell_type": "code",
      "metadata": {
        "id": "E4f-LbFHWJfi",
        "colab_type": "code",
        "colab": {
          "base_uri": "https://localhost:8080/",
          "height": 54
        },
        "outputId": "b54099bf-a5a1-4a76-99b0-3ead7bf6acd7"
      },
      "source": [
        "print([lemma.name() for sysnet in types_of_motorcars for lemma in sysnet.lemmas() ])"
      ],
      "execution_count": 30,
      "outputs": [
        {
          "output_type": "stream",
          "text": [
            "['ambulance', 'beach_wagon', 'station_wagon', 'wagon', 'estate_car', 'beach_waggon', 'station_waggon', 'waggon', 'bus', 'jalopy', 'heap', 'cab', 'hack', 'taxi', 'taxicab', 'compact', 'compact_car', 'convertible', 'coupe', 'cruiser', 'police_cruiser', 'patrol_car', 'police_car', 'prowl_car', 'squad_car', 'electric', 'electric_automobile', 'electric_car', 'gas_guzzler', 'hardtop', 'hatchback', 'horseless_carriage', 'hot_rod', 'hot-rod', 'jeep', 'landrover', 'limousine', 'limo', 'loaner', 'minicar', 'minivan', 'Model_T', 'pace_car', 'racer', 'race_car', 'racing_car', 'roadster', 'runabout', 'two-seater', 'sedan', 'saloon', 'sport_utility', 'sport_utility_vehicle', 'S.U.V.', 'SUV', 'sports_car', 'sport_car', 'Stanley_Steamer', 'stock_car', 'subcompact', 'subcompact_car', 'touring_car', 'phaeton', 'tourer', 'used-car', 'secondhand_car']\n"
          ],
          "name": "stdout"
        }
      ]
    },
    {
      "cell_type": "code",
      "metadata": {
        "id": "ZN84pSaNYW5q",
        "colab_type": "code",
        "colab": {
          "base_uri": "https://localhost:8080/",
          "height": 34
        },
        "outputId": "72e0df78-b7ea-4610-fe0b-96b9c8012bd5"
      },
      "source": [
        "motorcar = wn.synset('car.n.01')\n",
        "types_of_motorcars=motorcar.hypernyms()\n",
        "types_of_motorcars"
      ],
      "execution_count": 32,
      "outputs": [
        {
          "output_type": "execute_result",
          "data": {
            "text/plain": [
              "[Synset('motor_vehicle.n.01')]"
            ]
          },
          "metadata": {
            "tags": []
          },
          "execution_count": 32
        }
      ]
    }
  ]
}