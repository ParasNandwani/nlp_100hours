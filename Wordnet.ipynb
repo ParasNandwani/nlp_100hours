{
  "nbformat": 4,
  "nbformat_minor": 0,
  "metadata": {
    "colab": {
      "name": "Wordnet.ipynb",
      "provenance": [],
      "authorship_tag": "ABX9TyPatLCQ+kgfs35MhonTGH8g",
      "include_colab_link": true
    },
    "kernelspec": {
      "name": "python3",
      "display_name": "Python 3"
    }
  },
  "cells": [
    {
      "cell_type": "markdown",
      "metadata": {
        "id": "view-in-github",
        "colab_type": "text"
      },
      "source": [
        "<a href=\"https://colab.research.google.com/github/ParasNandwani/nlp_100hours/blob/master/Wordnet.ipynb\" target=\"_parent\"><img src=\"https://colab.research.google.com/assets/colab-badge.svg\" alt=\"Open In Colab\"/></a>"
      ]
    },
    {
      "cell_type": "markdown",
      "metadata": {
        "id": "9-M60kGVa6k0",
        "colab_type": "text"
      },
      "source": [
        "# wordnet is semantic based word dictionary some thing like thesaurus.    \n",
        "Synonyms:beautiful = pretty,studying=reading"
      ]
    },
    {
      "cell_type": "code",
      "metadata": {
        "id": "lbc-K5kNb87m",
        "colab_type": "code",
        "outputId": "3e53e97d-e6b5-4c54-b1c7-20eac17ad025",
        "colab": {
          "base_uri": "https://localhost:8080/",
          "height": 68
        }
      },
      "source": [
        "import nltk\n",
        "nltk.download('wordnet')"
      ],
      "execution_count": 1,
      "outputs": [
        {
          "output_type": "stream",
          "text": [
            "[nltk_data] Downloading package wordnet to /root/nltk_data...\n",
            "[nltk_data]   Unzipping corpora/wordnet.zip.\n"
          ],
          "name": "stdout"
        },
        {
          "output_type": "execute_result",
          "data": {
            "text/plain": [
              "True"
            ]
          },
          "metadata": {
            "tags": []
          },
          "execution_count": 1
        }
      ]
    },
    {
      "cell_type": "code",
      "metadata": {
        "id": "jTI58u9aa18y",
        "colab_type": "code",
        "colab": {}
      },
      "source": [
        "from nltk.corpus import wordnet as wn"
      ],
      "execution_count": 0,
      "outputs": []
    },
    {
      "cell_type": "code",
      "metadata": {
        "id": "xTlPaLNPbyhS",
        "colab_type": "code",
        "outputId": "e2ec7a76-eb52-49f1-d6e4-dee504faa678",
        "colab": {
          "base_uri": "https://localhost:8080/",
          "height": 34
        }
      },
      "source": [
        "wn.synsets('beautiful')"
      ],
      "execution_count": 3,
      "outputs": [
        {
          "output_type": "execute_result",
          "data": {
            "text/plain": [
              "[Synset('beautiful.a.01'), Synset('beautiful.s.02')]"
            ]
          },
          "metadata": {
            "tags": []
          },
          "execution_count": 3
        }
      ]
    },
    {
      "cell_type": "code",
      "metadata": {
        "id": "e-eowmKDcFd-",
        "colab_type": "code",
        "outputId": "22126352-dd07-48ee-91af-54c1efc6ee1f",
        "colab": {
          "base_uri": "https://localhost:8080/",
          "height": 289
        }
      },
      "source": [
        "wn.synsets('do')"
      ],
      "execution_count": 4,
      "outputs": [
        {
          "output_type": "execute_result",
          "data": {
            "text/plain": [
              "[Synset('bash.n.02'),\n",
              " Synset('do.n.02'),\n",
              " Synset('doctor_of_osteopathy.n.01'),\n",
              " Synset('make.v.01'),\n",
              " Synset('perform.v.01'),\n",
              " Synset('do.v.03'),\n",
              " Synset('do.v.04'),\n",
              " Synset('cause.v.01'),\n",
              " Synset('practice.v.01'),\n",
              " Synset('suffice.v.01'),\n",
              " Synset('do.v.08'),\n",
              " Synset('act.v.02'),\n",
              " Synset('serve.v.09'),\n",
              " Synset('do.v.11'),\n",
              " Synset('dress.v.16'),\n",
              " Synset('do.v.13')]"
            ]
          },
          "metadata": {
            "tags": []
          },
          "execution_count": 4
        }
      ]
    },
    {
      "cell_type": "code",
      "metadata": {
        "id": "ukXWQ_00cLVs",
        "colab_type": "code",
        "outputId": "a328221a-5c74-4029-c6f0-64c0fb8645e8",
        "colab": {
          "base_uri": "https://localhost:8080/",
          "height": 34
        }
      },
      "source": [
        "wn.synset('beautiful.a.01').lemma_names()"
      ],
      "execution_count": 5,
      "outputs": [
        {
          "output_type": "execute_result",
          "data": {
            "text/plain": [
              "['beautiful']"
            ]
          },
          "metadata": {
            "tags": []
          },
          "execution_count": 5
        }
      ]
    },
    {
      "cell_type": "code",
      "metadata": {
        "id": "kKWzYDoOSgR3",
        "colab_type": "code",
        "outputId": "b61fb7df-d5e8-45c6-b745-ddc792452e92",
        "colab": {
          "base_uri": "https://localhost:8080/",
          "height": 34
        }
      },
      "source": [
        "wn.synset('car.n.01').lemma_names()"
      ],
      "execution_count": 6,
      "outputs": [
        {
          "output_type": "execute_result",
          "data": {
            "text/plain": [
              "['car', 'auto', 'automobile', 'machine', 'motorcar']"
            ]
          },
          "metadata": {
            "tags": []
          },
          "execution_count": 6
        }
      ]
    },
    {
      "cell_type": "code",
      "metadata": {
        "id": "P1XiBH4HSpcB",
        "colab_type": "code",
        "outputId": "61a70ec1-4cf9-4cfe-ff65-c0db5844cb2b",
        "colab": {
          "base_uri": "https://localhost:8080/",
          "height": 34
        }
      },
      "source": [
        "wn.synset('car.n.02').lemma_names()"
      ],
      "execution_count": 7,
      "outputs": [
        {
          "output_type": "execute_result",
          "data": {
            "text/plain": [
              "['car', 'railcar', 'railway_car', 'railroad_car']"
            ]
          },
          "metadata": {
            "tags": []
          },
          "execution_count": 7
        }
      ]
    },
    {
      "cell_type": "code",
      "metadata": {
        "id": "xSLmSwggSyL6",
        "colab_type": "code",
        "outputId": "36f1ecef-9db6-4150-c6e6-bcbecf0c4428",
        "colab": {
          "base_uri": "https://localhost:8080/",
          "height": 34
        }
      },
      "source": [
        "wn.synset('car.n.03').lemma_names()"
      ],
      "execution_count": 8,
      "outputs": [
        {
          "output_type": "execute_result",
          "data": {
            "text/plain": [
              "['car', 'gondola']"
            ]
          },
          "metadata": {
            "tags": []
          },
          "execution_count": 8
        }
      ]
    },
    {
      "cell_type": "code",
      "metadata": {
        "id": "BIeUkHEfS1NR",
        "colab_type": "code",
        "outputId": "ed75dc32-371b-4f23-f026-3660b6021f9b",
        "colab": {
          "base_uri": "https://localhost:8080/",
          "height": 102
        }
      },
      "source": [
        "wn.synset('car.n.01').lemmas()"
      ],
      "execution_count": 9,
      "outputs": [
        {
          "output_type": "execute_result",
          "data": {
            "text/plain": [
              "[Lemma('car.n.01.car'),\n",
              " Lemma('car.n.01.auto'),\n",
              " Lemma('car.n.01.automobile'),\n",
              " Lemma('car.n.01.machine'),\n",
              " Lemma('car.n.01.motorcar')]"
            ]
          },
          "metadata": {
            "tags": []
          },
          "execution_count": 9
        }
      ]
    },
    {
      "cell_type": "code",
      "metadata": {
        "id": "9I2Sug-DUu4C",
        "colab_type": "code",
        "outputId": "e5ef5073-ee65-43d3-8fa8-d265646be8ef",
        "colab": {
          "base_uri": "https://localhost:8080/",
          "height": 34
        }
      },
      "source": [
        "wn.synset('animal.n.01').definition()"
      ],
      "execution_count": 10,
      "outputs": [
        {
          "output_type": "execute_result",
          "data": {
            "text/plain": [
              "'a living organism characterized by voluntary movement'"
            ]
          },
          "metadata": {
            "tags": []
          },
          "execution_count": 10
        }
      ]
    },
    {
      "cell_type": "code",
      "metadata": {
        "id": "DpweYnaiVGZO",
        "colab_type": "code",
        "outputId": "2cb7a642-d383-438a-aecd-84137f2cdb48",
        "colab": {
          "base_uri": "https://localhost:8080/",
          "height": 34
        }
      },
      "source": [
        "wn.synsets('notorious')"
      ],
      "execution_count": 11,
      "outputs": [
        {
          "output_type": "execute_result",
          "data": {
            "text/plain": [
              "[Synset('ill-famed.s.01')]"
            ]
          },
          "metadata": {
            "tags": []
          },
          "execution_count": 11
        }
      ]
    },
    {
      "cell_type": "code",
      "metadata": {
        "id": "gpcqg_ZLVNb8",
        "colab_type": "code",
        "outputId": "d6c9e705-dffb-4863-c43a-3a6244c974d4",
        "colab": {
          "base_uri": "https://localhost:8080/",
          "height": 187
        }
      },
      "source": [
        "wn.synsets('love')"
      ],
      "execution_count": 12,
      "outputs": [
        {
          "output_type": "execute_result",
          "data": {
            "text/plain": [
              "[Synset('love.n.01'),\n",
              " Synset('love.n.02'),\n",
              " Synset('beloved.n.01'),\n",
              " Synset('love.n.04'),\n",
              " Synset('love.n.05'),\n",
              " Synset('sexual_love.n.02'),\n",
              " Synset('love.v.01'),\n",
              " Synset('love.v.02'),\n",
              " Synset('love.v.03'),\n",
              " Synset('sleep_together.v.01')]"
            ]
          },
          "metadata": {
            "tags": []
          },
          "execution_count": 12
        }
      ]
    },
    {
      "cell_type": "code",
      "metadata": {
        "id": "gpCxc3oWVRfs",
        "colab_type": "code",
        "outputId": "8be5add7-ad0d-4ed0-a985-362035cc2478",
        "colab": {
          "base_uri": "https://localhost:8080/",
          "height": 544
        }
      },
      "source": [
        "motorcar = wn.synset('car.n.01')\n",
        "types_of_motorcars=motorcar.hyponyms()\n",
        "types_of_motorcars"
      ],
      "execution_count": 13,
      "outputs": [
        {
          "output_type": "execute_result",
          "data": {
            "text/plain": [
              "[Synset('ambulance.n.01'),\n",
              " Synset('beach_wagon.n.01'),\n",
              " Synset('bus.n.04'),\n",
              " Synset('cab.n.03'),\n",
              " Synset('compact.n.03'),\n",
              " Synset('convertible.n.01'),\n",
              " Synset('coupe.n.01'),\n",
              " Synset('cruiser.n.01'),\n",
              " Synset('electric.n.01'),\n",
              " Synset('gas_guzzler.n.01'),\n",
              " Synset('hardtop.n.01'),\n",
              " Synset('hatchback.n.01'),\n",
              " Synset('horseless_carriage.n.01'),\n",
              " Synset('hot_rod.n.01'),\n",
              " Synset('jeep.n.01'),\n",
              " Synset('limousine.n.01'),\n",
              " Synset('loaner.n.02'),\n",
              " Synset('minicar.n.01'),\n",
              " Synset('minivan.n.01'),\n",
              " Synset('model_t.n.01'),\n",
              " Synset('pace_car.n.01'),\n",
              " Synset('racer.n.02'),\n",
              " Synset('roadster.n.01'),\n",
              " Synset('sedan.n.01'),\n",
              " Synset('sport_utility.n.01'),\n",
              " Synset('sports_car.n.01'),\n",
              " Synset('stanley_steamer.n.01'),\n",
              " Synset('stock_car.n.01'),\n",
              " Synset('subcompact.n.01'),\n",
              " Synset('touring_car.n.01'),\n",
              " Synset('used-car.n.01')]"
            ]
          },
          "metadata": {
            "tags": []
          },
          "execution_count": 13
        }
      ]
    },
    {
      "cell_type": "code",
      "metadata": {
        "id": "E4f-LbFHWJfi",
        "colab_type": "code",
        "outputId": "e034370a-7ae4-4cf8-b26c-cb08a97e9443",
        "colab": {
          "base_uri": "https://localhost:8080/",
          "height": 54
        }
      },
      "source": [
        "print([lemma.name() for sysnet in types_of_motorcars for lemma in sysnet.lemmas() ])"
      ],
      "execution_count": 14,
      "outputs": [
        {
          "output_type": "stream",
          "text": [
            "['ambulance', 'beach_wagon', 'station_wagon', 'wagon', 'estate_car', 'beach_waggon', 'station_waggon', 'waggon', 'bus', 'jalopy', 'heap', 'cab', 'hack', 'taxi', 'taxicab', 'compact', 'compact_car', 'convertible', 'coupe', 'cruiser', 'police_cruiser', 'patrol_car', 'police_car', 'prowl_car', 'squad_car', 'electric', 'electric_automobile', 'electric_car', 'gas_guzzler', 'hardtop', 'hatchback', 'horseless_carriage', 'hot_rod', 'hot-rod', 'jeep', 'landrover', 'limousine', 'limo', 'loaner', 'minicar', 'minivan', 'Model_T', 'pace_car', 'racer', 'race_car', 'racing_car', 'roadster', 'runabout', 'two-seater', 'sedan', 'saloon', 'sport_utility', 'sport_utility_vehicle', 'S.U.V.', 'SUV', 'sports_car', 'sport_car', 'Stanley_Steamer', 'stock_car', 'subcompact', 'subcompact_car', 'touring_car', 'phaeton', 'tourer', 'used-car', 'secondhand_car']\n"
          ],
          "name": "stdout"
        }
      ]
    },
    {
      "cell_type": "code",
      "metadata": {
        "id": "ZN84pSaNYW5q",
        "colab_type": "code",
        "outputId": "ebf1c419-38ce-4e64-9128-8e58d841762c",
        "colab": {
          "base_uri": "https://localhost:8080/",
          "height": 34
        }
      },
      "source": [
        "motorcar = wn.synset('car.n.01')\n",
        "types_of_motorcars=motorcar.hypernyms()\n",
        "types_of_motorcars"
      ],
      "execution_count": 15,
      "outputs": [
        {
          "output_type": "execute_result",
          "data": {
            "text/plain": [
              "[Synset('motor_vehicle.n.01')]"
            ]
          },
          "metadata": {
            "tags": []
          },
          "execution_count": 15
        }
      ]
    },
    {
      "cell_type": "code",
      "metadata": {
        "id": "w2lc-S3XK-Cl",
        "colab_type": "code",
        "colab": {
          "base_uri": "https://localhost:8080/",
          "height": 34
        },
        "outputId": "d8febefd-4d18-48ab-db62-6eb87bda5f34"
      },
      "source": [
        "dog = wn.synset('dog.n.01')\n",
        "dog.hypernyms()"
      ],
      "execution_count": 16,
      "outputs": [
        {
          "output_type": "execute_result",
          "data": {
            "text/plain": [
              "[Synset('canine.n.02'), Synset('domestic_animal.n.01')]"
            ]
          },
          "metadata": {
            "tags": []
          },
          "execution_count": 16
        }
      ]
    },
    {
      "cell_type": "code",
      "metadata": {
        "id": "AJr5XCNsLLR3",
        "colab_type": "code",
        "colab": {
          "base_uri": "https://localhost:8080/",
          "height": 408
        },
        "outputId": "9fba03a4-dfc9-496a-ef3c-e2d3b8213cb4"
      },
      "source": [
        "dog.hypernym_paths()"
      ],
      "execution_count": 17,
      "outputs": [
        {
          "output_type": "execute_result",
          "data": {
            "text/plain": [
              "[[Synset('entity.n.01'),\n",
              "  Synset('physical_entity.n.01'),\n",
              "  Synset('object.n.01'),\n",
              "  Synset('whole.n.02'),\n",
              "  Synset('living_thing.n.01'),\n",
              "  Synset('organism.n.01'),\n",
              "  Synset('animal.n.01'),\n",
              "  Synset('chordate.n.01'),\n",
              "  Synset('vertebrate.n.01'),\n",
              "  Synset('mammal.n.01'),\n",
              "  Synset('placental.n.01'),\n",
              "  Synset('carnivore.n.01'),\n",
              "  Synset('canine.n.02'),\n",
              "  Synset('dog.n.01')],\n",
              " [Synset('entity.n.01'),\n",
              "  Synset('physical_entity.n.01'),\n",
              "  Synset('object.n.01'),\n",
              "  Synset('whole.n.02'),\n",
              "  Synset('living_thing.n.01'),\n",
              "  Synset('organism.n.01'),\n",
              "  Synset('animal.n.01'),\n",
              "  Synset('domestic_animal.n.01'),\n",
              "  Synset('dog.n.01')]]"
            ]
          },
          "metadata": {
            "tags": []
          },
          "execution_count": 17
        }
      ]
    },
    {
      "cell_type": "code",
      "metadata": {
        "id": "-cIlekJ6Njsj",
        "colab_type": "code",
        "colab": {
          "base_uri": "https://localhost:8080/",
          "height": 34
        },
        "outputId": "9b50f306-c097-4bb7-9a73-d2adc3b7e1ca"
      },
      "source": [
        "wn.lemma('supply.n.02.supply').antonyms()"
      ],
      "execution_count": 18,
      "outputs": [
        {
          "output_type": "execute_result",
          "data": {
            "text/plain": [
              "[Lemma('demand.n.02.demand')]"
            ]
          },
          "metadata": {
            "tags": []
          },
          "execution_count": 18
        }
      ]
    },
    {
      "cell_type": "markdown",
      "metadata": {
        "id": "q5rvchlaNrXJ",
        "colab_type": "text"
      },
      "source": [
        "# Senti Words\n",
        "\n"
      ]
    },
    {
      "cell_type": "code",
      "metadata": {
        "id": "VNvqFgyIQVKr",
        "colab_type": "code",
        "colab": {
          "base_uri": "https://localhost:8080/",
          "height": 68
        },
        "outputId": "3505ccf9-5ee4-4ec2-f3c5-0938fece0041"
      },
      "source": [
        "from nltk.corpus import sentiwordnet as swn\n",
        "nltk.download('sentiwordnet')"
      ],
      "execution_count": 21,
      "outputs": [
        {
          "output_type": "stream",
          "text": [
            "[nltk_data] Downloading package sentiwordnet to /root/nltk_data...\n",
            "[nltk_data]   Unzipping corpora/sentiwordnet.zip.\n"
          ],
          "name": "stdout"
        },
        {
          "output_type": "execute_result",
          "data": {
            "text/plain": [
              "True"
            ]
          },
          "metadata": {
            "tags": []
          },
          "execution_count": 21
        }
      ]
    },
    {
      "cell_type": "code",
      "metadata": {
        "id": "rKuJp0z-Qge7",
        "colab_type": "code",
        "colab": {}
      },
      "source": [
        "cat=swn.senti_synset('cat.n.03')"
      ],
      "execution_count": 0,
      "outputs": []
    }
  ]
}