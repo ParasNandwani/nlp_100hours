{
  "nbformat": 4,
  "nbformat_minor": 0,
  "metadata": {
    "colab": {
      "name": "Tokenisation.ipynb",
      "provenance": [],
      "include_colab_link": true
    },
    "kernelspec": {
      "name": "python3",
      "display_name": "Python 3"
    }
  },
  "cells": [
    {
      "cell_type": "markdown",
      "metadata": {
        "id": "view-in-github",
        "colab_type": "text"
      },
      "source": [
        "<a href=\"https://colab.research.google.com/github/ParasNandwani/nlp_100hours/blob/master/Tokenisation.ipynb\" target=\"_parent\"><img src=\"https://colab.research.google.com/assets/colab-badge.svg\" alt=\"Open In Colab\"/></a>"
      ]
    },
    {
      "cell_type": "code",
      "metadata": {
        "id": "jHyVQtyJ1m2G",
        "colab_type": "code",
        "colab": {
          "base_uri": "https://localhost:8080/",
          "height": 68
        },
        "outputId": "25520b8d-3076-4e0a-8a98-166a81cac2d5"
      },
      "source": [
        "import nltk\n",
        "nltk.download('punkt')"
      ],
      "execution_count": 10,
      "outputs": [
        {
          "output_type": "stream",
          "text": [
            "[nltk_data] Downloading package punkt to /root/nltk_data...\n",
            "[nltk_data]   Unzipping tokenizers/punkt.zip.\n"
          ],
          "name": "stdout"
        },
        {
          "output_type": "execute_result",
          "data": {
            "text/plain": [
              "True"
            ]
          },
          "metadata": {
            "tags": []
          },
          "execution_count": 10
        }
      ]
    },
    {
      "cell_type": "code",
      "metadata": {
        "id": "ro4fffxuyxii",
        "colab_type": "code",
        "colab": {}
      },
      "source": [
        "raw=\"\"\"“The Indian armed forces not only ensure protection of human rights of our own people but also of adversaries and deal with the prisoners of war as per the Geneva Conventions,” Gen. Rawat said at the National Human Rights Commission on “Preserving Human Rights in times of War and Prisoners of War.” \"\"\""
      ],
      "execution_count": 0,
      "outputs": []
    },
    {
      "cell_type": "code",
      "metadata": {
        "id": "k6N3_fVTz8_V",
        "colab_type": "code",
        "colab": {
          "base_uri": "https://localhost:8080/",
          "height": 54
        },
        "outputId": "4e439e18-973f-4ab9-ccd3-7ba4225ed2e6"
      },
      "source": [
        "raw"
      ],
      "execution_count": 3,
      "outputs": [
        {
          "output_type": "execute_result",
          "data": {
            "text/plain": [
              "'“The Indian armed forces not only ensure protection of human rights of our own people but also of adversaries and deal with the prisoners of war as per the Geneva Conventions,” Gen. Rawat said at the National Human Rights Commission on “Preserving Human Rights in times of War and Prisoners of War.” '"
            ]
          },
          "metadata": {
            "tags": []
          },
          "execution_count": 3
        }
      ]
    },
    {
      "cell_type": "code",
      "metadata": {
        "id": "Uc2Q4tFy0Vm9",
        "colab_type": "code",
        "colab": {
          "base_uri": "https://localhost:8080/",
          "height": 54
        },
        "outputId": "ee8b1c22-063b-47a6-d2f4-88b7ea9decd5"
      },
      "source": [
        "print(raw.split())"
      ],
      "execution_count": 4,
      "outputs": [
        {
          "output_type": "stream",
          "text": [
            "['“The', 'Indian', 'armed', 'forces', 'not', 'only', 'ensure', 'protection', 'of', 'human', 'rights', 'of', 'our', 'own', 'people', 'but', 'also', 'of', 'adversaries', 'and', 'deal', 'with', 'the', 'prisoners', 'of', 'war', 'as', 'per', 'the', 'Geneva', 'Conventions,”', 'Gen.', 'Rawat', 'said', 'at', 'the', 'National', 'Human', 'Rights', 'Commission', 'on', '“Preserving', 'Human', 'Rights', 'in', 'times', 'of', 'War', 'and', 'Prisoners', 'of', 'War.”']\n"
          ],
          "name": "stdout"
        }
      ]
    },
    {
      "cell_type": "code",
      "metadata": {
        "id": "6GtlF2I40bf0",
        "colab_type": "code",
        "colab": {
          "base_uri": "https://localhost:8080/",
          "height": 54
        },
        "outputId": "d62f6f42-4f36-47c5-b7d6-a188ce504465"
      },
      "source": [
        "import re\n",
        "print(re.split(' ',raw))"
      ],
      "execution_count": 5,
      "outputs": [
        {
          "output_type": "stream",
          "text": [
            "['“The', 'Indian', 'armed', 'forces', 'not', 'only', 'ensure', 'protection', 'of', 'human', 'rights', 'of', 'our', 'own', 'people', 'but', 'also', 'of', 'adversaries', 'and', 'deal', 'with', 'the', 'prisoners', 'of', 'war', 'as', 'per', 'the', 'Geneva', 'Conventions,”', 'Gen.', 'Rawat', 'said', 'at', 'the', 'National', 'Human', 'Rights', 'Commission', 'on', '“Preserving', 'Human', 'Rights', 'in', 'times', 'of', 'War', 'and', 'Prisoners', 'of', 'War.”', '']\n"
          ],
          "name": "stdout"
        }
      ]
    },
    {
      "cell_type": "code",
      "metadata": {
        "id": "6sxu-YNC0noD",
        "colab_type": "code",
        "colab": {
          "base_uri": "https://localhost:8080/",
          "height": 34
        },
        "outputId": "bbecb3fb-f8ab-4a0d-8dc6-8cc11c9cfc04"
      },
      "source": [
        "sample=\"I am typing (text data)\"\n",
        "print(re.split(r'\\s+',sample))"
      ],
      "execution_count": 7,
      "outputs": [
        {
          "output_type": "stream",
          "text": [
            "['I', 'am', 'typing', '(text', 'data)']\n"
          ],
          "name": "stdout"
        }
      ]
    },
    {
      "cell_type": "code",
      "metadata": {
        "id": "P8uP6BrY2C2L",
        "colab_type": "code",
        "colab": {
          "base_uri": "https://localhost:8080/",
          "height": 34
        },
        "outputId": "63430ee9-a4eb-449e-c9a8-c88e2f9328c9"
      },
      "source": [
        "re.split(r'\\w+', sample)\n",
        "# 'w' indicates split on any of [a-zA-Z0-9]\n"
      ],
      "execution_count": 22,
      "outputs": [
        {
          "output_type": "execute_result",
          "data": {
            "text/plain": [
              "['', ' ', ' ', ' (', ' ', ')']"
            ]
          },
          "metadata": {
            "tags": []
          },
          "execution_count": 22
        }
      ]
    },
    {
      "cell_type": "code",
      "metadata": {
        "id": "4CfTcTzM2N7e",
        "colab_type": "code",
        "colab": {
          "base_uri": "https://localhost:8080/",
          "height": 34
        },
        "outputId": "94ffe683-2793-4c84-f991-34059cae8a60"
      },
      "source": [
        "# 'W' indicates split on anything apart from [a-zA-Z0-9]\n",
        "re.split(r'\\W+', sample)"
      ],
      "execution_count": 25,
      "outputs": [
        {
          "output_type": "execute_result",
          "data": {
            "text/plain": [
              "['I', 'am', 'typing', 'text', 'data', '']"
            ]
          },
          "metadata": {
            "tags": []
          },
          "execution_count": 25
        }
      ]
    },
    {
      "cell_type": "code",
      "metadata": {
        "id": "-tFhY-z006RF",
        "colab_type": "code",
        "colab": {}
      },
      "source": [
        "import nltk\n",
        "string = '''\n",
        "At Waterloo we were fortunate in catching a train for Leatherhead, where we hired a trap at the station inn and drove for four or five miles through the lovely Surrey lanes. \n",
        "It was a perfect day, with a bright sun and a few fleecy clouds in the heavens. \n",
        "The trees and wayside hedges were just throwing out their first green shoots, and the air was full of the pleasant smell of the moist earth. To me at least there was a strange contrast between the sweet promise of the spring and this sinister quest upon which we were engaged. \n",
        "My companion sat in the front of the trap, his arms folded, his hat pulled down over his eyes, and his chin sunk upon his breast, buried in the deepest thought. \n",
        "Suddenly, however, he started, tapped me on the shoulder, and pointed over the meadows.\n",
        "'''"
      ],
      "execution_count": 0,
      "outputs": []
    },
    {
      "cell_type": "code",
      "metadata": {
        "id": "3ZKyimS61Io0",
        "colab_type": "code",
        "colab": {
          "base_uri": "https://localhost:8080/",
          "height": 54
        },
        "outputId": "109153c4-b843-4c4d-850e-6470f1c7a983"
      },
      "source": [
        "tokens=nltk.tokenize.word_tokenize(raw)\n",
        "print(tokens)"
      ],
      "execution_count": 11,
      "outputs": [
        {
          "output_type": "stream",
          "text": [
            "['“', 'The', 'Indian', 'armed', 'forces', 'not', 'only', 'ensure', 'protection', 'of', 'human', 'rights', 'of', 'our', 'own', 'people', 'but', 'also', 'of', 'adversaries', 'and', 'deal', 'with', 'the', 'prisoners', 'of', 'war', 'as', 'per', 'the', 'Geneva', 'Conventions', ',', '”', 'Gen.', 'Rawat', 'said', 'at', 'the', 'National', 'Human', 'Rights', 'Commission', 'on', '“', 'Preserving', 'Human', 'Rights', 'in', 'times', 'of', 'War', 'and', 'Prisoners', 'of', 'War', '.', '”']\n"
          ],
          "name": "stdout"
        }
      ]
    },
    {
      "cell_type": "code",
      "metadata": {
        "id": "Q6BCXYkl1vDf",
        "colab_type": "code",
        "colab": {}
      },
      "source": [
        "from nltk.corpus import RegexpTokenizer as regextoken\n",
        "tokenizer=regextoken(r'\\w+')\n"
      ],
      "execution_count": 0,
      "outputs": []
    },
    {
      "cell_type": "code",
      "metadata": {
        "id": "SF4_GTD_2eMw",
        "colab_type": "code",
        "colab": {}
      },
      "source": [
        "tokens=tokenizer.tokenize(raw)"
      ],
      "execution_count": 0,
      "outputs": []
    },
    {
      "cell_type": "code",
      "metadata": {
        "id": "3m8pznQx25vC",
        "colab_type": "code",
        "colab": {
          "base_uri": "https://localhost:8080/",
          "height": 901
        },
        "outputId": "e3bed4e5-3fc7-4199-b873-9335dd5684cd"
      },
      "source": [
        "tokens=[token.lower() for token in tokens]\n",
        "tokens"
      ],
      "execution_count": 33,
      "outputs": [
        {
          "output_type": "execute_result",
          "data": {
            "text/plain": [
              "['the',\n",
              " 'indian',\n",
              " 'armed',\n",
              " 'forces',\n",
              " 'not',\n",
              " 'only',\n",
              " 'ensure',\n",
              " 'protection',\n",
              " 'of',\n",
              " 'human',\n",
              " 'rights',\n",
              " 'of',\n",
              " 'our',\n",
              " 'own',\n",
              " 'people',\n",
              " 'but',\n",
              " 'also',\n",
              " 'of',\n",
              " 'adversaries',\n",
              " 'and',\n",
              " 'deal',\n",
              " 'with',\n",
              " 'the',\n",
              " 'prisoners',\n",
              " 'of',\n",
              " 'war',\n",
              " 'as',\n",
              " 'per',\n",
              " 'the',\n",
              " 'geneva',\n",
              " 'conventions',\n",
              " 'gen',\n",
              " 'rawat',\n",
              " 'said',\n",
              " 'at',\n",
              " 'the',\n",
              " 'national',\n",
              " 'human',\n",
              " 'rights',\n",
              " 'commission',\n",
              " 'on',\n",
              " 'preserving',\n",
              " 'human',\n",
              " 'rights',\n",
              " 'in',\n",
              " 'times',\n",
              " 'of',\n",
              " 'war',\n",
              " 'and',\n",
              " 'prisoners',\n",
              " 'of',\n",
              " 'war']"
            ]
          },
          "metadata": {
            "tags": []
          },
          "execution_count": 33
        }
      ]
    }
  ]
}