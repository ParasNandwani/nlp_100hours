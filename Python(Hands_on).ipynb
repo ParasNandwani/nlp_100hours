{
  "nbformat": 4,
  "nbformat_minor": 0,
  "metadata": {
    "colab": {
      "name": "Python(Hands-on).ipynb",
      "provenance": [],
      "collapsed_sections": [],
      "include_colab_link": true
    },
    "kernelspec": {
      "name": "python3",
      "display_name": "Python 3"
    }
  },
  "cells": [
    {
      "cell_type": "markdown",
      "metadata": {
        "id": "view-in-github",
        "colab_type": "text"
      },
      "source": [
        "<a href=\"https://colab.research.google.com/github/ParasNandwani/nlp_100hours/blob/master/Python(Hands_on).ipynb\" target=\"_parent\"><img src=\"https://colab.research.google.com/assets/colab-badge.svg\" alt=\"Open In Colab\"/></a>"
      ]
    },
    {
      "cell_type": "code",
      "metadata": {
        "id": "dRHc_7zsiAoA",
        "colab_type": "code",
        "outputId": "bcc13a5a-ad9b-4d0a-f815-57a5ffc3e706",
        "colab": {
          "base_uri": "https://localhost:8080/",
          "height": 34
        }
      },
      "source": [
        "# Using int data type\n",
        "\n",
        "i=100\n",
        "type(i)"
      ],
      "execution_count": 0,
      "outputs": [
        {
          "output_type": "execute_result",
          "data": {
            "text/plain": [
              "int"
            ]
          },
          "metadata": {
            "tags": []
          },
          "execution_count": 4
        }
      ]
    },
    {
      "cell_type": "code",
      "metadata": {
        "id": "TNf43kwpiR2E",
        "colab_type": "code",
        "outputId": "827213fc-0eab-4d4f-a3d4-cae6edd6b25a",
        "colab": {
          "base_uri": "https://localhost:8080/",
          "height": 34
        }
      },
      "source": [
        "# usingfloat data type\n",
        "f=12.4\n",
        "type(f)"
      ],
      "execution_count": 0,
      "outputs": [
        {
          "output_type": "execute_result",
          "data": {
            "text/plain": [
              "float"
            ]
          },
          "metadata": {
            "tags": []
          },
          "execution_count": 3
        }
      ]
    },
    {
      "cell_type": "code",
      "metadata": {
        "id": "8LdOWShQisGD",
        "colab_type": "code",
        "outputId": "af46af2e-43ee-4863-b630-c8e516487c62",
        "colab": {
          "base_uri": "https://localhost:8080/",
          "height": 34
        }
      },
      "source": [
        "# using complex type\n",
        "x=2+3j\n",
        "type(x)"
      ],
      "execution_count": 0,
      "outputs": [
        {
          "output_type": "execute_result",
          "data": {
            "text/plain": [
              "complex"
            ]
          },
          "metadata": {
            "tags": []
          },
          "execution_count": 5
        }
      ]
    },
    {
      "cell_type": "markdown",
      "metadata": {
        "id": "bjKBgdfDi8sJ",
        "colab_type": "text"
      },
      "source": [
        "### Python Data Structure\n",
        "**Lists**.     \n",
        "Lists are Python's most flexible ordered collection of object type.List can contain any sort of object:number,string and even other list.     \n",
        "**Basic List Operation**\n"
      ]
    },
    {
      "cell_type": "code",
      "metadata": {
        "id": "uYj586X9i28d",
        "colab_type": "code",
        "outputId": "6029dd9f-b65f-429a-c4ed-83b7c6835606",
        "colab": {
          "base_uri": "https://localhost:8080/",
          "height": 34
        }
      },
      "source": [
        "cities=[\"Mumbai\",\"Banglore\",\"hyderabad\",\"Chennai\",\"Delhi\"]\n",
        "print(cities)"
      ],
      "execution_count": 0,
      "outputs": [
        {
          "output_type": "stream",
          "text": [
            "['Mumbai', 'Banglore', 'hyderabad', 'Chennai', 'Delhi']\n"
          ],
          "name": "stdout"
        }
      ]
    },
    {
      "cell_type": "code",
      "metadata": {
        "id": "ZFIrwoCijxkI",
        "colab_type": "code",
        "outputId": "f293e122-5931-4f82-c51f-5be7d31867f0",
        "colab": {
          "base_uri": "https://localhost:8080/",
          "height": 34
        }
      },
      "source": [
        "# length of cities list\n",
        "len(cities)"
      ],
      "execution_count": 0,
      "outputs": [
        {
          "output_type": "execute_result",
          "data": {
            "text/plain": [
              "5"
            ]
          },
          "metadata": {
            "tags": []
          },
          "execution_count": 7
        }
      ]
    },
    {
      "cell_type": "code",
      "metadata": {
        "id": "5IX2jdGtj2ME",
        "colab_type": "code",
        "outputId": "ffad8a77-7be6-4b5d-aff8-a07e1d7ee806",
        "colab": {
          "base_uri": "https://localhost:8080/",
          "height": 34
        }
      },
      "source": [
        "# indexing and list slicing (Python index list start from 0)\n",
        "cities[1]"
      ],
      "execution_count": 0,
      "outputs": [
        {
          "output_type": "execute_result",
          "data": {
            "text/plain": [
              "'Banglore'"
            ]
          },
          "metadata": {
            "tags": []
          },
          "execution_count": 8
        }
      ]
    },
    {
      "cell_type": "code",
      "metadata": {
        "id": "WVeIeAb5kBvk",
        "colab_type": "code",
        "outputId": "99073121-8670-48f9-b580-18324cd09b19",
        "colab": {
          "base_uri": "https://localhost:8080/",
          "height": 34
        }
      },
      "source": [
        "cities[-1]  # prinths last element in list\n"
      ],
      "execution_count": 0,
      "outputs": [
        {
          "output_type": "execute_result",
          "data": {
            "text/plain": [
              "'Delhi'"
            ]
          },
          "metadata": {
            "tags": []
          },
          "execution_count": 10
        }
      ]
    },
    {
      "cell_type": "code",
      "metadata": {
        "id": "Kq4M1kg2kLUQ",
        "colab_type": "code",
        "outputId": "e8ec0515-c4a5-40ba-bd8b-c70cb3e7bf94",
        "colab": {
          "base_uri": "https://localhost:8080/",
          "height": 34
        }
      },
      "source": [
        "# Inorder to add multiple cities together in the list we add extend method\n",
        "\n",
        "cities.extend(['Pune','Noida','Gurgaon'])\n",
        "print(cities)"
      ],
      "execution_count": 0,
      "outputs": [
        {
          "output_type": "stream",
          "text": [
            "['Mumbai', 'Banglore', 'hyderabad', 'Chennai', 'Delhi', 'Pune', 'Noida', 'Gurgaon']\n"
          ],
          "name": "stdout"
        }
      ]
    },
    {
      "cell_type": "code",
      "metadata": {
        "id": "CIStwbaOkikm",
        "colab_type": "code",
        "outputId": "b58bcd35-5f1d-4f06-8dae-a1a51418b71e",
        "colab": {
          "base_uri": "https://localhost:8080/",
          "height": 34
        }
      },
      "source": [
        "cities[0:3]# prints elements upto 2nd index"
      ],
      "execution_count": 0,
      "outputs": [
        {
          "output_type": "execute_result",
          "data": {
            "text/plain": [
              "['Mumbai', 'Banglore', 'hyderabad']"
            ]
          },
          "metadata": {
            "tags": []
          },
          "execution_count": 13
        }
      ]
    },
    {
      "cell_type": "code",
      "metadata": {
        "id": "mV0eTacpksaz",
        "colab_type": "code",
        "outputId": "75a6297b-0d69-44f2-9999-903173a3c831",
        "colab": {
          "base_uri": "https://localhost:8080/",
          "height": 34
        }
      },
      "source": [
        "print(cities[0:4:1]) #[startIndex:stopIndex:stepSize]"
      ],
      "execution_count": 0,
      "outputs": [
        {
          "output_type": "stream",
          "text": [
            "['Mumbai', 'Banglore', 'hyderabad', 'Chennai']\n"
          ],
          "name": "stdout"
        }
      ]
    },
    {
      "cell_type": "code",
      "metadata": {
        "id": "Mx6N_wTvlCWi",
        "colab_type": "code",
        "outputId": "51add0ff-d46a-4ebd-ae64-ad16beaa2722",
        "colab": {
          "base_uri": "https://localhost:8080/",
          "height": 34
        }
      },
      "source": [
        "print(cities[0:7:2]) #[startIndex:stopIndex:stepSize]"
      ],
      "execution_count": 0,
      "outputs": [
        {
          "output_type": "stream",
          "text": [
            "['Mumbai', 'hyderabad', 'Delhi', 'Noida']\n"
          ],
          "name": "stdout"
        }
      ]
    },
    {
      "cell_type": "markdown",
      "metadata": {
        "id": "mr5yJrMolJKa",
        "colab_type": "text"
      },
      "source": [
        "**List Comprehension**.   \n",
        "List comprehension is a way to build a new list by applying an expression to each item in a sequence and are close relative to for loops\n",
        "\n"
      ]
    },
    {
      "cell_type": "code",
      "metadata": {
        "id": "1iHM5EYTlGwX",
        "colab_type": "code",
        "outputId": "ca0cde4d-c8d6-4f48-91cf-5fe75b2a4339",
        "colab": {
          "base_uri": "https://localhost:8080/",
          "height": 34
        }
      },
      "source": [
        "list_a=[1,2,4,3]\n",
        "list_b=[2,3,4,5]\n",
        "\n",
        "common=[a for a in list_a for b in list_b if a==b]\n",
        "\n",
        "print(common)"
      ],
      "execution_count": 0,
      "outputs": [
        {
          "output_type": "stream",
          "text": [
            "[2, 4, 3]\n"
          ],
          "name": "stdout"
        }
      ]
    },
    {
      "cell_type": "markdown",
      "metadata": {
        "id": "0E8D5TCpmTL-",
        "colab_type": "text"
      },
      "source": [
        "**List method calls**.    "
      ]
    },
    {
      "cell_type": "code",
      "metadata": {
        "id": "M5GIGT9tlxsR",
        "colab_type": "code",
        "outputId": "64498821-be7e-4e17-bba0-25cf588342bb",
        "colab": {
          "base_uri": "https://localhost:8080/",
          "height": 187
        }
      },
      "source": [
        "# append list by adding a city 'Chennai' to it at the end\n",
        "print(cities)\n",
        "cities.append('Chennai')\n",
        "cities"
      ],
      "execution_count": 0,
      "outputs": [
        {
          "output_type": "stream",
          "text": [
            "['Mumbai', 'Banglore', 'hyderabad', 'Chennai', 'Delhi', 'Pune', 'Noida', 'Gurgaon']\n"
          ],
          "name": "stdout"
        },
        {
          "output_type": "execute_result",
          "data": {
            "text/plain": [
              "['Mumbai',\n",
              " 'Banglore',\n",
              " 'hyderabad',\n",
              " 'Chennai',\n",
              " 'Delhi',\n",
              " 'Pune',\n",
              " 'Noida',\n",
              " 'Gurgaon',\n",
              " 'Chennai']"
            ]
          },
          "metadata": {
            "tags": []
          },
          "execution_count": 18
        }
      ]
    },
    {
      "cell_type": "code",
      "metadata": {
        "id": "DxutLKAZnQn0",
        "colab_type": "code",
        "outputId": "bc670e31-a45b-46f1-e77e-57882b47fada",
        "colab": {
          "base_uri": "https://localhost:8080/",
          "height": 170
        }
      },
      "source": [
        "# Sort the list in alphabetical order\n",
        "cities.sort()\n",
        "cities"
      ],
      "execution_count": 0,
      "outputs": [
        {
          "output_type": "execute_result",
          "data": {
            "text/plain": [
              "['Banglore',\n",
              " 'Chennai',\n",
              " 'Chennai',\n",
              " 'Delhi',\n",
              " 'Gurgaon',\n",
              " 'Mumbai',\n",
              " 'Noida',\n",
              " 'Pune',\n",
              " 'hyderabad']"
            ]
          },
          "metadata": {
            "tags": []
          },
          "execution_count": 19
        }
      ]
    },
    {
      "cell_type": "code",
      "metadata": {
        "id": "ttPSveoCncST",
        "colab_type": "code",
        "outputId": "1be35ffd-922a-4f0d-e06f-1256faffb65e",
        "colab": {
          "base_uri": "https://localhost:8080/",
          "height": 34
        }
      },
      "source": [
        "# Removing cities from a list we use pop method (removes last element from list)\n",
        "cities.pop()\n",
        "print(cities)"
      ],
      "execution_count": 0,
      "outputs": [
        {
          "output_type": "stream",
          "text": [
            "['Banglore', 'Chennai', 'Chennai', 'Delhi', 'Gurgaon', 'Mumbai', 'Noida']\n"
          ],
          "name": "stdout"
        }
      ]
    },
    {
      "cell_type": "code",
      "metadata": {
        "id": "61Uh_CRFnvd6",
        "colab_type": "code",
        "outputId": "829ba1c5-f8e9-4433-8823-e87a6818330c",
        "colab": {
          "base_uri": "https://localhost:8080/",
          "height": 34
        }
      },
      "source": [
        "# To remove a city from list we can also use remove method\n",
        "cities.remove('Chennai')\n",
        "print(cities)"
      ],
      "execution_count": 0,
      "outputs": [
        {
          "output_type": "stream",
          "text": [
            "['Banglore', 'Delhi', 'Gurgaon', 'Mumbai', 'Noida']\n"
          ],
          "name": "stdout"
        }
      ]
    },
    {
      "cell_type": "markdown",
      "metadata": {
        "id": "m8kOt12nppxB",
        "colab_type": "text"
      },
      "source": [
        "**Difference between sort() and sorted()**.    \n",
        "The primary difference between the list sort() function and the sorted() function is that the sort() function will modify the list it is called on. The sorted() function will create a new list containing a sorted version of the list it is given. The sorted() function will not modify the list passed as a parameter. If you want to sort a list but still have the original unsorted version, then you would use the sorted() function. If maintaining the original order of the list is unimportant, then you can call the sort() function on the list."
      ]
    },
    {
      "cell_type": "code",
      "metadata": {
        "id": "OB1QgqrYppeX",
        "colab_type": "code",
        "outputId": "d9c12289-d5e8-49a7-f968-32a1854559cc",
        "colab": {
          "base_uri": "https://localhost:8080/",
          "height": 34
        }
      },
      "source": [
        "print(cities)"
      ],
      "execution_count": 0,
      "outputs": [
        {
          "output_type": "stream",
          "text": [
            "['Banglore', 'Delhi', 'Gurgaon', 'Mumbai', 'Noida']\n"
          ],
          "name": "stdout"
        }
      ]
    },
    {
      "cell_type": "markdown",
      "metadata": {
        "id": "XVaxYNe7qQZa",
        "colab_type": "text"
      },
      "source": [
        "**Difference between pop() and remove() method**.    \n",
        "Use del to remove an element by index, pop() to remove it by index if you need the returned value, and remove() to delete an element by value"
      ]
    },
    {
      "cell_type": "code",
      "metadata": {
        "id": "qj5JRZnQoCeA",
        "colab_type": "code",
        "colab": {}
      },
      "source": [
        "deleteList=[1,2,4,5,6,6,7,8,9]"
      ],
      "execution_count": 0,
      "outputs": []
    },
    {
      "cell_type": "code",
      "metadata": {
        "id": "wyicsHfK9oR3",
        "colab_type": "code",
        "outputId": "69ca1454-ea03-4176-c117-fb5d445561b4",
        "colab": {
          "base_uri": "https://localhost:8080/",
          "height": 34
        }
      },
      "source": [
        "del deleteList[3]\n",
        "\n",
        "print(deleteList)"
      ],
      "execution_count": 0,
      "outputs": [
        {
          "output_type": "stream",
          "text": [
            "[1, 2, 4, 6, 6, 7, 8, 9]\n"
          ],
          "name": "stdout"
        }
      ]
    },
    {
      "cell_type": "code",
      "metadata": {
        "id": "j0nWYf1e9xa7",
        "colab_type": "code",
        "outputId": "e942a07b-5bcc-471e-ff59-515da44362fe",
        "colab": {
          "base_uri": "https://localhost:8080/",
          "height": 34
        }
      },
      "source": [
        "element=deleteList.pop()\n",
        "print(element)"
      ],
      "execution_count": 0,
      "outputs": [
        {
          "output_type": "stream",
          "text": [
            "9\n"
          ],
          "name": "stdout"
        }
      ]
    },
    {
      "cell_type": "code",
      "metadata": {
        "id": "LlWVluu494AG",
        "colab_type": "code",
        "outputId": "e3197426-1a62-4567-be6a-108a878d4b9e",
        "colab": {
          "base_uri": "https://localhost:8080/",
          "height": 34
        }
      },
      "source": [
        "deleteList.remove(6)\n",
        "print(deleteList)"
      ],
      "execution_count": 0,
      "outputs": [
        {
          "output_type": "stream",
          "text": [
            "[1, 2, 4, 6, 7, 8]\n"
          ],
          "name": "stdout"
        }
      ]
    },
    {
      "cell_type": "code",
      "metadata": {
        "id": "eoXJWVNh-EyG",
        "colab_type": "code",
        "outputId": "ab47dda1-5004-436b-85c7-b386f9f612ee",
        "colab": {
          "base_uri": "https://localhost:8080/",
          "height": 34
        }
      },
      "source": [
        "# insert takes two arguments insert(index,objectToInsert)\n",
        "deleteList.insert(5,10)\n",
        "print(deleteList)"
      ],
      "execution_count": 0,
      "outputs": [
        {
          "output_type": "stream",
          "text": [
            "[1, 2, 4, 6, 7, 10, 8, 10]\n"
          ],
          "name": "stdout"
        }
      ]
    },
    {
      "cell_type": "code",
      "metadata": {
        "id": "ZrwPJ8VG-nCa",
        "colab_type": "code",
        "outputId": "2011304f-a034-4bed-82d1-f99d0a8d0724",
        "colab": {
          "base_uri": "https://localhost:8080/",
          "height": 34
        }
      },
      "source": [
        "# index function returns the firts occuring index of element\n",
        "deleteList.index(10)"
      ],
      "execution_count": 0,
      "outputs": [
        {
          "output_type": "execute_result",
          "data": {
            "text/plain": [
              "5"
            ]
          },
          "metadata": {
            "tags": []
          },
          "execution_count": 8
        }
      ]
    },
    {
      "cell_type": "code",
      "metadata": {
        "id": "b7AjPxn--7ZJ",
        "colab_type": "code",
        "outputId": "17529f3d-ff44-40b3-b63d-d05b734e12e2",
        "colab": {
          "base_uri": "https://localhost:8080/",
          "height": 34
        }
      },
      "source": [
        "del deleteList[5:]\n",
        "deleteList"
      ],
      "execution_count": 0,
      "outputs": [
        {
          "output_type": "execute_result",
          "data": {
            "text/plain": [
              "[1, 2, 4, 6, 7]"
            ]
          },
          "metadata": {
            "tags": []
          },
          "execution_count": 10
        }
      ]
    },
    {
      "cell_type": "code",
      "metadata": {
        "id": "NUlcPvgJNQrk",
        "colab_type": "code",
        "colab": {}
      },
      "source": [
        "del(deleteList)"
      ],
      "execution_count": 0,
      "outputs": []
    },
    {
      "cell_type": "code",
      "metadata": {
        "id": "KrXXtfQWNUeU",
        "colab_type": "code",
        "outputId": "213f9b45-fad8-4c60-9c74-38060b1cba0c",
        "colab": {
          "base_uri": "https://localhost:8080/",
          "height": 164
        }
      },
      "source": [
        "print(deleteList)"
      ],
      "execution_count": 0,
      "outputs": [
        {
          "output_type": "error",
          "ename": "NameError",
          "evalue": "ignored",
          "traceback": [
            "\u001b[0;31m---------------------------------------------------------------------------\u001b[0m",
            "\u001b[0;31mNameError\u001b[0m                                 Traceback (most recent call last)",
            "\u001b[0;32m<ipython-input-12-2d8d43ee0cfd>\u001b[0m in \u001b[0;36m<module>\u001b[0;34m()\u001b[0m\n\u001b[0;32m----> 1\u001b[0;31m \u001b[0mprint\u001b[0m\u001b[0;34m(\u001b[0m\u001b[0mdeleteList\u001b[0m\u001b[0;34m)\u001b[0m\u001b[0;34m\u001b[0m\u001b[0;34m\u001b[0m\u001b[0m\n\u001b[0m",
            "\u001b[0;31mNameError\u001b[0m: name 'deleteList' is not defined"
          ]
        }
      ]
    },
    {
      "cell_type": "markdown",
      "metadata": {
        "id": "4147SN8iNfeW",
        "colab_type": "text"
      },
      "source": [
        "**Dictionaries**.    \n",
        "a dictionary is written as a series of key:value pairs, separated by commas, enclosed in curly braces.      \n",
        "**Basic Dictionary Operations**\n",
        "\n",
        "\n"
      ]
    },
    {
      "cell_type": "code",
      "metadata": {
        "id": "9QfgFY8CNYBZ",
        "colab_type": "code",
        "outputId": "b6301e87-dbff-4625-a25b-8293b7d8243f",
        "colab": {
          "base_uri": "https://localhost:8080/",
          "height": 34
        }
      },
      "source": [
        "sample_dict={'a':'apple','b':'ball','c':'cat'}\n",
        "print(sample_dict)"
      ],
      "execution_count": 0,
      "outputs": [
        {
          "output_type": "stream",
          "text": [
            "{'a': 'apple', 'b': 'ball', 'c': 'cat'}\n"
          ],
          "name": "stdout"
        }
      ]
    },
    {
      "cell_type": "code",
      "metadata": {
        "id": "e7z6P2KIN_yH",
        "colab_type": "code",
        "outputId": "91af9022-6816-4974-b61c-1f30200b8736",
        "colab": {
          "base_uri": "https://localhost:8080/",
          "height": 34
        }
      },
      "source": [
        "# accessing dictionary elements\n",
        "print(sample_dict['b'])"
      ],
      "execution_count": 0,
      "outputs": [
        {
          "output_type": "stream",
          "text": [
            "ball\n"
          ],
          "name": "stdout"
        }
      ]
    },
    {
      "cell_type": "code",
      "metadata": {
        "id": "vYRO6KqqOLdA",
        "colab_type": "code",
        "outputId": "46be910e-b5fc-47b0-906b-8d9f04da62ab",
        "colab": {
          "base_uri": "https://localhost:8080/",
          "height": 34
        }
      },
      "source": [
        "# Accessing using get method\n",
        "print(sample_dict.get('b'))"
      ],
      "execution_count": 0,
      "outputs": [
        {
          "output_type": "stream",
          "text": [
            "ball\n"
          ],
          "name": "stdout"
        }
      ]
    },
    {
      "cell_type": "code",
      "metadata": {
        "id": "68vwcJXPOS_M",
        "colab_type": "code",
        "outputId": "16df51a5-72f0-463b-e607-4751b603aaff",
        "colab": {
          "base_uri": "https://localhost:8080/",
          "height": 34
        }
      },
      "source": [
        "# Accesing items(keys,values) of dictionary sample dict\n",
        "sample_dict.items()"
      ],
      "execution_count": 0,
      "outputs": [
        {
          "output_type": "execute_result",
          "data": {
            "text/plain": [
              "dict_items([('a', 'apple'), ('b', 'ball'), ('c', 'cat')])"
            ]
          },
          "metadata": {
            "tags": []
          },
          "execution_count": 16
        }
      ]
    },
    {
      "cell_type": "code",
      "metadata": {
        "id": "f88i_30eoqXv",
        "colab_type": "code",
        "outputId": "6c79b78b-04de-47f2-e512-1df978e59c7a",
        "colab": {
          "base_uri": "https://localhost:8080/",
          "height": 34
        }
      },
      "source": [
        "# accessing only the keys\n",
        "sample_dict.keys()"
      ],
      "execution_count": 0,
      "outputs": [
        {
          "output_type": "execute_result",
          "data": {
            "text/plain": [
              "dict_keys(['a', 'b', 'c'])"
            ]
          },
          "metadata": {
            "tags": []
          },
          "execution_count": 18
        }
      ]
    },
    {
      "cell_type": "code",
      "metadata": {
        "id": "ha5mjWRBo20c",
        "colab_type": "code",
        "outputId": "94ee6cf9-19e0-42f7-edab-c6d0fccd1d6d",
        "colab": {
          "base_uri": "https://localhost:8080/",
          "height": 34
        }
      },
      "source": [
        "sample_dict.values()"
      ],
      "execution_count": 0,
      "outputs": [
        {
          "output_type": "execute_result",
          "data": {
            "text/plain": [
              "dict_values(['apple', 'ball', 'cat'])"
            ]
          },
          "metadata": {
            "tags": []
          },
          "execution_count": 19
        }
      ]
    },
    {
      "cell_type": "code",
      "metadata": {
        "id": "7aiFf__jo7Ma",
        "colab_type": "code",
        "outputId": "7c728882-7b79-4747-adc1-396cac390d45",
        "colab": {
          "base_uri": "https://localhost:8080/",
          "height": 102
        }
      },
      "source": [
        "# iterating over dictionary\n",
        "print(\"-\"*20)\n",
        "for items in sample_dict.items():\n",
        "  print(items)\n",
        "print(\"-\"*20)"
      ],
      "execution_count": 0,
      "outputs": [
        {
          "output_type": "stream",
          "text": [
            "--------------------\n",
            "('a', 'apple')\n",
            "('b', 'ball')\n",
            "('c', 'cat')\n",
            "--------------------\n"
          ],
          "name": "stdout"
        }
      ]
    },
    {
      "cell_type": "code",
      "metadata": {
        "id": "GjMxA3DGpWDf",
        "colab_type": "code",
        "outputId": "9bd12dc4-6154-4878-f50f-4f86618d1fa0",
        "colab": {
          "base_uri": "https://localhost:8080/",
          "height": 68
        }
      },
      "source": [
        "# Extracting items by iterating over dictionary keys\n",
        "for keys in sample_dict.keys():\n",
        "  print(keys,\":\",sample_dict[keys])"
      ],
      "execution_count": 0,
      "outputs": [
        {
          "output_type": "stream",
          "text": [
            "a : apple\n",
            "b : ball\n",
            "c : cat\n"
          ],
          "name": "stdout"
        }
      ]
    },
    {
      "cell_type": "code",
      "metadata": {
        "id": "rbRK-s6rpmu5",
        "colab_type": "code",
        "outputId": "d83d3feb-bd44-4312-f3dc-c6c1914640fc",
        "colab": {
          "base_uri": "https://localhost:8080/",
          "height": 34
        }
      },
      "source": [
        "# updating value on key\n",
        "sample_dict['a']='grapes'\n",
        "print(sample_dict)"
      ],
      "execution_count": 0,
      "outputs": [
        {
          "output_type": "stream",
          "text": [
            "{'a': 'grapes', 'b': 'ball', 'c': 'cat'}\n"
          ],
          "name": "stdout"
        }
      ]
    },
    {
      "cell_type": "code",
      "metadata": {
        "id": "qpSDIud6qQ_Q",
        "colab_type": "code",
        "outputId": "c3717b2b-5831-4c82-8b35-c6f25a382469",
        "colab": {
          "base_uri": "https://localhost:8080/",
          "height": 34
        }
      },
      "source": [
        "# removing values from keys\n",
        "sample_dict.pop('a')\n",
        "print(sample_dict)"
      ],
      "execution_count": 0,
      "outputs": [
        {
          "output_type": "stream",
          "text": [
            "{'b': 'ball', 'c': 'cat'}\n"
          ],
          "name": "stdout"
        }
      ]
    },
    {
      "cell_type": "code",
      "metadata": {
        "id": "vu4SpOMPqitM",
        "colab_type": "code",
        "outputId": "f05efc12-46b4-4d61-faf2-61b0968a8dfc",
        "colab": {
          "base_uri": "https://localhost:8080/",
          "height": 34
        }
      },
      "source": [
        "# removing or clearing all the elements from dictionary\n",
        "sample_dict.clear()\n",
        "print(sample_dict)"
      ],
      "execution_count": 0,
      "outputs": [
        {
          "output_type": "stream",
          "text": [
            "{}\n"
          ],
          "name": "stdout"
        }
      ]
    },
    {
      "cell_type": "code",
      "metadata": {
        "id": "jyPCyGtwqxbe",
        "colab_type": "code",
        "outputId": "ea555e28-28e9-49e7-e1bf-4dfb8f138a9a",
        "colab": {
          "base_uri": "https://localhost:8080/",
          "height": 34
        }
      },
      "source": [
        "sample_dict={'a':'apple','b':'ball','c':'cat'}\n",
        "print(sample_dict)"
      ],
      "execution_count": 0,
      "outputs": [
        {
          "output_type": "stream",
          "text": [
            "{'a': 'apple', 'b': 'ball', 'c': 'cat'}\n"
          ],
          "name": "stdout"
        }
      ]
    },
    {
      "cell_type": "code",
      "metadata": {
        "id": "KPRLWBvQqzAR",
        "colab_type": "code",
        "outputId": "894850a5-6cd2-44b6-bf9d-f0a6d5a998c9",
        "colab": {
          "base_uri": "https://localhost:8080/",
          "height": 34
        }
      },
      "source": [
        "# popitem pops up or removes the last element in the dictionary\n",
        "sample_dict.popitem()\n",
        "sample_dict"
      ],
      "execution_count": 0,
      "outputs": [
        {
          "output_type": "execute_result",
          "data": {
            "text/plain": [
              "{'a': 'apple', 'b': 'ball'}"
            ]
          },
          "metadata": {
            "tags": []
          },
          "execution_count": 41
        }
      ]
    },
    {
      "cell_type": "markdown",
      "metadata": {
        "id": "2_usRHEDrO1s",
        "colab_type": "text"
      },
      "source": [
        "## Strings.   \n",
        "It's an ordered collection of characters,used to store and represent text based information."
      ]
    },
    {
      "cell_type": "code",
      "metadata": {
        "id": "ieSv2FQWrJtg",
        "colab_type": "code",
        "outputId": "a744b408-3f72-4d04-c842-d0c401a67665",
        "colab": {
          "base_uri": "https://localhost:8080/",
          "height": 51
        }
      },
      "source": [
        "# here ,\\n represents a new line character and \\t represents a tab character.\n",
        "s='a\\nb\\tc'\n",
        "print(s)"
      ],
      "execution_count": 0,
      "outputs": [
        {
          "output_type": "stream",
          "text": [
            "a\n",
            "b\tc\n"
          ],
          "name": "stdout"
        }
      ]
    },
    {
      "cell_type": "code",
      "metadata": {
        "id": "-wCXWXnwsbFf",
        "colab_type": "code",
        "outputId": "7d5683c0-f507-4de2-82f6-3af1d3048e6d",
        "colab": {
          "base_uri": "https://localhost:8080/",
          "height": 51
        }
      },
      "source": [
        "string=\"a\\nb\\x1f\\000d\"\n",
        "print(string)"
      ],
      "execution_count": 0,
      "outputs": [
        {
          "output_type": "stream",
          "text": [
            "a\n",
            "b\u001f\u0000d\n"
          ],
          "name": "stdout"
        }
      ]
    },
    {
      "cell_type": "code",
      "metadata": {
        "id": "vrMiYnRQtFt6",
        "colab_type": "code",
        "outputId": "ecec2642-e9a4-44af-fba9-e7fc18e5965d",
        "colab": {
          "base_uri": "https://localhost:8080/",
          "height": 51
        }
      },
      "source": [
        "# length of string\n",
        "s=\"hey there! what should this string be\"\n",
        "print(s)\n",
        "print(\"Length of string s= \",len(s))"
      ],
      "execution_count": 0,
      "outputs": [
        {
          "output_type": "stream",
          "text": [
            "hey there! what should this string be\n",
            "Length of string s=  37\n"
          ],
          "name": "stdout"
        }
      ]
    },
    {
      "cell_type": "code",
      "metadata": {
        "id": "DVZb5Qv0tel-",
        "colab_type": "code",
        "outputId": "c9a080fe-a3ce-422a-80b9-920c67713e46",
        "colab": {
          "base_uri": "https://localhost:8080/",
          "height": 34
        }
      },
      "source": [
        "# concatination of string\n",
        "combine=\"paras\"+\"nandwani\"\n",
        "combine"
      ],
      "execution_count": 0,
      "outputs": [
        {
          "output_type": "execute_result",
          "data": {
            "text/plain": [
              "'parasnandwani'"
            ]
          },
          "metadata": {
            "tags": []
          },
          "execution_count": 50
        }
      ]
    },
    {
      "cell_type": "code",
      "metadata": {
        "id": "VJ4kpa7evO59",
        "colab_type": "code",
        "outputId": "8acd6742-d45e-4d9b-c9ae-e54caacd551b",
        "colab": {
          "base_uri": "https://localhost:8080/",
          "height": 34
        }
      },
      "source": [
        "# repetition of string multiple times\n",
        "repeat=\"AI\"*5\n",
        "repeat"
      ],
      "execution_count": 0,
      "outputs": [
        {
          "output_type": "execute_result",
          "data": {
            "text/plain": [
              "'parasparasparasparasparas'"
            ]
          },
          "metadata": {
            "tags": []
          },
          "execution_count": 51
        }
      ]
    },
    {
      "cell_type": "code",
      "metadata": {
        "id": "L6WMVcQVwY4i",
        "colab_type": "code",
        "outputId": "d58bd90a-e08f-4467-f6fc-1b1ec90df3d0",
        "colab": {
          "base_uri": "https://localhost:8080/",
          "height": 181
        }
      },
      "source": [
        "# python dosen't allow to mix concatenate such as tring and integer.It raises an error.\n",
        "string=\"paras\"+10\n",
        "string"
      ],
      "execution_count": 0,
      "outputs": [
        {
          "output_type": "error",
          "ename": "TypeError",
          "evalue": "ignored",
          "traceback": [
            "\u001b[0;31m---------------------------------------------------------------------------\u001b[0m",
            "\u001b[0;31mTypeError\u001b[0m                                 Traceback (most recent call last)",
            "\u001b[0;32m<ipython-input-56-0a7fba7af160>\u001b[0m in \u001b[0;36m<module>\u001b[0;34m()\u001b[0m\n\u001b[0;32m----> 1\u001b[0;31m \u001b[0mstring\u001b[0m\u001b[0;34m=\u001b[0m\u001b[0;34m\"paras\"\u001b[0m\u001b[0;34m+\u001b[0m\u001b[0;36m10\u001b[0m\u001b[0;34m\u001b[0m\u001b[0;34m\u001b[0m\u001b[0m\n\u001b[0m\u001b[1;32m      2\u001b[0m \u001b[0mstring\u001b[0m\u001b[0;34m\u001b[0m\u001b[0;34m\u001b[0m\u001b[0m\n",
            "\u001b[0;31mTypeError\u001b[0m: must be str, not int"
          ]
        }
      ]
    },
    {
      "cell_type": "code",
      "metadata": {
        "id": "kSTdQNcSw4is",
        "colab_type": "code",
        "outputId": "8d49aefc-dbdd-40e8-b0b8-82e981f88ac5",
        "colab": {
          "base_uri": "https://localhost:8080/",
          "height": 34
        }
      },
      "source": [
        "los=\"Python for Beginners\"\n",
        "print(len(los))"
      ],
      "execution_count": 0,
      "outputs": [
        {
          "output_type": "stream",
          "text": [
            "20\n"
          ],
          "name": "stdout"
        }
      ]
    },
    {
      "cell_type": "code",
      "metadata": {
        "id": "19Qt3kpDxGgP",
        "colab_type": "code",
        "outputId": "e8da4d2c-3fc1-4367-b0dd-add0baf1c73d",
        "colab": {
          "base_uri": "https://localhost:8080/",
          "height": 34
        }
      },
      "source": [
        "string='Python'+'for'+'DataScience'\n",
        "print(string)"
      ],
      "execution_count": 128,
      "outputs": [
        {
          "output_type": "stream",
          "text": [
            "PythonforDataScience\n"
          ],
          "name": "stdout"
        }
      ]
    },
    {
      "cell_type": "code",
      "metadata": {
        "id": "S3iE9Y9JxOO1",
        "colab_type": "code",
        "outputId": "4010b52c-1547-4e32-bb62-de0e67c0a5a7",
        "colab": {
          "base_uri": "https://localhost:8080/",
          "height": 181
        }
      },
      "source": [
        "string2='only'+1.0\n",
        "print(string2)"
      ],
      "execution_count": 0,
      "outputs": [
        {
          "output_type": "error",
          "ename": "TypeError",
          "evalue": "ignored",
          "traceback": [
            "\u001b[0;31m---------------------------------------------------------------------------\u001b[0m",
            "\u001b[0;31mTypeError\u001b[0m                                 Traceback (most recent call last)",
            "\u001b[0;32m<ipython-input-59-481fd2235fd7>\u001b[0m in \u001b[0;36m<module>\u001b[0;34m()\u001b[0m\n\u001b[0;32m----> 1\u001b[0;31m \u001b[0mstring2\u001b[0m\u001b[0;34m=\u001b[0m\u001b[0;34m'only'\u001b[0m\u001b[0;34m+\u001b[0m\u001b[0;36m1.0\u001b[0m\u001b[0;34m\u001b[0m\u001b[0;34m\u001b[0m\u001b[0m\n\u001b[0m\u001b[1;32m      2\u001b[0m \u001b[0mprint\u001b[0m\u001b[0;34m(\u001b[0m\u001b[0mstring2\u001b[0m\u001b[0;34m)\u001b[0m\u001b[0;34m\u001b[0m\u001b[0;34m\u001b[0m\u001b[0m\n",
            "\u001b[0;31mTypeError\u001b[0m: must be str, not float"
          ]
        }
      ]
    },
    {
      "cell_type": "markdown",
      "metadata": {
        "id": "TtReJqSIyrVy",
        "colab_type": "text"
      },
      "source": [
        "**Indexing and Slicing**.    \n"
      ]
    },
    {
      "cell_type": "code",
      "metadata": {
        "id": "7ey4rUH3ylXN",
        "colab_type": "code",
        "outputId": "1c3283a0-86df-4b7f-ce77-5d4b65b9bbdc",
        "colab": {
          "base_uri": "https://localhost:8080/",
          "height": 34
        }
      },
      "source": [
        "# Index of a string\n",
        "s=\"Hey there! what should this tring be\"\n",
        "print(\"first occurence of letter a\",s.index('a'))"
      ],
      "execution_count": 0,
      "outputs": [
        {
          "output_type": "stream",
          "text": [
            "first occurence of letter a 13\n"
          ],
          "name": "stdout"
        }
      ]
    },
    {
      "cell_type": "code",
      "metadata": {
        "id": "199ZG8V4zQXN",
        "colab_type": "code",
        "outputId": "2fd07fda-c603-483c-a332-7e597799cc66",
        "colab": {
          "base_uri": "https://localhost:8080/",
          "height": 102
        }
      },
      "source": [
        "# slicing a string\n",
        "print(\"The first five characters of string are:-\",s[:5])\n",
        "print(\"The next five characters of string are:-\",s[5:10])\n",
        "print(\"The thirteenth character of string is :-\",s[12])\n",
        "print(\"Character with the odd index are:-\",s[1::2])\n",
        "print(\"The last 5 characters of string are:-\",s[-5:-1])"
      ],
      "execution_count": 0,
      "outputs": [
        {
          "output_type": "stream",
          "text": [
            "The first five characters of string are:- Hey t\n",
            "The next five characters of string are:- here!\n",
            "The thirteenth character of string is :- h\n",
            "Character with the odd index are:- e hr!wa hudti rn e\n",
            "The last 5 characters of string are:- ng b\n"
          ],
          "name": "stdout"
        }
      ]
    },
    {
      "cell_type": "markdown",
      "metadata": {
        "id": "Extf63Q62wa6",
        "colab_type": "text"
      },
      "source": [
        "**String Methods**.    \n",
        "String provides a set of methods that implement more sophisticated text-processing task.\n"
      ]
    },
    {
      "cell_type": "code",
      "metadata": {
        "id": "addrrApC2vog",
        "colab_type": "code",
        "outputId": "8e6480b6-9d28-4b5f-a2ea-8b36e46f5253",
        "colab": {
          "base_uri": "https://localhost:8080/",
          "height": 34
        }
      },
      "source": [
        "s = 'How are you doing?'\n",
        "s=s[:5]+'ab'+s[7:]\n",
        "print(s)"
      ],
      "execution_count": 0,
      "outputs": [
        {
          "output_type": "stream",
          "text": [
            "How aab you doing?\n"
          ],
          "name": "stdout"
        }
      ]
    },
    {
      "cell_type": "code",
      "metadata": {
        "id": "Al8u2u--3Vgz",
        "colab_type": "code",
        "outputId": "f37531dd-1fcf-4702-a694-bcc015addd63",
        "colab": {
          "base_uri": "https://localhost:8080/",
          "height": 34
        }
      },
      "source": [
        "# if we want to repace just a substring we can use the replace method\n",
        "s.replace('ab','re')"
      ],
      "execution_count": 0,
      "outputs": [
        {
          "output_type": "execute_result",
          "data": {
            "text/plain": [
              "'How are you doing?'"
            ]
          },
          "metadata": {
            "tags": []
          },
          "execution_count": 72
        }
      ]
    },
    {
      "cell_type": "code",
      "metadata": {
        "id": "zgdYC7oz3ndJ",
        "colab_type": "code",
        "outputId": "7754f5e8-a70b-4014-e973-23a7cac9b4c0",
        "colab": {
          "base_uri": "https://localhost:8080/",
          "height": 34
        }
      },
      "source": [
        "# inorder to know the offset of the substring in a string ,we can make use of find method \n",
        "str_find=s.find(\"you\")\n",
        "print(str_find)"
      ],
      "execution_count": 0,
      "outputs": [
        {
          "output_type": "stream",
          "text": [
            "8\n"
          ],
          "name": "stdout"
        }
      ]
    },
    {
      "cell_type": "code",
      "metadata": {
        "id": "m1wmspwM4Dhr",
        "colab_type": "code",
        "outputId": "992059b4-7681-420b-ed46-142fc3f3185d",
        "colab": {
          "base_uri": "https://localhost:8080/",
          "height": 34
        }
      },
      "source": [
        "# if we want to combine together multiple strings together in a list we will use join keyword\n",
        "\n",
        "lst=['Chilling','weather','now a days']\n",
        "join_str=\" \".join(lst)\n",
        "print(join_str)"
      ],
      "execution_count": 0,
      "outputs": [
        {
          "output_type": "stream",
          "text": [
            "Chilling weather now a days\n"
          ],
          "name": "stdout"
        }
      ]
    },
    {
      "cell_type": "code",
      "metadata": {
        "id": "6jHdjKTtJW20",
        "colab_type": "code",
        "outputId": "96a7a958-f51e-4d6a-e18b-d2f5808c108e",
        "colab": {
          "base_uri": "https://localhost:8080/",
          "height": 34
        }
      },
      "source": [
        "split_string='Welcome to Supervised Learning'\n",
        "split_string=split_string.split()\n",
        "split_string"
      ],
      "execution_count": 0,
      "outputs": [
        {
          "output_type": "execute_result",
          "data": {
            "text/plain": [
              "['Welcome', 'to', 'Supervised', 'Learning']"
            ]
          },
          "metadata": {
            "tags": []
          },
          "execution_count": 76
        }
      ]
    },
    {
      "cell_type": "code",
      "metadata": {
        "id": "JTd0jZ_VJkzy",
        "colab_type": "code",
        "outputId": "b4a548a3-390e-42f7-8fe8-14c32e25e7de",
        "colab": {
          "base_uri": "https://localhost:8080/",
          "height": 34
        }
      },
      "source": [
        "str1='Let\\'s begin the python tutorial  '\n",
        "str1.rstrip(str1)\n",
        "print(str1)"
      ],
      "execution_count": 0,
      "outputs": [
        {
          "output_type": "stream",
          "text": [
            "Let's begin the python tutorial  \n"
          ],
          "name": "stdout"
        }
      ]
    },
    {
      "cell_type": "code",
      "metadata": {
        "id": "lN6l0xJAJ958",
        "colab_type": "code",
        "outputId": "b5779223-14e9-4d3c-974e-9f7901bbcc59",
        "colab": {
          "base_uri": "https://localhost:8080/",
          "height": 34
        }
      },
      "source": [
        "strupr='Let begin the python tutorial'.upper()\n",
        "\n",
        "print(strupr)"
      ],
      "execution_count": 0,
      "outputs": [
        {
          "output_type": "stream",
          "text": [
            "LET BEGIN THE PYTHON TUTORIAL\n"
          ],
          "name": "stdout"
        }
      ]
    },
    {
      "cell_type": "code",
      "metadata": {
        "id": "6RDON_MkLq7T",
        "colab_type": "code",
        "outputId": "0db839c0-c82a-4f92-bd5a-7f5c1b8bcace",
        "colab": {
          "base_uri": "https://localhost:8080/",
          "height": 34
        }
      },
      "source": [
        "strupr.isalpha()"
      ],
      "execution_count": 0,
      "outputs": [
        {
          "output_type": "execute_result",
          "data": {
            "text/plain": [
              "False"
            ]
          },
          "metadata": {
            "tags": []
          },
          "execution_count": 83
        }
      ]
    },
    {
      "cell_type": "code",
      "metadata": {
        "id": "TC7B4Es2Lwz2",
        "colab_type": "code",
        "outputId": "fc7fa971-57af-4e2a-c035-0fe1af75b9b8",
        "colab": {
          "base_uri": "https://localhost:8080/",
          "height": 34
        }
      },
      "source": [
        "strupr.isupper()"
      ],
      "execution_count": 0,
      "outputs": [
        {
          "output_type": "execute_result",
          "data": {
            "text/plain": [
              "True"
            ]
          },
          "metadata": {
            "tags": []
          },
          "execution_count": 81
        }
      ]
    },
    {
      "cell_type": "code",
      "metadata": {
        "id": "DjjlL5nQL80B",
        "colab_type": "code",
        "outputId": "b5d64f46-6f56-4e6d-8d5b-c5cf92908f0e",
        "colab": {
          "base_uri": "https://localhost:8080/",
          "height": 34
        }
      },
      "source": [
        "strupr.endswith('IAL')"
      ],
      "execution_count": 0,
      "outputs": [
        {
          "output_type": "execute_result",
          "data": {
            "text/plain": [
              "True"
            ]
          },
          "metadata": {
            "tags": []
          },
          "execution_count": 87
        }
      ]
    },
    {
      "cell_type": "code",
      "metadata": {
        "id": "lThgrjfVMD1k",
        "colab_type": "code",
        "outputId": "10c16425-6893-4d13-a195-133b1537cac6",
        "colab": {
          "base_uri": "https://localhost:8080/",
          "height": 34
        }
      },
      "source": [
        "# Task\n",
        "String_var = \"\"\" This document will help you to explore all the concepts of Python Strings !!! \"\"\"\n",
        "\n",
        "print(String_var[7:-1])"
      ],
      "execution_count": 0,
      "outputs": [
        {
          "output_type": "stream",
          "text": [
            "ocument will help you to explore all the concepts of Python Strings!!!\n"
          ],
          "name": "stdout"
        }
      ]
    },
    {
      "cell_type": "code",
      "metadata": {
        "id": "uG08QYNBMan0",
        "colab_type": "code",
        "outputId": "caf314ff-0b4a-4882-cef2-af2b5d4da0da",
        "colab": {
          "base_uri": "https://localhost:8080/",
          "height": 34
        }
      },
      "source": [
        "String_var.replace(\"document\",\"task\")"
      ],
      "execution_count": 0,
      "outputs": [
        {
          "output_type": "execute_result",
          "data": {
            "text/plain": [
              "' This task will help you to explore all the concepts of Python Strings!!! '"
            ]
          },
          "metadata": {
            "tags": []
          },
          "execution_count": 98
        }
      ]
    },
    {
      "cell_type": "code",
      "metadata": {
        "id": "lnjPwmr6Mleq",
        "colab_type": "code",
        "outputId": "347cca59-dc3f-46c0-c544-1dcec6abc7ed",
        "colab": {
          "base_uri": "https://localhost:8080/",
          "height": 238
        }
      },
      "source": [
        "String_var.split()"
      ],
      "execution_count": 0,
      "outputs": [
        {
          "output_type": "execute_result",
          "data": {
            "text/plain": [
              "['This',\n",
              " 'document',\n",
              " 'will',\n",
              " 'help',\n",
              " 'you',\n",
              " 'to',\n",
              " 'explore',\n",
              " 'all',\n",
              " 'the',\n",
              " 'concepts',\n",
              " 'of',\n",
              " 'Python',\n",
              " 'Strings!!!']"
            ]
          },
          "metadata": {
            "tags": []
          },
          "execution_count": 99
        }
      ]
    },
    {
      "cell_type": "code",
      "metadata": {
        "id": "Yv70-c_HMpHe",
        "colab_type": "code",
        "outputId": "11821fd5-11e3-496a-af41-3d4905a13d8f",
        "colab": {
          "base_uri": "https://localhost:8080/",
          "height": 34
        }
      },
      "source": [
        "newStr=String_var.replace(\"!\",\"\")\n",
        "print(newStr)"
      ],
      "execution_count": 0,
      "outputs": [
        {
          "output_type": "stream",
          "text": [
            " This document will help you to explore all the concepts of Python Strings \n"
          ],
          "name": "stdout"
        }
      ]
    },
    {
      "cell_type": "code",
      "metadata": {
        "id": "gpdsIip_N1mi",
        "colab_type": "code",
        "outputId": "b18d78f6-09d0-4eb4-dc6f-f30ed628aa72",
        "colab": {
          "base_uri": "https://localhost:8080/",
          "height": 34
        }
      },
      "source": [
        "newStr.lower()"
      ],
      "execution_count": 0,
      "outputs": [
        {
          "output_type": "execute_result",
          "data": {
            "text/plain": [
              "' this document will help you to explore all the concepts of python strings '"
            ]
          },
          "metadata": {
            "tags": []
          },
          "execution_count": 109
        }
      ]
    },
    {
      "cell_type": "code",
      "metadata": {
        "id": "BM00iF6IN_of",
        "colab_type": "code",
        "outputId": "34d40d97-2de9-45e7-e291-0d5b05c062c4",
        "colab": {
          "base_uri": "https://localhost:8080/",
          "height": 34
        }
      },
      "source": [
        "newStr.isalpha()"
      ],
      "execution_count": 0,
      "outputs": [
        {
          "output_type": "execute_result",
          "data": {
            "text/plain": [
              "False"
            ]
          },
          "metadata": {
            "tags": []
          },
          "execution_count": 106
        }
      ]
    },
    {
      "cell_type": "code",
      "metadata": {
        "id": "c2I85WWEOI2B",
        "colab_type": "code",
        "outputId": "72bd427d-dc50-49dc-c06c-7f39b3a7feb0",
        "colab": {
          "base_uri": "https://localhost:8080/",
          "height": 51
        }
      },
      "source": [
        "newStr=newStr.rstrip()\n",
        "print(newStr)\n",
        "newStr.endswith('ngs')"
      ],
      "execution_count": 0,
      "outputs": [
        {
          "output_type": "stream",
          "text": [
            " This document will help you to explore all the concepts of Python Strings\n"
          ],
          "name": "stdout"
        },
        {
          "output_type": "execute_result",
          "data": {
            "text/plain": [
              "True"
            ]
          },
          "metadata": {
            "tags": []
          },
          "execution_count": 118
        }
      ]
    },
    {
      "cell_type": "markdown",
      "metadata": {
        "id": "q_kUbG8nPP7G",
        "colab_type": "text"
      },
      "source": [
        "**String Formatting Expressions**.    \n",
        "To format strings:\n",
        "\n",
        "- On the left of the % operator, provide a format string containing one or more embedded conversion targets, each of which starts with a % such as %d.\n",
        "- On the right of the % operator, provide the object that you want Python to insert into the format string on the left in place of the conversion target.\n"
      ]
    },
    {
      "cell_type": "code",
      "metadata": {
        "id": "sPHkoJu8PHJG",
        "colab_type": "code",
        "outputId": "f8d43b6d-3291-4405-86de-0cf5436833f5",
        "colab": {
          "base_uri": "https://localhost:8080/",
          "height": 34
        }
      },
      "source": [
        "frmt_str=\"it was a %d %s match\" %(1,'sided')\n",
        "print(frmt_str) "
      ],
      "execution_count": 0,
      "outputs": [
        {
          "output_type": "stream",
          "text": [
            "it was a 1 sided match\n"
          ],
          "name": "stdout"
        }
      ]
    },
    {
      "cell_type": "code",
      "metadata": {
        "id": "nrY4-51vPxuW",
        "colab_type": "code",
        "outputId": "f2a7b9cf-9012-4c00-e236-b24e7ca1e332",
        "colab": {
          "base_uri": "https://localhost:8080/",
          "height": 187
        }
      },
      "source": [
        "# For Loop\n",
        "grades = ['aa', 'ab', 'bb', 'bc', 'cc']\n",
        "\n",
        "for grade in range(len(grades)):\n",
        "    print(grade)\n",
        "    print(grades[grade])"
      ],
      "execution_count": 0,
      "outputs": [
        {
          "output_type": "stream",
          "text": [
            "0\n",
            "aa\n",
            "1\n",
            "ab\n",
            "2\n",
            "bb\n",
            "3\n",
            "bc\n",
            "4\n",
            "cc\n"
          ],
          "name": "stdout"
        }
      ]
    },
    {
      "cell_type": "code",
      "metadata": {
        "id": "t-kU3CLHP_-I",
        "colab_type": "code",
        "outputId": "7d3b5b13-3e36-4faf-e8f2-ec53d380e6a1",
        "colab": {
          "base_uri": "https://localhost:8080/",
          "height": 34
        }
      },
      "source": [
        "print(list(range(3,10,2)))"
      ],
      "execution_count": 0,
      "outputs": [
        {
          "output_type": "stream",
          "text": [
            "[3, 5, 7, 9]\n"
          ],
          "name": "stdout"
        }
      ]
    },
    {
      "cell_type": "markdown",
      "metadata": {
        "id": "Q5QENFe0Q5WJ",
        "colab_type": "text"
      },
      "source": [
        "**Handling Exceptions**.    \n"
      ]
    },
    {
      "cell_type": "code",
      "metadata": {
        "id": "HzKfu1j2QrH1",
        "colab_type": "code",
        "outputId": "25bec742-418c-42b5-f1b7-3d79fe5a14d1",
        "colab": {
          "base_uri": "https://localhost:8080/",
          "height": 68
        }
      },
      "source": [
        "print(\"We have 5 gauvas\")\n",
        "number=int(input(\"how many number of ways are we dividing guavas ?\"))\n",
        "try:\n",
        "  poundsEach=5/number\n",
        "  print(\"Each person gets\",poundsEach,\"punds of guavas\")\n",
        "except ZeroDivisionError:\n",
        "  print(\"ypu can't divide by Zero try again\")"
      ],
      "execution_count": 0,
      "outputs": [
        {
          "output_type": "stream",
          "text": [
            "We have 5 gauvas\n",
            "how many number of ways are we dividing guavas ?0\n",
            "ypu can't divide by Zero try again\n"
          ],
          "name": "stdout"
        }
      ]
    },
    {
      "cell_type": "markdown",
      "metadata": {
        "id": "0RIyOLwWSZ88",
        "colab_type": "text"
      },
      "source": [
        "**Lambda function**.    \n",
        "Lambda function are the small functions usually not more than a line."
      ]
    },
    {
      "cell_type": "code",
      "metadata": {
        "id": "hq8Ytu-WTcZA",
        "colab_type": "code",
        "colab": {}
      },
      "source": [
        "def multiply(x,y):\n",
        "  return x*y"
      ],
      "execution_count": 0,
      "outputs": []
    },
    {
      "cell_type": "code",
      "metadata": {
        "id": "BVdMd7zWTl1O",
        "colab_type": "code",
        "outputId": "20b3029c-12f9-4aac-b052-72f3555bae46",
        "colab": {
          "base_uri": "https://localhost:8080/",
          "height": 34
        }
      },
      "source": [
        "(lambda x,y : x+y)(3,4)"
      ],
      "execution_count": 0,
      "outputs": [
        {
          "output_type": "execute_result",
          "data": {
            "text/plain": [
              "7"
            ]
          },
          "metadata": {
            "tags": []
          },
          "execution_count": 126
        }
      ]
    },
    {
      "cell_type": "markdown",
      "metadata": {
        "id": "bszyOTNfT4RZ",
        "colab_type": "text"
      },
      "source": [
        "**Map function**.     \n",
        "Map function excepts a function object and any number of iterables like list,dictionary.it executes the function oobject for the each element in the sequence and returns a list of the elements modified by the object.\n"
      ]
    },
    {
      "cell_type": "code",
      "metadata": {
        "id": "6B1XoGIQTzvL",
        "colab_type": "code",
        "outputId": "d2091ee1-ad54-4ec9-dbd2-4074198130f4",
        "colab": {
          "base_uri": "https://localhost:8080/",
          "height": 34
        }
      },
      "source": [
        "map_output=list(map(lambda x:x*2,[1,2,3,4]))\n",
        "print(map_output)"
      ],
      "execution_count": 0,
      "outputs": [
        {
          "output_type": "stream",
          "text": [
            "[2, 4, 6, 8]\n"
          ],
          "name": "stdout"
        }
      ]
    }
  ]
}